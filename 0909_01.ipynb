{
 "cells": [
  {
   "cell_type": "code",
   "execution_count": 51,
   "id": "77029225-0cec-49e4-844d-411b4b182327",
   "metadata": {},
   "outputs": [],
   "source": [
    "def print_fn(a) :\n",
    "    return a\n",
    "    "
   ]
  },
  {
   "cell_type": "code",
   "execution_count": 53,
   "id": "924e0a3a-e680-41e4-9eda-bcff9fb200dd",
   "metadata": {},
   "outputs": [
    {
     "data": {
      "text/plain": [
       "[1, 2, 3, 4]"
      ]
     },
     "execution_count": 53,
     "metadata": {},
     "output_type": "execute_result"
    }
   ],
   "source": [
    "ls_list = [1,2,3,4]\n",
    "list(map(print_fn, ls_list))\n"
   ]
  },
  {
   "cell_type": "code",
   "execution_count": 57,
   "id": "e8560813-b37d-4176-ba0b-49c4a8c9ac0d",
   "metadata": {},
   "outputs": [],
   "source": [
    "def test (el) :\n",
    "    return el % 3 == 0\n",
    "    "
   ]
  },
  {
   "cell_type": "code",
   "execution_count": 63,
   "id": "03d826cb-77e6-4c00-8cc2-bf9665ab98b5",
   "metadata": {},
   "outputs": [
    {
     "data": {
      "text/plain": [
       "[3, 6]"
      ]
     },
     "execution_count": 63,
     "metadata": {},
     "output_type": "execute_result"
    }
   ],
   "source": [
    "ls_list = list(filter(test,[2,3,6,7]))\n",
    "ls_list"
   ]
  },
  {
   "cell_type": "code",
   "execution_count": 70,
   "id": "2ac56b65-b84b-4a1a-a692-59881989e28e",
   "metadata": {},
   "outputs": [
    {
     "name": "stdout",
     "output_type": "stream",
     "text": [
      "[3, 6, 9]\n"
     ]
    }
   ],
   "source": [
    "ls_3 = list(filter(lambda el : el % 3 == 0, [2,3,4,6,7,8,9]))\n",
    "print(ls_3)"
   ]
  },
  {
   "cell_type": "code",
   "execution_count": 71,
   "id": "b26efc0c-839a-4f3f-be36-5bf10fda2b55",
   "metadata": {},
   "outputs": [],
   "source": [
    "## zip 함수\n",
    "# 반복 가능한 데이터 객체들이 여러개 있다고 가정합니다.\n",
    "# 그리고 그 객체들이 갖고 있는 요소의 개수가 같다고 가정합니다.\n",
    "# 이 객체들을 zip함수의 인수로 넣으면, 인덱스가 같은 각각의 객체 요소값들로 묶인 또 다른 반복 가능한 데이터 객체가\n",
    "# 생성됨.\n"
   ]
  },
  {
   "cell_type": "code",
   "execution_count": 75,
   "id": "445f0727-8882-4591-b6a4-e4340ecca292",
   "metadata": {},
   "outputs": [
    {
     "data": {
      "text/plain": [
       "[(100, 100), (80, 100), (20, 100)]"
      ]
     },
     "execution_count": 75,
     "metadata": {},
     "output_type": "execute_result"
    }
   ],
   "source": [
    "tom_score = [100, 80, 20]\n",
    "jane_score = [100, 100,100]\n",
    "\n",
    "zip_list = list(zip(tom_score,jane_score))\n",
    "zip_list"
   ]
  },
  {
   "cell_type": "markdown",
   "id": "8ad6dc69-79c0-43b7-a874-8448b2075e1d",
   "metadata": {},
   "source": [
    "### 모듈 : 여러기능이 포함된 파이썬 파일...\n",
    "- 여러기능? 함수일 가능성 99.999%"
   ]
  },
  {
   "cell_type": "code",
   "execution_count": 81,
   "id": "5b542381-814a-4712-95b0-df15f0794f08",
   "metadata": {},
   "outputs": [],
   "source": [
    "import test3"
   ]
  },
  {
   "cell_type": "code",
   "execution_count": 83,
   "id": "e50330f7-7d14-4c92-948d-afa06d0038cb",
   "metadata": {},
   "outputs": [
    {
     "name": "stdout",
     "output_type": "stream",
     "text": [
      "10\n"
     ]
    }
   ],
   "source": [
    "result = test3.plus(1,2,3,4)\n",
    "print(result)"
   ]
  },
  {
   "cell_type": "code",
   "execution_count": 84,
   "id": "2ce3fd34-7e0e-4e7d-9726-7408370be6ca",
   "metadata": {},
   "outputs": [
    {
     "name": "stdout",
     "output_type": "stream",
     "text": [
      "24\n"
     ]
    }
   ],
   "source": [
    "result = test3.mul(1,2,3,4)\n",
    "print(result)"
   ]
  }
 ],
 "metadata": {
  "kernelspec": {
   "display_name": "Python 3 (ipykernel)",
   "language": "python",
   "name": "python3"
  },
  "language_info": {
   "codemirror_mode": {
    "name": "ipython",
    "version": 3
   },
   "file_extension": ".py",
   "mimetype": "text/x-python",
   "name": "python",
   "nbconvert_exporter": "python",
   "pygments_lexer": "ipython3",
   "version": "3.12.4"
  }
 },
 "nbformat": 4,
 "nbformat_minor": 5
}
