{
 "cells": [
  {
   "cell_type": "code",
   "execution_count": null,
   "id": "bfa7a900-494c-4b0c-8937-245d80242966",
   "metadata": {},
   "outputs": [],
   "source": [
    "def me1(a):\n",
    "    print()"
   ]
  },
  {
   "cell_type": "code",
   "execution_count": 1,
   "id": "6219de6e-cf70-471d-93c1-7e0eaa1032c9",
   "metadata": {},
   "outputs": [],
   "source": [
    "# 함수 생성 및 호출(사용)\n",
    "# 함수 생성과 호출은 다름.\n",
    "# 함수를 생성했다고 해서 함수 본문 안에 있는 내용이 실행 되지 않는다.\n",
    "# 함수를 호출해야 함수 본문 안에 있는 내용이 실행된다.\n",
    "# 함수 생성 시 매개변수 형태는 변수 선언 공식의 좌항과 동일하고\n",
    "# 함수 호출시 인수 형태는 변수 선언 공식의 우항과 동일하다\n"
   ]
  },
  {
   "cell_type": "code",
   "execution_count": 2,
   "id": "ee437d59-0b12-49e5-8c35-6f9d4fd45417",
   "metadata": {},
   "outputs": [],
   "source": [
    "int_Integer = 10\n",
    "str_String_1 =\"hello\"\n",
    "float_Float_1 = 3.14\n",
    "boolean_Boolean_1 = True\n",
    "ls_list_1 = [10,40,50]"
   ]
  },
  {
   "cell_type": "code",
   "execution_count": 4,
   "id": "00f32dbd-e2e5-4bd0-bffd-6128f3c95509",
   "metadata": {},
   "outputs": [],
   "source": [
    "def function1(a) : # def -> define의 약자, :(클론) 이후부터 함수 본문\n",
    "    print(a)\n",
    "    return \"end\""
   ]
  },
  {
   "cell_type": "code",
   "execution_count": 7,
   "id": "bad95755-613b-4161-8408-35aacb605a57",
   "metadata": {},
   "outputs": [
    {
     "name": "stdout",
     "output_type": "stream",
     "text": [
      "10\n"
     ]
    },
    {
     "data": {
      "text/plain": [
       "'end'"
      ]
     },
     "execution_count": 7,
     "metadata": {},
     "output_type": "execute_result"
    }
   ],
   "source": [
    "function1(10) # a =10"
   ]
  },
  {
   "cell_type": "code",
   "execution_count": 8,
   "id": "726a9e72-be58-4766-8558-f5b832cf5b31",
   "metadata": {},
   "outputs": [],
   "source": [
    "# 주피터 노트북에서는 함수의 반환값을 화면에 출력해주는데, 이는 주피터 노트북의 기능임.\n",
    "# 실제로는 반환 값은 화면에 출력되지 않음.\n",
    "# 출력하고 싶으면 print()함수를 사용해야함."
   ]
  },
  {
   "cell_type": "code",
   "execution_count": 21,
   "id": "ad8d5e40-ff38-4d2f-a322-0ddc627f5a9a",
   "metadata": {},
   "outputs": [
    {
     "name": "stdout",
     "output_type": "stream",
     "text": [
      "10\n",
      "end\n"
     ]
    }
   ],
   "source": [
    "def main1(a) :\n",
    "    print (a)\n",
    "    return \"end\"\n",
    "\n",
    "print(main1(10))"
   ]
  },
  {
   "cell_type": "code",
   "execution_count": 22,
   "id": "65bdd36b-6fbb-4a7a-9087-73c554157cc2",
   "metadata": {},
   "outputs": [
    {
     "name": "stdout",
     "output_type": "stream",
     "text": [
      "2 x 1 = 2\n",
      "2 x 2 = 4\n",
      "2 x 3 = 6\n",
      "2 x 4 = 8\n",
      "2 x 5 = 10\n",
      "2 x 6 = 12\n",
      "2 x 7 = 14\n",
      "2 x 8 = 16\n",
      "2 x 9 = 18\n",
      "#########################\n"
     ]
    }
   ],
   "source": [
    "function1(2)"
   ]
  },
  {
   "cell_type": "code",
   "execution_count": null,
   "id": "ec2cfef8-9c10-4cef-896d-82a836a2d67a",
   "metadata": {},
   "outputs": [],
   "source": [
    "def minus_count(num) :\n",
    "    for \n",
    "    print "
   ]
  },
  {
   "cell_type": "code",
   "execution_count": null,
   "id": "f700710c-d289-42c7-ad25-f577d9bd5b70",
   "metadata": {},
   "outputs": [],
   "source": [
    "a = function(10)"
   ]
  },
  {
   "cell_type": "code",
   "execution_count": 42,
   "id": "778785e0-e1e3-4457-a18e-e1a1d68404a4",
   "metadata": {},
   "outputs": [],
   "source": [
    "def test2(str) :\n",
    "    print(str)\n",
    "    print(str[0] if len(str) > 0 else \"\")\n",
    "    return 13"
   ]
  },
  {
   "cell_type": "code",
   "execution_count": 47,
   "id": "4fc9a168-3768-475f-a375-36ffa4fca7fa",
   "metadata": {},
   "outputs": [
    {
     "name": "stdout",
     "output_type": "stream",
     "text": [
      "성시우\n",
      "성\n",
      "SungSiWoo\n",
      "S\n",
      "leo\n",
      "l\n",
      "13\n"
     ]
    }
   ],
   "source": [
    "name_ko = test2(\"성시우\")\n",
    "name_eng = test2(\"SungSiWoo\")\n",
    "singer = test2(\"leo\")\n",
    "\n",
    "print(fn_val_1)"
   ]
  },
  {
   "cell_type": "code",
   "execution_count": 48,
   "id": "7d41ddfb-6493-4969-a1fa-6b2cd84cea7a",
   "metadata": {},
   "outputs": [],
   "source": [
    "def test3(int_num_1, int_num_2) : \n",
    "    print(int_num_1+int_num_2) \n",
    "    print(int_num_1*int_num_2)\n",
    "    return int_num_1, int_num_2"
   ]
  },
  {
   "cell_type": "code",
   "execution_count": 54,
   "id": "5ea9093e-b8ac-4f77-97a7-9177c3446d60",
   "metadata": {},
   "outputs": [
    {
     "name": "stdout",
     "output_type": "stream",
     "text": [
      "5\n",
      "6\n",
      "6\n",
      "8\n",
      "7\n",
      "10\n"
     ]
    }
   ],
   "source": [
    "fn_result_1 = test3(2,3)\n",
    "fn_result_2 = test3(2,4)\n",
    "fn_result_3 = test3(2,5)"
   ]
  },
  {
   "cell_type": "code",
   "execution_count": 55,
   "id": "a24273a9-f7c5-4e36-9267-778aeff650ec",
   "metadata": {},
   "outputs": [],
   "source": [
    "def test4(str) :\n",
    "    result = (5 if len(str) > 0 else 3)\n",
    "    return result"
   ]
  },
  {
   "cell_type": "code",
   "execution_count": 60,
   "id": "0d2f5c3d-783a-46ec-bdba-0196160b94a6",
   "metadata": {},
   "outputs": [
    {
     "name": "stdout",
     "output_type": "stream",
     "text": [
      "5\n",
      "5\n",
      "3\n"
     ]
    }
   ],
   "source": [
    "result_1 = test4(\"첫번째\")\n",
    "result_2 = test4(\"두번째\")\n",
    "result_3 = test4(\"\")\n",
    "print(result_1)\n",
    "print(result_2)\n",
    "print(result_3)\n"
   ]
  },
  {
   "cell_type": "code",
   "execution_count": 63,
   "id": "287d9aea-fcb3-48bf-995f-c5cc9f3bbf00",
   "metadata": {},
   "outputs": [],
   "source": [
    "def test5(a) :\n",
    "    return a"
   ]
  },
  {
   "cell_type": "code",
   "execution_count": 65,
   "id": "99576588-5e05-45c2-9968-f6f59a45c7be",
   "metadata": {},
   "outputs": [
    {
     "name": "stdout",
     "output_type": "stream",
     "text": [
      "3.14\n",
      "6.28\n"
     ]
    }
   ],
   "source": [
    "result_1= test5(3.14)\n",
    "result_2= test5(6.28)\n",
    "print(result_1)\n",
    "print(result_2)"
   ]
  },
  {
   "cell_type": "code",
   "execution_count": null,
   "id": "189b88ae-79f3-4288-a17f-a7d0aca9e294",
   "metadata": {},
   "outputs": [],
   "source": [
    "function1 함수를 생성하는 코드\n",
    "매개변수는 1개이고,\n",
    "매개변수명은 a이고,\n",
    "매개변수의 내용을 그대로 출력 후,\n",
    "반환값으로 문자열 \"end\" 반환\n",
    "\n",
    "함수 function1 호출시, \n",
    "매개변수로 10을 넘기므로,\n",
    "10이 그대로 출력 되며,\n",
    "변수 num에는 반환값 \"end\"가 담겨있음."
   ]
  },
  {
   "cell_type": "code",
   "execution_count": null,
   "id": "2f241e94-8815-41ed-9f07-59ff19393b8f",
   "metadata": {},
   "outputs": [],
   "source": []
  }
 ],
 "metadata": {
  "kernelspec": {
   "display_name": "Python 3 (ipykernel)",
   "language": "python",
   "name": "python3"
  },
  "language_info": {
   "codemirror_mode": {
    "name": "ipython",
    "version": 3
   },
   "file_extension": ".py",
   "mimetype": "text/x-python",
   "name": "python",
   "nbconvert_exporter": "python",
   "pygments_lexer": "ipython3",
   "version": "3.12.4"
  }
 },
 "nbformat": 4,
 "nbformat_minor": 5
}
