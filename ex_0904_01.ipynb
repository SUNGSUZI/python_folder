{
 "cells": [
  {
   "cell_type": "code",
   "execution_count": null,
   "id": "bfa7a900-494c-4b0c-8937-245d80242966",
   "metadata": {},
   "outputs": [],
   "source": [
    "def me1(a):\n",
    "    print()"
   ]
  },
  {
   "cell_type": "code",
   "execution_count": 1,
   "id": "6219de6e-cf70-471d-93c1-7e0eaa1032c9",
   "metadata": {},
   "outputs": [],
   "source": [
    "# 함수 생성 및 호출(사용)\n",
    "# 함수 생성과 호출은 다름.\n",
    "# 함수를 생성했다고 해서 함수 본문 안에 있는 내용이 실행 되지 않는다.\n",
    "# 함수를 호출해야 함수 본문 안에 있는 내용이 실행된다.\n",
    "# 함수 생성 시 매개변수 형태는 변수 선언 공식의 좌항과 동일하고\n",
    "# 함수 호출시 인수 형태는 변수 선언 공식의 우항과 동일하다\n"
   ]
  },
  {
   "cell_type": "code",
   "execution_count": 2,
   "id": "ee437d59-0b12-49e5-8c35-6f9d4fd45417",
   "metadata": {},
   "outputs": [],
   "source": [
    "int_Integer = 10\n",
    "str_String_1 =\"hello\"\n",
    "float_Float_1 = 3.14\n",
    "boolean_Boolean_1 = True\n",
    "ls_list_1 = [10,40,50]"
   ]
  },
  {
   "cell_type": "code",
   "execution_count": 4,
   "id": "00f32dbd-e2e5-4bd0-bffd-6128f3c95509",
   "metadata": {},
   "outputs": [],
   "source": [
    "def function1(a) : # def -> define의 약자, :(클론) 이후부터 함수 본문\n",
    "    print(a)\n",
    "    return \"end\""
   ]
  },
  {
   "cell_type": "code",
   "execution_count": 7,
   "id": "bad95755-613b-4161-8408-35aacb605a57",
   "metadata": {},
   "outputs": [
    {
     "name": "stdout",
     "output_type": "stream",
     "text": [
      "10\n"
     ]
    },
    {
     "data": {
      "text/plain": [
       "'end'"
      ]
     },
     "execution_count": 7,
     "metadata": {},
     "output_type": "execute_result"
    }
   ],
   "source": [
    "function1(10) # a =10"
   ]
  },
  {
   "cell_type": "code",
   "execution_count": 8,
   "id": "726a9e72-be58-4766-8558-f5b832cf5b31",
   "metadata": {},
   "outputs": [],
   "source": [
    "# 주피터 노트북에서는 함수의 반환값을 화면에 출력해주는데, 이는 주피터 노트북의 기능임.\n",
    "# 실제로는 반환 값은 화면에 출력되지 않음.\n",
    "# 출력하고 싶으면 print()함수를 사용해야함."
   ]
  },
  {
   "cell_type": "code",
   "execution_count": 21,
   "id": "ad8d5e40-ff38-4d2f-a322-0ddc627f5a9a",
   "metadata": {},
   "outputs": [
    {
     "name": "stdout",
     "output_type": "stream",
     "text": [
      "10\n",
      "end\n"
     ]
    }
   ],
   "source": [
    "def main1(a) :\n",
    "    print (a)\n",
    "    return \"end\"\n",
    "\n",
    "print(main1(10))"
   ]
  },
  {
   "cell_type": "code",
   "execution_count": 22,
   "id": "65bdd36b-6fbb-4a7a-9087-73c554157cc2",
   "metadata": {},
   "outputs": [
    {
     "name": "stdout",
     "output_type": "stream",
     "text": [
      "2 x 1 = 2\n",
      "2 x 2 = 4\n",
      "2 x 3 = 6\n",
      "2 x 4 = 8\n",
      "2 x 5 = 10\n",
      "2 x 6 = 12\n",
      "2 x 7 = 14\n",
      "2 x 8 = 16\n",
      "2 x 9 = 18\n",
      "#########################\n"
     ]
    }
   ],
   "source": [
    "function1(2)"
   ]
  },
  {
   "cell_type": "code",
   "execution_count": null,
   "id": "ec2cfef8-9c10-4cef-896d-82a836a2d67a",
   "metadata": {},
   "outputs": [],
   "source": [
    "def minus_count(num) :\n",
    "    for \n",
    "    print "
   ]
  },
  {
   "cell_type": "code",
   "execution_count": null,
   "id": "f700710c-d289-42c7-ad25-f577d9bd5b70",
   "metadata": {},
   "outputs": [],
   "source": [
    "a = function(10)"
   ]
  },
  {
   "cell_type": "code",
   "execution_count": 42,
   "id": "778785e0-e1e3-4457-a18e-e1a1d68404a4",
   "metadata": {},
   "outputs": [],
   "source": [
    "def test2(str) :\n",
    "    print(str)\n",
    "    print(str[0] if len(str) > 0 else \"\")\n",
    "    return 13"
   ]
  },
  {
   "cell_type": "code",
   "execution_count": 47,
   "id": "4fc9a168-3768-475f-a375-36ffa4fca7fa",
   "metadata": {},
   "outputs": [
    {
     "name": "stdout",
     "output_type": "stream",
     "text": [
      "성시우\n",
      "성\n",
      "SungSiWoo\n",
      "S\n",
      "leo\n",
      "l\n",
      "13\n"
     ]
    }
   ],
   "source": [
    "name_ko = test2(\"성시우\")\n",
    "name_eng = test2(\"SungSiWoo\")\n",
    "singer = test2(\"leo\")\n",
    "\n",
    "print(fn_val_1)"
   ]
  },
  {
   "cell_type": "code",
   "execution_count": 48,
   "id": "7d41ddfb-6493-4969-a1fa-6b2cd84cea7a",
   "metadata": {},
   "outputs": [],
   "source": [
    "def test3(int_num_1, int_num_2) : \n",
    "    print(int_num_1+int_num_2) \n",
    "    print(int_num_1*int_num_2)\n",
    "    return int_num_1, int_num_2"
   ]
  },
  {
   "cell_type": "code",
   "execution_count": 54,
   "id": "5ea9093e-b8ac-4f77-97a7-9177c3446d60",
   "metadata": {},
   "outputs": [
    {
     "name": "stdout",
     "output_type": "stream",
     "text": [
      "5\n",
      "6\n",
      "6\n",
      "8\n",
      "7\n",
      "10\n"
     ]
    }
   ],
   "source": [
    "fn_result_1 = test3(2,3)\n",
    "fn_result_2 = test3(2,4)\n",
    "fn_result_3 = test3(2,5)"
   ]
  },
  {
   "cell_type": "code",
   "execution_count": 55,
   "id": "a24273a9-f7c5-4e36-9267-778aeff650ec",
   "metadata": {},
   "outputs": [],
   "source": [
    "def test4(str) :\n",
    "    result = (5 if len(str) > 0 else 3)\n",
    "    return result"
   ]
  },
  {
   "cell_type": "code",
   "execution_count": 60,
   "id": "0d2f5c3d-783a-46ec-bdba-0196160b94a6",
   "metadata": {},
   "outputs": [
    {
     "name": "stdout",
     "output_type": "stream",
     "text": [
      "5\n",
      "5\n",
      "3\n"
     ]
    }
   ],
   "source": [
    "result_1 = test4(\"첫번째\")\n",
    "result_2 = test4(\"두번째\")\n",
    "result_3 = test4(\"\")\n",
    "print(result_1)\n",
    "print(result_2)\n",
    "print(result_3)\n"
   ]
  },
  {
   "cell_type": "code",
   "execution_count": 63,
   "id": "287d9aea-fcb3-48bf-995f-c5cc9f3bbf00",
   "metadata": {},
   "outputs": [],
   "source": [
    "def test5(a) :\n",
    "    return a"
   ]
  },
  {
   "cell_type": "code",
   "execution_count": 65,
   "id": "99576588-5e05-45c2-9968-f6f59a45c7be",
   "metadata": {},
   "outputs": [
    {
     "name": "stdout",
     "output_type": "stream",
     "text": [
      "3.14\n",
      "6.28\n"
     ]
    }
   ],
   "source": [
    "result_1= test5(3.14)\n",
    "result_2= test5(6.28)\n",
    "print(result_1)\n",
    "print(result_2)"
   ]
  },
  {
   "cell_type": "code",
   "execution_count": null,
   "id": "189b88ae-79f3-4288-a17f-a7d0aca9e294",
   "metadata": {},
   "outputs": [],
   "source": [
    "function1 함수를 생성하는 코드\n",
    "매개변수는 1개이고,\n",
    "매개변수명은 a이고,\n",
    "매개변수의 내용을 그대로 출력 후,\n",
    "반환값으로 문자열 \"end\" 반환\n",
    "\n",
    "함수 function1 호출시, \n",
    "매개변수로 10을 넘기므로,\n",
    "10이 그대로 출력 되며,\n",
    "변수 num에는 반환값 \"end\"가 담겨있음."
   ]
  },
  {
   "cell_type": "code",
   "execution_count": 66,
   "id": "2f241e94-8815-41ed-9f07-59ff19393b8f",
   "metadata": {},
   "outputs": [
    {
     "ename": "SyntaxError",
     "evalue": "invalid syntax (4045443486.py, line 1)",
     "output_type": "error",
     "traceback": [
      "\u001b[1;36m  Cell \u001b[1;32mIn[66], line 1\u001b[1;36m\u001b[0m\n\u001b[1;33m    test10함수를 생성하는 코드\u001b[0m\n\u001b[1;37m              ^\u001b[0m\n\u001b[1;31mSyntaxError\u001b[0m\u001b[1;31m:\u001b[0m invalid syntax\n"
     ]
    }
   ],
   "source": [
    "test10함수를 생성하는 코드\n",
    "매개변수는 0개이므로,\n",
    "매개변수명은 존재하지 않음.\n",
    "    \n",
    "test10함수는\n",
    "정수 1을 출력하고, \n",
    "변수 a의 값 10을 2와 곱한 결과를 출력.\n",
    "반환값은 없음."
   ]
  },
  {
   "cell_type": "code",
   "execution_count": null,
   "id": "bc7b4b74-6694-4923-9add-95552f0253c6",
   "metadata": {},
   "outputs": [],
   "source": [
    "def test11():\n",
    "    print(11)\n",
    "    a = 10\n",
    "    "
   ]
  },
  {
   "cell_type": "code",
   "execution_count": 73,
   "id": "91e08b42-f3bd-4d55-a9fc-d8c80781b96a",
   "metadata": {},
   "outputs": [],
   "source": [
    "def zest(*args) : \n",
    "    # 변수 앞에 #\"*\"을 적으면 해당 함수에 원하는 만큼 매갠변수를 지정할 수 있음.  \n",
    "    # 변수명을 아무거나 적어도 되지만 arguments 의 약자인 args를 권장함.\n",
    "    for el in args : # 여러값이기 때문에 for문을 돌림.\n",
    "        print(el)\n",
    "    "
   ]
  },
  {
   "cell_type": "code",
   "execution_count": 74,
   "id": "18ac2aa9-9af2-45a1-9042-880d2e51b7f4",
   "metadata": {},
   "outputs": [],
   "source": [
    "def zest10(a,b,c) :\n",
    "    print(a)\n",
    "    print(b)\n",
    "    print(c)"
   ]
  },
  {
   "cell_type": "code",
   "execution_count": 76,
   "id": "8d99347f-936c-4d66-a624-d355e0b85099",
   "metadata": {},
   "outputs": [
    {
     "name": "stdout",
     "output_type": "stream",
     "text": [
      "1\n",
      "1\n",
      "1\n"
     ]
    }
   ],
   "source": [
    "zest10(1,1,1)"
   ]
  },
  {
   "cell_type": "code",
   "execution_count": 77,
   "id": "504c765a-7d91-4720-b1b5-28315c3883b7",
   "metadata": {},
   "outputs": [
    {
     "name": "stdout",
     "output_type": "stream",
     "text": [
      "2\n",
      "3\n",
      "4\n",
      "5\n"
     ]
    }
   ],
   "source": [
    "zest (2,3,4,5)"
   ]
  },
  {
   "cell_type": "code",
   "execution_count": 107,
   "id": "5e882c99-4eb2-4709-9e9f-7f139565a51e",
   "metadata": {},
   "outputs": [
    {
     "name": "stdout",
     "output_type": "stream",
     "text": [
      "1\n",
      "3\n",
      "6\n",
      "10\n",
      "15\n"
     ]
    }
   ],
   "source": [
    "def zest2(*args) :\n",
    "    result = 0\n",
    "    for el in args :\n",
    " \n",
    "        result += el\n",
    "        print(result)\n",
    "        \n",
    "zest2(1,2,3,4,5)\n"
   ]
  },
  {
   "cell_type": "code",
   "execution_count": 127,
   "id": "b3426896-b300-4f39-ab43-74ddccb896e3",
   "metadata": {},
   "outputs": [
    {
     "name": "stdin",
     "output_type": "stream",
     "text": [
      "정수를 입력하세요 \n"
     ]
    },
    {
     "name": "stdout",
     "output_type": "stream",
     "text": [
      "0 i입니다  >>>\n",
      ">>>>>>>>>\n"
     ]
    }
   ],
   "source": [
    "def zest2(*args) :\n",
    "    result = 0\n",
    "    if args:\n",
    "        for i in range(0, len(args)) :\n",
    "            print(i,\"i입니다\",args[i] ,\">>>\")\n",
    "            print(\">>>>>>>>>\")\n",
    "            # if args[i] != \",\" :\n",
    "                #result += int(args[i])\n",
    "                # print(result)\n",
    "    else :\n",
    "        print(\"정수를 입력안하셧네요\")\n",
    "        \n",
    "zest2(input(\"정수를 입력하세요\"))"
   ]
  },
  {
   "cell_type": "code",
   "execution_count": null,
   "id": "6c6d2f67-1048-42b9-9360-72ed33b1ab76",
   "metadata": {},
   "outputs": [],
   "source": [
    "a = \"콜라\"\n",
    "b = \"사이다\"\n",
    "b에 콜라를 넣고 \n",
    "a에 사이다를 넣어주세요.\n"
   ]
  },
  {
   "cell_type": "code",
   "execution_count": 95,
   "id": "004c00f5-1493-447c-a0b4-9e5b9d30d442",
   "metadata": {},
   "outputs": [
    {
     "name": "stdout",
     "output_type": "stream",
     "text": [
      "('콜라', '사이다')\n"
     ]
    }
   ],
   "source": [
    "def change_fn (a,b) :\n",
    "    tmp = a\n",
    "    a = b\n",
    "    b = tmp\n",
    "    return a, b\n",
    "\n",
    "result = change_fn(\"사이다\",\"콜라\")\n",
    "print(result)"
   ]
  },
  {
   "cell_type": "code",
   "execution_count": 105,
   "id": "464cf66e-3b2a-4640-860a-6f1203fcc9b0",
   "metadata": {},
   "outputs": [],
   "source": [
    "def zest3(*args,name, age) :\n",
    "    print(name)\n",
    "    print(age)\n",
    "    for el in args :\n",
    "        print(el)\n",
    "    "
   ]
  },
  {
   "cell_type": "code",
   "execution_count": 103,
   "id": "107bf614-6dc5-448f-881e-d4a1c2c7ffda",
   "metadata": {},
   "outputs": [
    {
     "name": "stdout",
     "output_type": "stream",
     "text": [
      "1\n",
      "2\n",
      "3\n",
      "4\n",
      "5\n",
      "6\n"
     ]
    }
   ],
   "source": [
    "zest3(1,2,3,4,5,6)"
   ]
  },
  {
   "cell_type": "code",
   "execution_count": 106,
   "id": "58e18d33-0f8a-4c8e-b24f-d85ac5c6bb6d",
   "metadata": {},
   "outputs": [
    {
     "name": "stdout",
     "output_type": "stream",
     "text": [
      "4\n",
      "4\n",
      "1\n",
      "2\n",
      "3\n"
     ]
    }
   ],
   "source": [
    "zest3(1,2,3, name=4, age=4)"
   ]
  },
  {
   "cell_type": "code",
   "execution_count": 129,
   "id": "e76eac04-df36-46b1-b8b8-c60b2b73e645",
   "metadata": {},
   "outputs": [],
   "source": [
    "def function1 (a) :\n",
    "    print(a)\n",
    "    return \"end\""
   ]
  },
  {
   "cell_type": "code",
   "execution_count": 133,
   "id": "34a233d5-8036-45de-8ffe-1de3832e5a76",
   "metadata": {},
   "outputs": [
    {
     "name": "stdout",
     "output_type": "stream",
     "text": [
      "10\n"
     ]
    }
   ],
   "source": [
    "result = function1(10)"
   ]
  },
  {
   "cell_type": "code",
   "execution_count": 134,
   "id": "39afe850-6636-46c4-8744-4058c86a1dfa",
   "metadata": {},
   "outputs": [],
   "source": [
    "def test_01() :\n",
    "    print(\"매무반무\")"
   ]
  },
  {
   "cell_type": "code",
   "execution_count": 137,
   "id": "8dec9fae-a469-4efa-8d6b-9269dcb0b348",
   "metadata": {},
   "outputs": [
    {
     "name": "stdout",
     "output_type": "stream",
     "text": [
      "매무반무\n"
     ]
    }
   ],
   "source": [
    "test_01()"
   ]
  },
  {
   "cell_type": "code",
   "execution_count": 140,
   "id": "53450e23-8beb-4f00-a2c9-89bf35d477c9",
   "metadata": {},
   "outputs": [],
   "source": [
    "def test_03(param) :\n",
    "    print(param)\n",
    "    "
   ]
  },
  {
   "cell_type": "code",
   "execution_count": 142,
   "id": "204de8a0-72fb-4119-bcf9-7526619b7eef",
   "metadata": {},
   "outputs": [
    {
     "name": "stdout",
     "output_type": "stream",
     "text": [
      "10\n"
     ]
    }
   ],
   "source": [
    "test_03(10)"
   ]
  },
  {
   "cell_type": "code",
   "execution_count": null,
   "id": "29432d9e-d77b-48ca-8aed-df6d1fa3f190",
   "metadata": {},
   "outputs": [],
   "source": [
    "10에서 15보다 작은 14까지를 반복하며 출력."
   ]
  },
  {
   "cell_type": "code",
   "execution_count": null,
   "id": "7200a73e-b6ff-4a62-a670-5205625b03f0",
   "metadata": {},
   "outputs": [],
   "source": [
    "len()함수를 통해 인덱스 마지막 값을 구할 수 있음.\n",
    "인덱스가 0에서 1씩 증가하며\n",
    "요소의 값이 2인 경우는 생략하고 출력\n",
    "결과로 2를 제외한 나머지 요소값 전체 출력됨."
   ]
  },
  {
   "cell_type": "code",
   "execution_count": null,
   "id": "ad3cf226-987d-4334-a0b0-6a9607e7c5b8",
   "metadata": {},
   "outputs": [],
   "source": []
  }
 ],
 "metadata": {
  "kernelspec": {
   "display_name": "Python 3 (ipykernel)",
   "language": "python",
   "name": "python3"
  },
  "language_info": {
   "codemirror_mode": {
    "name": "ipython",
    "version": 3
   },
   "file_extension": ".py",
   "mimetype": "text/x-python",
   "name": "python",
   "nbconvert_exporter": "python",
   "pygments_lexer": "ipython3",
   "version": "3.12.4"
  }
 },
 "nbformat": 4,
 "nbformat_minor": 5
}
