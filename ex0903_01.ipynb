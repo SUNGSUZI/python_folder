{
 "cells": [
  {
   "cell_type": "code",
   "execution_count": 7,
   "id": "12129991-34c2-47ce-8036-fdd736b804d2",
   "metadata": {},
   "outputs": [
    {
     "name": "stdout",
     "output_type": "stream",
     "text": [
      "1\n",
      "2*2 -> 4\n",
      "3\n",
      "4*2 -> 8\n",
      "5\n",
      "6*2 -> 12\n"
     ]
    }
   ],
   "source": [
    "# while은 언제까지 반복문을 돌려야 할지 알고 있을때 쓰는것이 좋음.\n",
    "# while문 안에 조건문을 쓰는것보다 while(조건문) 작성시 조건을 같이 넣어서 조건문을 넣지 않는것이 좋다.\n",
    "\n",
    "i = 1\n",
    "while i <= 6 :\n",
    "    if i % 2 == 0 :\n",
    "        str_i = str(i)\n",
    "        str_result = str(i*2)\n",
    "        print(str_i+\"*2 -> \"+str_result)\n",
    "    else :\n",
    "        print (i)\n",
    "    i += 1"
   ]
  },
  {
   "cell_type": "code",
   "execution_count": 11,
   "id": "60140368-c5f3-40e4-9f0a-8dd4ca339342",
   "metadata": {},
   "outputs": [
    {
     "name": "stdout",
     "output_type": "stream",
     "text": [
      "1\n",
      "2\n",
      "3\n",
      "4\n",
      "5\n",
      "6\n",
      "7\n",
      "8\n",
      "9\n"
     ]
    }
   ],
   "source": [
    "# range -> 1부터 10까지\n",
    "# range의 내용을 i에다가 넣어서 반복문\n",
    "# 1부터 10까지 i에다가 넣어서 반복\n",
    "\n",
    "\n",
    "for i in range(1,10) : \n",
    "    print(i)"
   ]
  },
  {
   "cell_type": "code",
   "execution_count": 12,
   "id": "f844c613-e756-47d0-91da-c14f14dd55a1",
   "metadata": {},
   "outputs": [
    {
     "name": "stdout",
     "output_type": "stream",
     "text": [
      "1\n",
      "3\n",
      "5\n",
      "7\n",
      "9\n"
     ]
    }
   ],
   "source": [
    "\n",
    "for i in range(1,10,2) : \n",
    "    print(i)"
   ]
  },
  {
   "cell_type": "code",
   "execution_count": 14,
   "id": "ee3fe5a2-afbf-4322-b01e-3c1e3bccbb12",
   "metadata": {},
   "outputs": [
    {
     "name": "stdout",
     "output_type": "stream",
     "text": [
      "10\n",
      "9\n",
      "8\n",
      "7\n",
      "6\n",
      "5\n",
      "4\n",
      "3\n",
      "2\n",
      "1\n"
     ]
    }
   ],
   "source": [
    "for i in range(10,0,-1) : \n",
    "    print(i)"
   ]
  },
  {
   "cell_type": "code",
   "execution_count": 16,
   "id": "63d24011-10ce-4277-b461-642a7b96a227",
   "metadata": {},
   "outputs": [
    {
     "name": "stdout",
     "output_type": "stream",
     "text": [
      "0\n",
      "1\n",
      "2\n",
      "3\n",
      "4\n",
      "5\n",
      "6\n",
      "7\n"
     ]
    }
   ],
   "source": [
    "for i in range(0,8) :\n",
    "    print(i)"
   ]
  },
  {
   "cell_type": "code",
   "execution_count": 20,
   "id": "9a5daf7a-6d6b-4371-a20d-abc307a9d362",
   "metadata": {},
   "outputs": [
    {
     "name": "stdout",
     "output_type": "stream",
     "text": [
      "10\n",
      "20\n",
      "20\n",
      "50\n",
      "70\n"
     ]
    }
   ],
   "source": [
    "ls_list_1 =[10, 20, 20, 50, 70]\n",
    "#ls_lsit_1 이 갖고 있는 모든 요소 값을 for in문을 이용하여 출력하세요.\n",
    "for i in range(0, len(ls_list_1)) :\n",
    "    print(ls_list_1[i])"
   ]
  },
  {
   "cell_type": "code",
   "execution_count": 23,
   "id": "38a6ee77-19fe-42c2-bbbc-0a7d8ae9a247",
   "metadata": {},
   "outputs": [
    {
     "name": "stdout",
     "output_type": "stream",
     "text": [
      "1\n",
      "2\n",
      "3\n",
      "5\n",
      "7\n",
      "9\n",
      "11\n",
      "13\n"
     ]
    }
   ],
   "source": [
    "ls_list_2 = [1,2,3,5,7,9,11,13]\n",
    "for el in ls_list_2 :\n",
    "    print(el)"
   ]
  },
  {
   "cell_type": "code",
   "execution_count": 27,
   "id": "0529b83f-fb42-4cc2-8591-1b5a78b01581",
   "metadata": {},
   "outputs": [
    {
     "name": "stdout",
     "output_type": "stream",
     "text": [
      "(1, 101)\n",
      "(2, 202)\n",
      "(3, 303)\n"
     ]
    }
   ],
   "source": [
    "ls_list_3 = [(1,101),(2,202),(3,303)]\n",
    "for t in ls_list_3 :\n",
    "    print (t)"
   ]
  },
  {
   "cell_type": "code",
   "execution_count": 28,
   "id": "60c7608e-ef71-4166-a904-7ae935b12f9b",
   "metadata": {},
   "outputs": [
    {
     "name": "stdout",
     "output_type": "stream",
     "text": [
      "1\n",
      "101\n",
      "2\n",
      "202\n",
      "3\n",
      "303\n"
     ]
    }
   ],
   "source": [
    "for t in ls_list_3 :\n",
    "    for el in t:\n",
    "        print(el)"
   ]
  },
  {
   "cell_type": "code",
   "execution_count": 30,
   "id": "76610fb8-8425-4d79-bad7-e2b845f67b12",
   "metadata": {},
   "outputs": [
    {
     "name": "stdout",
     "output_type": "stream",
     "text": [
      "1\n",
      "101\n",
      "++++++++++\n",
      "2\n",
      "202\n",
      "++++++++++\n",
      "3\n",
      "303\n",
      "++++++++++\n"
     ]
    }
   ],
   "source": [
    "for t1, t2 in ls_list_3 :\n",
    "    print(t1)\n",
    "    print(t2)\n",
    "    print(\"+\"*10)"
   ]
  },
  {
   "cell_type": "code",
   "execution_count": 68,
   "id": "707b3ea5-1227-45b9-87d6-5da028155b0d",
   "metadata": {},
   "outputs": [
    {
     "name": "stdout",
     "output_type": "stream",
     "text": [
      "1\n",
      "++++++++++\n",
      "2\n",
      "++++++++++\n",
      "10\n",
      "20\n",
      "++++++++++\n"
     ]
    }
   ],
   "source": [
    "ls_list4 = [1,2,(10,20)]\n",
    "for t in ls_list4 :\n",
    "    if type(t)==type(()) :\n",
    "        for el in t :\n",
    "            print(el)\n",
    "    else :\n",
    "        print(t)\n",
    "    print(\"+\"*10)"
   ]
  },
  {
   "cell_type": "code",
   "execution_count": 73,
   "id": "4fbaee84-5742-47e9-b956-3bebb770be04",
   "metadata": {},
   "outputs": [
    {
     "name": "stdout",
     "output_type": "stream",
     "text": [
      "key :  k1\n",
      "val :  val1\n",
      "key :  k2\n",
      "val :  val2\n"
     ]
    }
   ],
   "source": [
    "# dictionary 는 key를 통해 값을 출력함.\n",
    "\n",
    "dict_dictionary_1 ={\"k1\":\"val1\" ,\"k2\":\"val2\"}\n",
    "for i in dict_dictionary_1 :\n",
    "    print(\"key : \", i)\n",
    "    print(\"val : \", dict_dictionary_1[i])"
   ]
  },
  {
   "cell_type": "code",
   "execution_count": 77,
   "id": "90ae203b-7dd7-4fd7-9e8c-18bf735934f2",
   "metadata": {},
   "outputs": [
    {
     "name": "stdout",
     "output_type": "stream",
     "text": [
      "1\n",
      "3\n",
      "5\n",
      "7\n",
      "9\n"
     ]
    }
   ],
   "source": [
    "ls_list_7 = [1,2,3,4,5,6,7,8,9,10]\n",
    "for el in ls_list_7 :\n",
    "    if(el % 2 != 0) :\n",
    "        print(el)"
   ]
  },
  {
   "cell_type": "code",
   "execution_count": 83,
   "id": "47e1441b-3d63-4fdc-9b9b-90dca7b5ced5",
   "metadata": {},
   "outputs": [
    {
     "name": "stdout",
     "output_type": "stream",
     "text": [
      "1\n",
      "3\n",
      "5\n",
      "7\n",
      "9\n"
     ]
    }
   ],
   "source": [
    "for i in range(0, len(ls_list_7),2) :\n",
    "    print(ls_list_7[i])"
   ]
  },
  {
   "cell_type": "code",
   "execution_count": 85,
   "id": "c34fd3ef-430d-4ab8-9138-95f6385c9c9f",
   "metadata": {},
   "outputs": [],
   "source": [
    "ls1 = [10,20,(1,2,3),70]\n"
   ]
  },
  {
   "cell_type": "code",
   "execution_count": 86,
   "id": "b7e82551-dc93-47a5-84c7-af736dde16be",
   "metadata": {},
   "outputs": [
    {
     "name": "stdout",
     "output_type": "stream",
     "text": [
      "10\n",
      "20\n",
      "(1, 2, 3)\n",
      "70\n"
     ]
    }
   ],
   "source": [
    "for el in ls1 :\n",
    "    print(el)\n",
    "    "
   ]
  },
  {
   "cell_type": "code",
   "execution_count": 90,
   "id": "ec6058e6-885a-43e0-8309-9d239421ae81",
   "metadata": {},
   "outputs": [
    {
     "name": "stdout",
     "output_type": "stream",
     "text": [
      "10\n",
      "20\n",
      "1\n",
      "2\n",
      "3\n",
      "70\n"
     ]
    }
   ],
   "source": [
    "for el in range(0,len(ls1),1) :\n",
    "    if el != 2 :\n",
    "        print(ls1[el])\n",
    "    else :\n",
    "        for i in ls1[el] :\n",
    "            print(i)"
   ]
  },
  {
   "cell_type": "code",
   "execution_count": 92,
   "id": "234577df-b17a-437c-9b7d-898dc4d64dee",
   "metadata": {},
   "outputs": [
    {
     "name": "stdout",
     "output_type": "stream",
     "text": [
      "10\n",
      "20\n",
      "1\n",
      "2\n",
      "3\n",
      "70\n"
     ]
    }
   ],
   "source": [
    "for el in ls1 :\n",
    "    if type(el) == int:\n",
    "        print(el)\n",
    "    elif type(el) == tuple:\n",
    "        for e in el :\n",
    "            print(e)"
   ]
  },
  {
   "cell_type": "code",
   "execution_count": 94,
   "id": "ab0f6891-cc0f-4d71-8895-d63ac6669ac7",
   "metadata": {},
   "outputs": [
    {
     "name": "stdout",
     "output_type": "stream",
     "text": [
      "0\n",
      "1\n",
      "2\n",
      "4\n",
      "5\n",
      "6\n",
      "7\n",
      "8\n",
      "9\n"
     ]
    }
   ],
   "source": [
    "for i in range(0,10,1) :\n",
    "    if i ==3 :\n",
    "        continue\n",
    "    print(i)"
   ]
  },
  {
   "cell_type": "code",
   "execution_count": 96,
   "id": "6dcf1d8e-003e-4a45-aa0e-f280dacbb018",
   "metadata": {},
   "outputs": [
    {
     "name": "stdout",
     "output_type": "stream",
     "text": [
      "0\n",
      "1\n",
      "2\n",
      "4\n",
      "5\n",
      "6\n",
      "7\n",
      "8\n",
      "9\n"
     ]
    }
   ],
   "source": [
    "for i in range(0,10,1) :\n",
    "    if i !=3 :\n",
    "        print(i)"
   ]
  },
  {
   "cell_type": "code",
   "execution_count": 100,
   "id": "cac6a8e2-c840-419c-a901-61dd78103ac3",
   "metadata": {},
   "outputs": [
    {
     "name": "stdout",
     "output_type": "stream",
     "text": [
      "0\n",
      "1\n",
      "2\n",
      "4\n",
      "5\n",
      "6\n",
      "7\n",
      "8\n",
      "9\n"
     ]
    }
   ],
   "source": [
    "i = 0;\n",
    "end =10\n",
    "\n",
    "while i< end :\n",
    "    if i == 3 :\n",
    "        i += 1\n",
    "        continue\n",
    "    \n",
    "    print(i)\n",
    "    i += 1\n"
   ]
  },
  {
   "cell_type": "code",
   "execution_count": 103,
   "id": "73c60320-0b07-4259-9ed8-e2bbed80d340",
   "metadata": {},
   "outputs": [],
   "source": [
    "ls2= [1,-1,40,-20,3]"
   ]
  },
  {
   "cell_type": "code",
   "execution_count": 104,
   "id": "3f70eb88-0d99-424d-9b54-f0ad6e74f4aa",
   "metadata": {},
   "outputs": [],
   "source": [
    "#인덱스가 2인 요솟값을 제외하고 모두 출력하는 코드를 작성하세요."
   ]
  },
  {
   "cell_type": "code",
   "execution_count": 106,
   "id": "1d6fd351-b8f1-497a-91dd-77f08755cfa5",
   "metadata": {},
   "outputs": [
    {
     "name": "stdout",
     "output_type": "stream",
     "text": [
      "1\n",
      "-1\n",
      "-20\n",
      "3\n"
     ]
    }
   ],
   "source": [
    "for i in range(0, len(ls2),1) :\n",
    "    if i ==2 :\n",
    "        continue\n",
    "    print(ls2[i])"
   ]
  },
  {
   "cell_type": "code",
   "execution_count": 110,
   "id": "fd031061-af09-4077-a595-9b486e9182a8",
   "metadata": {},
   "outputs": [
    {
     "name": "stdout",
     "output_type": "stream",
     "text": [
      "1\n",
      "-1\n",
      "-20\n",
      "3\n"
     ]
    }
   ],
   "source": [
    "# ls2에서 요소값이 40인 경우를 제외하고 모두 출력하는 코드 작성\n",
    "\n",
    "for el in ls2 : # 앞으로 list, tuple, dictionary, set을 콜렉션이라고 함.\n",
    "    if el == 40 :\n",
    "        continue\n",
    "    print(el)"
   ]
  },
  {
   "cell_type": "code",
   "execution_count": null,
   "id": "a018411a-f10e-47da-ae95-36bae418b3e3",
   "metadata": {},
   "outputs": [],
   "source": [
    "# break문\n",
    "# 가장 가까운 반복문을 빠져나옴."
   ]
  },
  {
   "cell_type": "code",
   "execution_count": 113,
   "id": "2e3b956d-74cf-4c71-b2d3-d11da4b0a40a",
   "metadata": {},
   "outputs": [
    {
     "name": "stdout",
     "output_type": "stream",
     "text": [
      "at 1 loop :  a\n",
      "at 2 loop :  10\n",
      "after 2 loop\n",
      "at 1 loop :  b\n",
      "at 2 loop :  10\n",
      "after 2 loop\n",
      "after 1 loop\n"
     ]
    }
   ],
   "source": [
    "ls3 = ['a','b']\n",
    "ls4 = [10,20,30]\n",
    "\n",
    "for el_1 in ls3 :\n",
    "    print(\"at 1 loop : \",el_1)\n",
    "\n",
    "    for el_2 in ls4:\n",
    "        if el_2 == 20 :\n",
    "            break\n",
    "        print(\"at 2 loop : \",el_2)\n",
    "        \n",
    "    print(\"after 2 loop\")\n",
    "    \n",
    "print(\"after 1 loop\")"
   ]
  },
  {
   "cell_type": "code",
   "execution_count": 117,
   "id": "4bdc0c96-fd7d-4f8e-84f4-6fe288dcb7b2",
   "metadata": {},
   "outputs": [
    {
     "name": "stdout",
     "output_type": "stream",
     "text": [
      "3 X 1 = 3\n",
      "3 X 2 = 6\n",
      "3 X 3 = 9\n",
      "3 X 4 = 12\n",
      "3 X 5 = 15\n",
      "3 X 6 = 18\n",
      "3 X 7 = 21\n",
      "3 X 8 = 24\n",
      "3 X 9 = 27\n"
     ]
    }
   ],
   "source": [
    "for i in range(1,10) :\n",
    "    print (\"3 X\", i, \"=\", 3*i)"
   ]
  },
  {
   "cell_type": "code",
   "execution_count": 123,
   "id": "a1041d1c-8616-4180-9f4e-f8d381138a8f",
   "metadata": {},
   "outputs": [
    {
     "name": "stdout",
     "output_type": "stream",
     "text": [
      "2 x 1 =  2\n",
      "2 x 2 =  4\n",
      "2 x 3 =  6\n",
      "2 x 4 =  8\n",
      "2 x 5 =  10\n",
      "2 x 6 =  12\n",
      "2 x 7 =  14\n",
      "2 x 8 =  16\n",
      "2 x 9 =  18\n",
      "::::::::::::::::::::\n",
      "3 x 1 =  3\n",
      "3 x 2 =  6\n",
      "3 x 3 =  9\n",
      "3 x 4 =  12\n",
      "3 x 5 =  15\n",
      "3 x 6 =  18\n",
      "3 x 7 =  21\n",
      "3 x 8 =  24\n",
      "3 x 9 =  27\n",
      "::::::::::::::::::::\n",
      "4 x 1 =  4\n",
      "4 x 2 =  8\n",
      "4 x 3 =  12\n",
      "4 x 4 =  16\n",
      "4 x 5 =  20\n",
      "4 x 6 =  24\n",
      "4 x 7 =  28\n",
      "4 x 8 =  32\n",
      "4 x 9 =  36\n",
      "::::::::::::::::::::\n",
      "5 x 1 =  5\n",
      "5 x 2 =  10\n",
      "5 x 3 =  15\n",
      "5 x 4 =  20\n",
      "5 x 5 =  25\n",
      "5 x 6 =  30\n",
      "5 x 7 =  35\n",
      "5 x 8 =  40\n",
      "5 x 9 =  45\n",
      "::::::::::::::::::::\n",
      "6 x 1 =  6\n",
      "6 x 2 =  12\n",
      "6 x 3 =  18\n",
      "6 x 4 =  24\n",
      "6 x 5 =  30\n",
      "6 x 6 =  36\n",
      "6 x 7 =  42\n",
      "6 x 8 =  48\n",
      "6 x 9 =  54\n",
      "::::::::::::::::::::\n",
      "7 x 1 =  7\n",
      "7 x 2 =  14\n",
      "7 x 3 =  21\n",
      "7 x 4 =  28\n",
      "7 x 5 =  35\n",
      "7 x 6 =  42\n",
      "7 x 7 =  49\n",
      "7 x 8 =  56\n",
      "7 x 9 =  63\n",
      "::::::::::::::::::::\n",
      "8 x 1 =  8\n",
      "8 x 2 =  16\n",
      "8 x 3 =  24\n",
      "8 x 4 =  32\n",
      "8 x 5 =  40\n",
      "8 x 6 =  48\n",
      "8 x 7 =  56\n",
      "8 x 8 =  64\n",
      "8 x 9 =  72\n",
      "::::::::::::::::::::\n",
      "9 x 1 =  9\n",
      "9 x 2 =  18\n",
      "9 x 3 =  27\n",
      "9 x 4 =  36\n",
      "9 x 5 =  45\n",
      "9 x 6 =  54\n",
      "9 x 7 =  63\n",
      "9 x 8 =  72\n",
      "9 x 9 =  81\n",
      "::::::::::::::::::::\n"
     ]
    }
   ],
   "source": [
    "for dan in range(2,10) :\n",
    "    for i in range(1,10) :\n",
    "        print (str(dan)+\" x \"+str(i)+\" = \",str(dan*i))\n",
    "    print (\":\"*20)"
   ]
  },
  {
   "cell_type": "code",
   "execution_count": 139,
   "id": "22a15b6f-823d-4086-998f-ed3bdaf77fed",
   "metadata": {},
   "outputs": [],
   "source": [
    "def print_dan(dan) :\n",
    "    for i in range(1,10) :\n",
    "        print (str(dan)+\" x \"+str(i)+\" = \",str(dan*i))\n",
    "    "
   ]
  },
  {
   "cell_type": "code",
   "execution_count": 145,
   "id": "bcc50c95-0021-45b3-890d-d5069d364c45",
   "metadata": {},
   "outputs": [
    {
     "name": "stdout",
     "output_type": "stream",
     "text": [
      "2 x 1 =  2\n",
      "2 x 2 =  4\n",
      "2 x 3 =  6\n",
      "2 x 4 =  8\n",
      "2 x 5 =  10\n",
      "2 x 6 =  12\n",
      "2 x 7 =  14\n",
      "2 x 8 =  16\n",
      "2 x 9 =  18\n",
      "::::::::::::::::::::\n",
      "3 x 1 =  3\n",
      "3 x 2 =  6\n",
      "3 x 3 =  9\n",
      "3 x 4 =  12\n",
      "3 x 5 =  15\n",
      "3 x 6 =  18\n",
      "3 x 7 =  21\n",
      "3 x 8 =  24\n",
      "3 x 9 =  27\n",
      "::::::::::::::::::::\n",
      "4 x 1 =  4\n",
      "4 x 2 =  8\n",
      "4 x 3 =  12\n",
      "4 x 4 =  16\n",
      "4 x 5 =  20\n",
      "4 x 6 =  24\n",
      "4 x 7 =  28\n",
      "4 x 8 =  32\n",
      "4 x 9 =  36\n",
      "::::::::::::::::::::\n",
      "5 x 1 =  5\n",
      "5 x 2 =  10\n",
      "5 x 3 =  15\n",
      "5 x 4 =  20\n",
      "5 x 5 =  25\n",
      "5 x 6 =  30\n",
      "5 x 7 =  35\n",
      "5 x 8 =  40\n",
      "5 x 9 =  45\n",
      "::::::::::::::::::::\n",
      "6 x 1 =  6\n",
      "6 x 2 =  12\n",
      "6 x 3 =  18\n",
      "6 x 4 =  24\n",
      "6 x 5 =  30\n",
      "6 x 6 =  36\n",
      "6 x 7 =  42\n",
      "6 x 8 =  48\n",
      "6 x 9 =  54\n",
      "::::::::::::::::::::\n",
      "7 x 1 =  7\n",
      "7 x 2 =  14\n",
      "7 x 3 =  21\n",
      "7 x 4 =  28\n",
      "7 x 5 =  35\n",
      "7 x 6 =  42\n",
      "7 x 7 =  49\n",
      "7 x 8 =  56\n",
      "7 x 9 =  63\n",
      "::::::::::::::::::::\n",
      "8 x 1 =  8\n",
      "8 x 2 =  16\n",
      "8 x 3 =  24\n",
      "8 x 4 =  32\n",
      "8 x 5 =  40\n",
      "8 x 6 =  48\n",
      "8 x 7 =  56\n",
      "8 x 8 =  64\n",
      "8 x 9 =  72\n",
      "::::::::::::::::::::\n",
      "9 x 1 =  9\n",
      "9 x 2 =  18\n",
      "9 x 3 =  27\n",
      "9 x 4 =  36\n",
      "9 x 5 =  45\n",
      "9 x 6 =  54\n",
      "9 x 7 =  63\n",
      "9 x 8 =  72\n",
      "9 x 9 =  81\n",
      "::::::::::::::::::::\n"
     ]
    }
   ],
   "source": [
    "for dan in range(2,10) :\n",
    "    print_dan(dan)\n",
    "    print (\":\"*20)\n"
   ]
  },
  {
   "cell_type": "code",
   "execution_count": 149,
   "id": "24984b74-338b-48be-9b75-66cb23306a80",
   "metadata": {},
   "outputs": [
    {
     "name": "stdout",
     "output_type": "stream",
     "text": [
      "[10, 20, 30, 40, 50, 60, 70]\n"
     ]
    }
   ],
   "source": [
    "ls5 = [ i for i in range(10,71,10)]\n",
    "print(ls5)"
   ]
  },
  {
   "cell_type": "code",
   "execution_count": 151,
   "id": "75419263-8d60-45c1-8d4e-cca7ec430eb5",
   "metadata": {},
   "outputs": [
    {
     "data": {
      "text/plain": [
       "[0, 1, 2, 3, 4, 5, 6, 7, 8, 9, 10]"
      ]
     },
     "execution_count": 151,
     "metadata": {},
     "output_type": "execute_result"
    }
   ],
   "source": [
    "ls6 = [i for i in range(0,11,1)]\n",
    "ls6"
   ]
  },
  {
   "cell_type": "code",
   "execution_count": 171,
   "id": "7624e930-7d5c-4312-abd9-0fc0dc103e27",
   "metadata": {},
   "outputs": [
    {
     "data": {
      "text/plain": [
       "[27, 24, 21, 18, 15, 12, 9, 6, 3]"
      ]
     },
     "execution_count": 171,
     "metadata": {},
     "output_type": "execute_result"
    }
   ],
   "source": [
    "ls6 = [i for i in range(27,0,-3)]\n",
    "ls6"
   ]
  },
  {
   "cell_type": "code",
   "execution_count": 201,
   "id": "cbcb9cb3-ab6d-4a2a-9a4a-7680c828aa4b",
   "metadata": {},
   "outputs": [
    {
     "name": "stdout",
     "output_type": "stream",
     "text": [
      "[40, 50, 60, 70, 80, 90]\n"
     ]
    }
   ],
   "source": [
    "ls3 = [i-10 for i in range(50,101,10)]\n",
    "print(ls3)"
   ]
  },
  {
   "cell_type": "code",
   "execution_count": 230,
   "id": "5d1d12b9-80ce-4bfa-a298-7f1452437684",
   "metadata": {},
   "outputs": [
    {
     "data": {
      "text/plain": [
       "[0, 3, 6, 9, 12, 15, 18, 21]"
      ]
     },
     "execution_count": 230,
     "metadata": {},
     "output_type": "execute_result"
    }
   ],
   "source": [
    "ls100 = [i for i in range(0, 22) if i%3 ==0]\n",
    "ls100"
   ]
  },
  {
   "cell_type": "code",
   "execution_count": 235,
   "id": "4c97a5e8-a7ec-4982-a607-0455636707da",
   "metadata": {},
   "outputs": [
    {
     "data": {
      "text/plain": [
       "[1, 3, 5, 7]"
      ]
     },
     "execution_count": 235,
     "metadata": {},
     "output_type": "execute_result"
    }
   ],
   "source": [
    "list_ex = [i+1 for i in range(0,7,2) if i%2 ==0]\n",
    "list_ex"
   ]
  },
  {
   "cell_type": "code",
   "execution_count": 237,
   "id": "b3ae1b65-88bb-48c5-be37-afa21e10dee2",
   "metadata": {},
   "outputs": [
    {
     "name": "stdout",
     "output_type": "stream",
     "text": [
      "15\n",
      "20\n",
      "100\n"
     ]
    }
   ],
   "source": [
    "list = [i for i in range(0,10) if i%2 ]"
   ]
  },
  {
   "cell_type": "code",
   "execution_count": null,
   "id": "9c94e29a-3378-4de2-9186-d0d0f85b01b4",
   "metadata": {},
   "outputs": [],
   "source": []
  },
  {
   "cell_type": "code",
   "execution_count": null,
   "id": "60af1325-ea05-4eaf-8daa-919e281fdfd7",
   "metadata": {},
   "outputs": [],
   "source": []
  }
 ],
 "metadata": {
  "kernelspec": {
   "display_name": "Python 3 (ipykernel)",
   "language": "python",
   "name": "python3"
  },
  "language_info": {
   "codemirror_mode": {
    "name": "ipython",
    "version": 3
   },
   "file_extension": ".py",
   "mimetype": "text/x-python",
   "name": "python",
   "nbconvert_exporter": "python",
   "pygments_lexer": "ipython3",
   "version": "3.12.4"
  }
 },
 "nbformat": 4,
 "nbformat_minor": 5
}
