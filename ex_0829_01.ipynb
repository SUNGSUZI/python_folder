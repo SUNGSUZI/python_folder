{
 "cells": [
  {
   "cell_type": "markdown",
   "id": "6b95ff53-6fc3-4aa1-8289-26785e615eea",
   "metadata": {},
   "source": [
    "# 연산자"
   ]
  },
  {
   "cell_type": "markdown",
   "id": "c98c9149-e7dc-435f-bebf-814d0d236dcb",
   "metadata": {},
   "source": [
    "##### + 연산자"
   ]
  },
  {
   "cell_type": "code",
   "execution_count": 3,
   "id": "d396309a-5037-46fc-8fe8-24c0f6c3fddb",
   "metadata": {},
   "outputs": [
    {
     "name": "stdout",
     "output_type": "stream",
     "text": [
      "30\n"
     ]
    }
   ],
   "source": [
    "a = 10\n",
    "b = 20\n",
    "c= a + b\n",
    "\n",
    "print(c)"
   ]
  },
  {
   "cell_type": "code",
   "execution_count": 5,
   "id": "060954f8-bd50-4783-9e05-fbe0f0e02723",
   "metadata": {},
   "outputs": [
    {
     "name": "stdout",
     "output_type": "stream",
     "text": [
      "hi안녕\n"
     ]
    }
   ],
   "source": [
    "str_String_1 =\"hi\"\n",
    "str_String_2 =\"안녕\"\n",
    "str_String_3 = str_String_1 + str_String_2\n",
    "print(str_String_3)\n",
    "\n"
   ]
  },
  {
   "cell_type": "code",
   "execution_count": 46,
   "id": "eb081f89-6f24-4fc6-919a-d11743980f23",
   "metadata": {},
   "outputs": [
    {
     "data": {
      "text/plain": [
       "[1, 2, 3, 4, 5, 6]"
      ]
     },
     "execution_count": 46,
     "metadata": {},
     "output_type": "execute_result"
    }
   ],
   "source": [
    "ls_list_1 = [1, 2, 3]\n",
    "ls_list_2 = [4, 5, 6]\n",
    "c = ls_list_1 +  ls_list_2\n",
    "c"
   ]
  },
  {
   "cell_type": "code",
   "execution_count": 9,
   "id": "dff92857-c8b2-4662-8399-78c2eeaf666a",
   "metadata": {},
   "outputs": [
    {
     "data": {
      "text/plain": [
       "(1, 2, 3, 4, 5, 6)"
      ]
     },
     "execution_count": 9,
     "metadata": {},
     "output_type": "execute_result"
    }
   ],
   "source": [
    "t_tuple_1 = (1, 2, 3)\n",
    "t_tuple_2 = (4, 5, 6)\n",
    "c = t_tuple_1 +  t_tuple_2\n",
    "c"
   ]
  },
  {
   "cell_type": "markdown",
   "id": "48af33bb-4412-4bef-838f-1ef2677f6e98",
   "metadata": {},
   "source": [
    "#### set 과 dictionary는 + 연산자를 사용할 수 없음"
   ]
  },
  {
   "cell_type": "code",
   "execution_count": 13,
   "id": "100bae9b-c566-401e-8cf1-b8eba0fb9b2f",
   "metadata": {},
   "outputs": [
    {
     "ename": "TypeError",
     "evalue": "unsupported operand type(s) for +: 'set' and 'set'",
     "output_type": "error",
     "traceback": [
      "\u001b[1;31m---------------------------------------------------------------------------\u001b[0m",
      "\u001b[1;31mTypeError\u001b[0m                                 Traceback (most recent call last)",
      "Cell \u001b[1;32mIn[13], line 3\u001b[0m\n\u001b[0;32m      1\u001b[0m s_set_1 \u001b[38;5;241m=\u001b[39m {\u001b[38;5;241m1\u001b[39m, \u001b[38;5;241m2\u001b[39m, \u001b[38;5;241m3\u001b[39m}\n\u001b[0;32m      2\u001b[0m s_set_2 \u001b[38;5;241m=\u001b[39m {\u001b[38;5;241m4\u001b[39m, \u001b[38;5;241m5\u001b[39m, \u001b[38;5;241m6\u001b[39m}\n\u001b[1;32m----> 3\u001b[0m c \u001b[38;5;241m=\u001b[39m s_set_1 \u001b[38;5;241m+\u001b[39m s_set_2\n\u001b[0;32m      5\u001b[0m \u001b[38;5;28mprint\u001b[39m(c)\n",
      "\u001b[1;31mTypeError\u001b[0m: unsupported operand type(s) for +: 'set' and 'set'"
     ]
    }
   ],
   "source": [
    "s_set_1 = {1, 2, 3}\n",
    "s_set_2 = {4, 5, 6}\n",
    "c = s_set_1 + s_set_2\n",
    "\n",
    "print(c)\n"
   ]
  },
  {
   "cell_type": "code",
   "execution_count": 15,
   "id": "02a3806d-962f-4070-8239-c9c8b5d95d51",
   "metadata": {},
   "outputs": [
    {
     "name": "stdout",
     "output_type": "stream",
     "text": [
      "{1, 2, 3, 4, 5, 6}\n"
     ]
    }
   ],
   "source": [
    "s_set_1 = {1, 2, 3}\n",
    "s_set_2 = {4, 5, 6}\n",
    "c = s_set_1.union(s_set_2)\n",
    "\n",
    "print(c)"
   ]
  },
  {
   "cell_type": "code",
   "execution_count": 17,
   "id": "04192fe0-a142-4a64-bf28-c76124458384",
   "metadata": {},
   "outputs": [
    {
     "ename": "TypeError",
     "evalue": "unsupported operand type(s) for +: 'dict' and 'dict'",
     "output_type": "error",
     "traceback": [
      "\u001b[1;31m---------------------------------------------------------------------------\u001b[0m",
      "\u001b[1;31mTypeError\u001b[0m                                 Traceback (most recent call last)",
      "Cell \u001b[1;32mIn[17], line 4\u001b[0m\n\u001b[0;32m      1\u001b[0m dict_dictionary_1 \u001b[38;5;241m=\u001b[39m {\u001b[38;5;241m1\u001b[39m:\u001b[38;5;241m10\u001b[39m, \u001b[38;5;241m2\u001b[39m:\u001b[38;5;241m20\u001b[39m}\n\u001b[0;32m      2\u001b[0m dict_dictionary_2 \u001b[38;5;241m=\u001b[39m {\u001b[38;5;241m3\u001b[39m:\u001b[38;5;241m30\u001b[39m, \u001b[38;5;241m4\u001b[39m:\u001b[38;5;241m40\u001b[39m}\n\u001b[1;32m----> 4\u001b[0m c\u001b[38;5;241m=\u001b[39m dict_dictionary_1 \u001b[38;5;241m+\u001b[39m dict_dictionary_2\n\u001b[0;32m      6\u001b[0m \u001b[38;5;28mprint\u001b[39m(c)\n",
      "\u001b[1;31mTypeError\u001b[0m: unsupported operand type(s) for +: 'dict' and 'dict'"
     ]
    }
   ],
   "source": [
    "dict_dictionary_1 = {1:10, 2:20}\n",
    "dict_dictionary_2 = {3:30, 4:40}\n",
    "\n",
    "c= dict_dictionary_1 + dict_dictionary_2\n",
    "\n",
    "print(c)"
   ]
  },
  {
   "cell_type": "code",
   "execution_count": 18,
   "id": "06398716-ea14-464f-91b3-56e733871a3e",
   "metadata": {},
   "outputs": [
    {
     "name": "stdout",
     "output_type": "stream",
     "text": [
      "None\n"
     ]
    }
   ],
   "source": [
    "dict_dictionary_1 = {1:10, 2:20}\n",
    "dict_dictionary_2 = {3:30, 4:40}\n",
    "\n",
    "c= dict_dictionary_1.update(dict_dictionary_2)\n",
    "print(c)"
   ]
  },
  {
   "cell_type": "markdown",
   "id": "fb15b3f4-19ea-40f9-8b42-ef91475ce3af",
   "metadata": {},
   "source": [
    "### 다른 종류의 자료형끼리의 + 연산\n",
    "- 숫자형과 문자열끼리의 '+' 연산 => 안됨"
   ]
  },
  {
   "cell_type": "code",
   "execution_count": 20,
   "id": "2093c82a-3851-4e07-a417-8c8b5627e3c8",
   "metadata": {},
   "outputs": [
    {
     "ename": "TypeError",
     "evalue": "unsupported operand type(s) for +: 'int' and 'str'",
     "output_type": "error",
     "traceback": [
      "\u001b[1;31m---------------------------------------------------------------------------\u001b[0m",
      "\u001b[1;31mTypeError\u001b[0m                                 Traceback (most recent call last)",
      "Cell \u001b[1;32mIn[20], line 1\u001b[0m\n\u001b[1;32m----> 1\u001b[0m c \u001b[38;5;241m=\u001b[39m a \u001b[38;5;241m+\u001b[39m str_String_1\n\u001b[0;32m      2\u001b[0m \u001b[38;5;28mprint\u001b[39m(c)\n",
      "\u001b[1;31mTypeError\u001b[0m: unsupported operand type(s) for +: 'int' and 'str'"
     ]
    }
   ],
   "source": [
    "c = a + str_String_1\n",
    "print(c)"
   ]
  },
  {
   "cell_type": "code",
   "execution_count": 21,
   "id": "81383e03-52e4-482e-95e9-05823806caa3",
   "metadata": {},
   "outputs": [
    {
     "name": "stdout",
     "output_type": "stream",
     "text": [
      "aaahi\n"
     ]
    }
   ],
   "source": [
    "a2 = \"aaa\"\n",
    "c = a2+str_String_1\n",
    "\n",
    "print(c)"
   ]
  },
  {
   "cell_type": "code",
   "execution_count": 22,
   "id": "7b8bde68-3928-40f7-b7e1-a96c0ff9eaeb",
   "metadata": {},
   "outputs": [
    {
     "name": "stdout",
     "output_type": "stream",
     "text": [
      "aaa1\n"
     ]
    }
   ],
   "source": [
    "str_String_3 = \"1\"\n",
    "c = a2+ str_String_3\n",
    "print(c)"
   ]
  },
  {
   "cell_type": "code",
   "execution_count": 25,
   "id": "cced96b1-f466-4a7c-a22a-4e2f9c7d0798",
   "metadata": {},
   "outputs": [
    {
     "name": "stdout",
     "output_type": "stream",
     "text": [
      "aaa1\n"
     ]
    }
   ],
   "source": [
    "# 숫자로 이루어진 문자열을 숫자로 변환 후 다른 수 와 더하기 연산 가능\n",
    "\n",
    "result = int(str_String_3) # result =1\n",
    "result + 2\n",
    "\n",
    "print(c)"
   ]
  },
  {
   "cell_type": "code",
   "execution_count": 28,
   "id": "661402a0-8e15-49aa-81da-8ffefc2777de",
   "metadata": {},
   "outputs": [
    {
     "name": "stdout",
     "output_type": "stream",
     "text": [
      "hi10\n"
     ]
    }
   ],
   "source": [
    "# 문자열과 숫자를 더하기 하고 싶다면, 숫자를 문자열로 바꾸어서 더하기 연산 가능\n",
    "c = str_String_1 + str(a) \n",
    "\n",
    "print(c)"
   ]
  },
  {
   "cell_type": "code",
   "execution_count": null,
   "id": "44803ce0-ef4a-4e70-9780-4516a6b9b56c",
   "metadata": {},
   "outputs": [],
   "source": []
  },
  {
   "cell_type": "markdown",
   "id": "94914242-4000-447a-8170-ff3d198d794f",
   "metadata": {},
   "source": [
    "# - 연산"
   ]
  },
  {
   "cell_type": "code",
   "execution_count": 29,
   "id": "06936b70-23e4-4460-b927-93f39c144e84",
   "metadata": {},
   "outputs": [
    {
     "name": "stdout",
     "output_type": "stream",
     "text": [
      "-10\n"
     ]
    }
   ],
   "source": [
    "a= 10\n",
    "b = 20\n",
    "c = a - b\n",
    "\n",
    "print(c)"
   ]
  },
  {
   "cell_type": "code",
   "execution_count": 31,
   "id": "38c0a592-2b78-49b2-aead-44875f1c38e8",
   "metadata": {},
   "outputs": [
    {
     "name": "stdout",
     "output_type": "stream",
     "text": [
      "0\n"
     ]
    }
   ],
   "source": [
    "d = 1\n",
    "result = 1- d\n",
    "print(result)"
   ]
  },
  {
   "cell_type": "code",
   "execution_count": 39,
   "id": "6e6ad76d-4ad0-4f9d-8683-ce4de96e9538",
   "metadata": {},
   "outputs": [
    {
     "name": "stdout",
     "output_type": "stream",
     "text": [
      "1\n"
     ]
    }
   ],
   "source": [
    "d = 1- d\n",
    "print(d)\n",
    "\n",
    "## 해당 명령어들을 실행시키면 0과 1이 반복하며 나오는 것을 확인 할 수 있음\n",
    "## 이를 스위치 알고리즘이라고 함."
   ]
  },
  {
   "cell_type": "markdown",
   "id": "630d34df-c6eb-4d5e-8a59-b71174a0a83a",
   "metadata": {},
   "source": [
    "# * 연산자(곱하기)"
   ]
  },
  {
   "cell_type": "code",
   "execution_count": 41,
   "id": "e4af30f1-f052-4529-b69d-911a9ebbb196",
   "metadata": {},
   "outputs": [
    {
     "name": "stdout",
     "output_type": "stream",
     "text": [
      "200\n"
     ]
    }
   ],
   "source": [
    "a = 10\n",
    "b = 20\n",
    "c = a * b\n",
    "\n",
    "print(c)"
   ]
  },
  {
   "cell_type": "markdown",
   "id": "5d49e4dc-1320-48e9-bb65-e7e553d8b2df",
   "metadata": {},
   "source": [
    "#### 곱하기 연산자는 문자열과 숫자의 연산이 가능함. "
   ]
  },
  {
   "cell_type": "code",
   "execution_count": 42,
   "id": "38507ccf-80e7-4c6c-ae9d-bf0ecd9ed37a",
   "metadata": {},
   "outputs": [
    {
     "name": "stdout",
     "output_type": "stream",
     "text": [
      "@@@@@@@@@@\n"
     ]
    }
   ],
   "source": [
    "d = \"@\"\n",
    "\n",
    "c = d * a\n",
    "\n",
    "print(c)"
   ]
  },
  {
   "cell_type": "markdown",
   "id": "4af39fd2-e368-47b9-b589-6fe614756c4a",
   "metadata": {},
   "source": [
    "#### 리스트(또는 튜플)와 숫자의 곱하기 연산 가능\n",
    "c = ls_lsit_1 *2\n",
    "print(c)"
   ]
  },
  {
   "cell_type": "code",
   "execution_count": 48,
   "id": "9deb7f22-0099-4c46-876a-3b95c26ed00c",
   "metadata": {},
   "outputs": [
    {
     "name": "stdout",
     "output_type": "stream",
     "text": [
      "[1, 2, 3, 1, 2, 3]\n"
     ]
    }
   ],
   "source": [
    "\n",
    "c = ls_list_1 *2 \n",
    "print(c)"
   ]
  },
  {
   "cell_type": "markdown",
   "id": "7e6d486d-8fc0-407e-8166-036792f89af9",
   "metadata": {},
   "source": [
    "#### /(나누기) 연산자"
   ]
  },
  {
   "cell_type": "code",
   "execution_count": 49,
   "id": "2b7ed2ee-f8ed-481d-95fc-acc336f5db3d",
   "metadata": {},
   "outputs": [
    {
     "name": "stdout",
     "output_type": "stream",
     "text": [
      "3.3333333333333335\n"
     ]
    }
   ],
   "source": [
    "a = 3\n",
    "b = 10\n",
    "c = b / a\n",
    "\n",
    "\n",
    "print(c)\n"
   ]
  },
  {
   "cell_type": "markdown",
   "id": "280bec05-1e53-4301-867f-2a33359789ae",
   "metadata": {},
   "source": [
    "#### **(제곱연산자), //(몫 연산자), %(나머지 연산자)"
   ]
  },
  {
   "cell_type": "code",
   "execution_count": 52,
   "id": "0572e797-900a-465a-b6de-4c39c3031378",
   "metadata": {},
   "outputs": [
    {
     "name": "stdout",
     "output_type": "stream",
     "text": [
      "8\n"
     ]
    }
   ],
   "source": [
    "c= 2 ** 3\n",
    "print(c)"
   ]
  },
  {
   "cell_type": "code",
   "execution_count": 57,
   "id": "6b207e7b-7380-4371-a969-91fd3cedd602",
   "metadata": {},
   "outputs": [
    {
     "name": "stdout",
     "output_type": "stream",
     "text": [
      "0\n",
      "3\n"
     ]
    }
   ],
   "source": [
    "c = 4//5\n",
    "print(c)\n",
    "\n",
    "c = 15 // 4\n",
    "print(c)"
   ]
  },
  {
   "cell_type": "code",
   "execution_count": 60,
   "id": "4b568b36-35e4-4761-8c43-20a46166f31b",
   "metadata": {},
   "outputs": [
    {
     "name": "stdout",
     "output_type": "stream",
     "text": [
      "3.75\n"
     ]
    }
   ],
   "source": [
    "c = 15 / 4\n",
    "print(c)"
   ]
  },
  {
   "cell_type": "code",
   "execution_count": 64,
   "id": "69e5df40-612e-4824-ba7b-8aaaa1754083",
   "metadata": {},
   "outputs": [
    {
     "name": "stdout",
     "output_type": "stream",
     "text": [
      "3\n"
     ]
    }
   ],
   "source": [
    "c = 15 % 4\n",
    "print(c)"
   ]
  },
  {
   "cell_type": "code",
   "execution_count": 67,
   "id": "63761051-5eab-4844-b7e4-c1da6b94c06e",
   "metadata": {},
   "outputs": [
    {
     "ename": "NameError",
     "evalue": "name 't_tuple' is not defined",
     "output_type": "error",
     "traceback": [
      "\u001b[1;31m---------------------------------------------------------------------------\u001b[0m",
      "\u001b[1;31mNameError\u001b[0m                                 Traceback (most recent call last)",
      "Cell \u001b[1;32mIn[67], line 1\u001b[0m\n\u001b[1;32m----> 1\u001b[0m t_tuple(\u001b[38;5;241m10\u001b[39m)\n",
      "\u001b[1;31mNameError\u001b[0m: name 't_tuple' is not defined"
     ]
    }
   ],
   "source": [
    "t_tuple(30,20)\n"
   ]
  },
  {
   "cell_type": "code",
   "execution_count": 69,
   "id": "e14ca7b2-9caf-4c15-87b7-07f4d9bb70fb",
   "metadata": {},
   "outputs": [
    {
     "name": "stdout",
     "output_type": "stream",
     "text": [
      "1번째 17\n",
      "2번째 13\n",
      "3번째 30\n",
      "4번째 7.5\n",
      "5번째 7\n",
      "6번째 1\n",
      "7번째 32\n",
      "8번째 12\n",
      "9번째 12\n",
      "10번째 12\n",
      "11번째 2\n",
      "12번째 1\n",
      "13번째 2\n",
      "14번째 3\n",
      "15번째 2\n"
     ]
    }
   ],
   "source": [
    "a = 15\n",
    "b = 2\n",
    "# 1.\n",
    "c = a + b\n",
    "print(\"1번째\",c)\n",
    "#1번째 17\n",
    "\n",
    "# 2.\n",
    "c = a - b\n",
    "print(\"2번째\",c)\n",
    "#2번째 13\n",
    "\n",
    "# 3.\n",
    "c = a * b\n",
    "print(\"3번째\",c)\n",
    "# 3번째 30\n",
    "\n",
    "# 4.\n",
    "c = a / b\n",
    "print(\"4번째\",c)\n",
    "# 4번째 7.5\n",
    "\n",
    "# 5.\n",
    "c = a // b\n",
    "print(\"5번째\",c)\n",
    "# 5번째 7\n",
    "\n",
    "# 6.\n",
    "c = a % b\n",
    "print(\"6번째\",c)\n",
    "#6번째 1\n",
    "\n",
    "# 7.\n",
    "c = 2 ** 5\n",
    "print(\"7번째\", c)\n",
    "#7번째 32\n",
    "\n",
    "# 8.\n",
    "a = 0\n",
    "c = 12\n",
    "a += c\n",
    "print(\"8번째\", c)\n",
    "# 8번째 12\n",
    "\n",
    "\n",
    "# 9.\n",
    "a = 5\n",
    "c = 12\n",
    "a -= c\n",
    "print(\"9번째\", c)\n",
    "#9번째 12\n",
    "\n",
    "# 10.\n",
    "a = 1\n",
    "c = 12\n",
    "a /= c\n",
    "print(\"10번째\", c)\n",
    "#10번째 12\n",
    "\n",
    "# 11.\n",
    "a = 12\n",
    "c = 2\n",
    "a %= c\n",
    "print(\"11번째\", c)\n",
    "#11번째 2\n",
    "\n",
    "# 12.\n",
    "a = 12\n",
    "c = 1\n",
    "a *= c\n",
    "print(\"12번째\", c)\n",
    "#12번째 1\n",
    "\n",
    "# 13.\n",
    "a = 2\n",
    "c = 2\n",
    "a **= c\n",
    "print(\"13번째\", c)\n",
    "#13번째 2\n",
    "\n",
    "# 14.\n",
    "a = 4\n",
    "c = 3\n",
    "a //= c\n",
    "print(\"14번째\", c)\n",
    "#14번째 3\n",
    "\n",
    "\n",
    "# 15.\n",
    "a = 1\n",
    "c = 2\n",
    "a ** c\n",
    "print(\"15번째\", c)\n",
    "#15번째 2"
   ]
  },
  {
   "cell_type": "code",
   "execution_count": 70,
   "id": "df2bba04-f274-4f26-a4d6-1d3655eda58e",
   "metadata": {},
   "outputs": [
    {
     "data": {
      "text/plain": [
       "False"
      ]
     },
     "execution_count": 70,
     "metadata": {},
     "output_type": "execute_result"
    }
   ],
   "source": [
    " a > b"
   ]
  },
  {
   "cell_type": "code",
   "execution_count": null,
   "id": "652a18db-eaf0-465e-bba9-8145e37dac2d",
   "metadata": {},
   "outputs": [],
   "source": [
    "# a < b (a는 b보다 작다.)\n",
    "# a > b (a는 b보다 크다.)\n",
    "# a == b (a와 b는 같다.)\n",
    "# != (a와 b는 같지않음)\n",
    "# a >= b (a는 b보다 크거나 같다.)\n",
    "# a <= b (a는 b보다 작거나 같다.)"
   ]
  },
  {
   "cell_type": "code",
   "execution_count": 76,
   "id": "6e286a74-8c8c-4b8d-a154-b043eaa3c447",
   "metadata": {},
   "outputs": [
    {
     "name": "stdout",
     "output_type": "stream",
     "text": [
      "False\n",
      "False\n",
      "True\n",
      "False\n",
      "False\n",
      "True\n",
      "True\n",
      "True\n"
     ]
    }
   ],
   "source": [
    "a =10 \n",
    "b = 10\n",
    "c = 20\n",
    "\n",
    "\n",
    "print(a>b)\n",
    "print(a<b)\n",
    "print(a==b)\n",
    "print(a==c)\n",
    "print(a!=b)\n",
    "print(a!=c)\n",
    "print(a>=b)\n",
    "print(a<=b)"
   ]
  },
  {
   "cell_type": "code",
   "execution_count": 84,
   "id": "a8b8e142-80da-4784-a244-9c8e797f4ff2",
   "metadata": {},
   "outputs": [
    {
     "name": "stdout",
     "output_type": "stream",
     "text": [
      "1. ###############\n",
      "False\n",
      "True\n",
      "False\n",
      "True\n",
      "False\n",
      "True\n",
      "2. ###############\n",
      "False\n",
      "True\n",
      "True\n",
      "False\n",
      "False\n",
      "True\n",
      "3. ###############\n",
      "False\n",
      "True\n",
      "False\n",
      "True\n",
      "False\n",
      "True\n"
     ]
    }
   ],
   "source": [
    "print(\"1. ###############\")\n",
    "a =20 \n",
    "b = 450\n",
    "c = 450\n",
    "\n",
    "print(a>b)#False\n",
    "print(a<b)#True\n",
    "print(a==b)#False\n",
    "print(a!=b)#True\n",
    "print(a>=b)#False\n",
    "print(a<=b)#True\n",
    "\n",
    "print(\"2. ###############\")\n",
    "a =1 \n",
    "b = 10\n",
    "c = 10\n",
    "\n",
    "print(a>b)#False\n",
    "print(a<b)#True\n",
    "print(a==(b//10))#True\n",
    "print(a!=(a%b))#False\n",
    "print(a>=b)#False\n",
    "print(a<=b)#True\n",
    "\n",
    "\n",
    "print(\"3. ###############\")\n",
    "a =10 \n",
    "b = 30\n",
    "c = 20\n",
    "\n",
    "print(a>b)#False\n",
    "print(a<b)#True\n",
    "print(a==b)#False\n",
    "print(a!=b)#True\n",
    "print(a>=b)#False\n",
    "print(a<=b)#True"
   ]
  },
  {
   "cell_type": "code",
   "execution_count": null,
   "id": "fe130a6b-47f6-4bf4-8796-afe2db4e2d55",
   "metadata": {},
   "outputs": [],
   "source": []
  }
 ],
 "metadata": {
  "kernelspec": {
   "display_name": "Python 3 (ipykernel)",
   "language": "python",
   "name": "python3"
  },
  "language_info": {
   "codemirror_mode": {
    "name": "ipython",
    "version": 3
   },
   "file_extension": ".py",
   "mimetype": "text/x-python",
   "name": "python",
   "nbconvert_exporter": "python",
   "pygments_lexer": "ipython3",
   "version": "3.12.4"
  }
 },
 "nbformat": 4,
 "nbformat_minor": 5
}
