{
 "cells": [
  {
   "cell_type": "markdown",
   "id": "6b95ff53-6fc3-4aa1-8289-26785e615eea",
   "metadata": {},
   "source": [
    "# 연산자"
   ]
  },
  {
   "cell_type": "markdown",
   "id": "c98c9149-e7dc-435f-bebf-814d0d236dcb",
   "metadata": {},
   "source": [
    "##### + 연산자"
   ]
  },
  {
   "cell_type": "code",
   "execution_count": 3,
   "id": "d396309a-5037-46fc-8fe8-24c0f6c3fddb",
   "metadata": {},
   "outputs": [
    {
     "name": "stdout",
     "output_type": "stream",
     "text": [
      "30\n"
     ]
    }
   ],
   "source": [
    "a = 10\n",
    "b = 20\n",
    "c= a + b\n",
    "\n",
    "print(c)"
   ]
  },
  {
   "cell_type": "code",
   "execution_count": 5,
   "id": "060954f8-bd50-4783-9e05-fbe0f0e02723",
   "metadata": {},
   "outputs": [
    {
     "name": "stdout",
     "output_type": "stream",
     "text": [
      "hi안녕\n"
     ]
    }
   ],
   "source": [
    "str_String_1 =\"hi\"\n",
    "str_String_2 =\"안녕\"\n",
    "str_String_3 = str_String_1 + str_String_2\n",
    "print(str_String_3)\n",
    "\n"
   ]
  },
  {
   "cell_type": "code",
   "execution_count": 7,
   "id": "eb081f89-6f24-4fc6-919a-d11743980f23",
   "metadata": {},
   "outputs": [
    {
     "data": {
      "text/plain": [
       "[1, 2, 3, 4, 5, 6]"
      ]
     },
     "execution_count": 7,
     "metadata": {},
     "output_type": "execute_result"
    }
   ],
   "source": [
    "ls_list_1 = [1, 2, 3]\n",
    "ls_list_2 = [4, 5, 6]\n",
    "c = ls_list_1 +  ls_list_2\n",
    "c"
   ]
  },
  {
   "cell_type": "code",
   "execution_count": 9,
   "id": "dff92857-c8b2-4662-8399-78c2eeaf666a",
   "metadata": {},
   "outputs": [
    {
     "data": {
      "text/plain": [
       "(1, 2, 3, 4, 5, 6)"
      ]
     },
     "execution_count": 9,
     "metadata": {},
     "output_type": "execute_result"
    }
   ],
   "source": [
    "t_tuple_1 = (1, 2, 3)\n",
    "t_tuple_2 = (4, 5, 6)\n",
    "c = t_tuple_1 +  t_tuple_2\n",
    "c"
   ]
  },
  {
   "cell_type": "markdown",
   "id": "48af33bb-4412-4bef-838f-1ef2677f6e98",
   "metadata": {},
   "source": [
    "#### set 과 dictionary는 + 연산자를 사용할 수 없음"
   ]
  },
  {
   "cell_type": "code",
   "execution_count": 13,
   "id": "100bae9b-c566-401e-8cf1-b8eba0fb9b2f",
   "metadata": {},
   "outputs": [
    {
     "ename": "TypeError",
     "evalue": "unsupported operand type(s) for +: 'set' and 'set'",
     "output_type": "error",
     "traceback": [
      "\u001b[1;31m---------------------------------------------------------------------------\u001b[0m",
      "\u001b[1;31mTypeError\u001b[0m                                 Traceback (most recent call last)",
      "Cell \u001b[1;32mIn[13], line 3\u001b[0m\n\u001b[0;32m      1\u001b[0m s_set_1 \u001b[38;5;241m=\u001b[39m {\u001b[38;5;241m1\u001b[39m, \u001b[38;5;241m2\u001b[39m, \u001b[38;5;241m3\u001b[39m}\n\u001b[0;32m      2\u001b[0m s_set_2 \u001b[38;5;241m=\u001b[39m {\u001b[38;5;241m4\u001b[39m, \u001b[38;5;241m5\u001b[39m, \u001b[38;5;241m6\u001b[39m}\n\u001b[1;32m----> 3\u001b[0m c \u001b[38;5;241m=\u001b[39m s_set_1 \u001b[38;5;241m+\u001b[39m s_set_2\n\u001b[0;32m      5\u001b[0m \u001b[38;5;28mprint\u001b[39m(c)\n",
      "\u001b[1;31mTypeError\u001b[0m: unsupported operand type(s) for +: 'set' and 'set'"
     ]
    }
   ],
   "source": [
    "s_set_1 = {1, 2, 3}\n",
    "s_set_2 = {4, 5, 6}\n",
    "c = s_set_1 + s_set_2\n",
    "\n",
    "print(c)\n"
   ]
  },
  {
   "cell_type": "code",
   "execution_count": 15,
   "id": "02a3806d-962f-4070-8239-c9c8b5d95d51",
   "metadata": {},
   "outputs": [
    {
     "name": "stdout",
     "output_type": "stream",
     "text": [
      "{1, 2, 3, 4, 5, 6}\n"
     ]
    }
   ],
   "source": [
    "s_set_1 = {1, 2, 3}\n",
    "s_set_2 = {4, 5, 6}\n",
    "c = s_set_1.union(s_set_2)\n",
    "\n",
    "print(c)"
   ]
  },
  {
   "cell_type": "code",
   "execution_count": 17,
   "id": "04192fe0-a142-4a64-bf28-c76124458384",
   "metadata": {},
   "outputs": [
    {
     "ename": "TypeError",
     "evalue": "unsupported operand type(s) for +: 'dict' and 'dict'",
     "output_type": "error",
     "traceback": [
      "\u001b[1;31m---------------------------------------------------------------------------\u001b[0m",
      "\u001b[1;31mTypeError\u001b[0m                                 Traceback (most recent call last)",
      "Cell \u001b[1;32mIn[17], line 4\u001b[0m\n\u001b[0;32m      1\u001b[0m dict_dictionary_1 \u001b[38;5;241m=\u001b[39m {\u001b[38;5;241m1\u001b[39m:\u001b[38;5;241m10\u001b[39m, \u001b[38;5;241m2\u001b[39m:\u001b[38;5;241m20\u001b[39m}\n\u001b[0;32m      2\u001b[0m dict_dictionary_2 \u001b[38;5;241m=\u001b[39m {\u001b[38;5;241m3\u001b[39m:\u001b[38;5;241m30\u001b[39m, \u001b[38;5;241m4\u001b[39m:\u001b[38;5;241m40\u001b[39m}\n\u001b[1;32m----> 4\u001b[0m c\u001b[38;5;241m=\u001b[39m dict_dictionary_1 \u001b[38;5;241m+\u001b[39m dict_dictionary_2\n\u001b[0;32m      6\u001b[0m \u001b[38;5;28mprint\u001b[39m(c)\n",
      "\u001b[1;31mTypeError\u001b[0m: unsupported operand type(s) for +: 'dict' and 'dict'"
     ]
    }
   ],
   "source": [
    "dict_dictionary_1 = {1:10, 2:20}\n",
    "dict_dictionary_2 = {3:30, 4:40}\n",
    "\n",
    "c= dict_dictionary_1 + dict_dictionary_2\n",
    "\n",
    "print(c)"
   ]
  },
  {
   "cell_type": "code",
   "execution_count": 18,
   "id": "06398716-ea14-464f-91b3-56e733871a3e",
   "metadata": {},
   "outputs": [
    {
     "name": "stdout",
     "output_type": "stream",
     "text": [
      "None\n"
     ]
    }
   ],
   "source": [
    "dict_dictionary_1 = {1:10, 2:20}\n",
    "dict_dictionary_2 = {3:30, 4:40}\n",
    "\n",
    "c= dict_dictionary_1.update(dict_dictionary_2)\n",
    "print(c)"
   ]
  },
  {
   "cell_type": "markdown",
   "id": "fb15b3f4-19ea-40f9-8b42-ef91475ce3af",
   "metadata": {},
   "source": [
    "### 다른 종류의 자료형끼리의 + 연산\n",
    "- 숫자형과 문자열끼리의 '+' 연산 => 안됨"
   ]
  },
  {
   "cell_type": "code",
   "execution_count": 20,
   "id": "2093c82a-3851-4e07-a417-8c8b5627e3c8",
   "metadata": {},
   "outputs": [
    {
     "ename": "TypeError",
     "evalue": "unsupported operand type(s) for +: 'int' and 'str'",
     "output_type": "error",
     "traceback": [
      "\u001b[1;31m---------------------------------------------------------------------------\u001b[0m",
      "\u001b[1;31mTypeError\u001b[0m                                 Traceback (most recent call last)",
      "Cell \u001b[1;32mIn[20], line 1\u001b[0m\n\u001b[1;32m----> 1\u001b[0m c \u001b[38;5;241m=\u001b[39m a \u001b[38;5;241m+\u001b[39m str_String_1\n\u001b[0;32m      2\u001b[0m \u001b[38;5;28mprint\u001b[39m(c)\n",
      "\u001b[1;31mTypeError\u001b[0m: unsupported operand type(s) for +: 'int' and 'str'"
     ]
    }
   ],
   "source": [
    "c = a + str_String_1\n",
    "print(c)"
   ]
  },
  {
   "cell_type": "code",
   "execution_count": 21,
   "id": "81383e03-52e4-482e-95e9-05823806caa3",
   "metadata": {},
   "outputs": [
    {
     "name": "stdout",
     "output_type": "stream",
     "text": [
      "aaahi\n"
     ]
    }
   ],
   "source": [
    "a2 = \"aaa\"\n",
    "c = a2+str_String_1\n",
    "\n",
    "print(c)"
   ]
  },
  {
   "cell_type": "code",
   "execution_count": 22,
   "id": "7b8bde68-3928-40f7-b7e1-a96c0ff9eaeb",
   "metadata": {},
   "outputs": [
    {
     "name": "stdout",
     "output_type": "stream",
     "text": [
      "aaa1\n"
     ]
    }
   ],
   "source": [
    "str_String_3 = \"1\"\n",
    "c = a2+ str_String_3\n",
    "print(c)"
   ]
  },
  {
   "cell_type": "code",
   "execution_count": 25,
   "id": "cced96b1-f466-4a7c-a22a-4e2f9c7d0798",
   "metadata": {},
   "outputs": [
    {
     "name": "stdout",
     "output_type": "stream",
     "text": [
      "aaa1\n"
     ]
    }
   ],
   "source": [
    "# 숫자로 이루어진 문자열을 숫자로 변환 후 다른 수 와 더하기 연산 가능\n",
    "\n",
    "result = int(str_String_3) # result =1\n",
    "result + 2\n",
    "\n",
    "print(c)"
   ]
  },
  {
   "cell_type": "code",
   "execution_count": 28,
   "id": "661402a0-8e15-49aa-81da-8ffefc2777de",
   "metadata": {},
   "outputs": [
    {
     "name": "stdout",
     "output_type": "stream",
     "text": [
      "hi10\n"
     ]
    }
   ],
   "source": [
    "# 문자열과 숫자를 더하기 하고 싶다면, 숫자를 문자열로 바꾸어서 더하기 연산 가능\n",
    "c = str_String_1 + str(a) \n",
    "\n",
    "print(c)"
   ]
  },
  {
   "cell_type": "code",
   "execution_count": null,
   "id": "44803ce0-ef4a-4e70-9780-4516a6b9b56c",
   "metadata": {},
   "outputs": [],
   "source": []
  },
  {
   "cell_type": "markdown",
   "id": "94914242-4000-447a-8170-ff3d198d794f",
   "metadata": {},
   "source": [
    "# - 연산"
   ]
  },
  {
   "cell_type": "code",
   "execution_count": 29,
   "id": "06936b70-23e4-4460-b927-93f39c144e84",
   "metadata": {},
   "outputs": [
    {
     "name": "stdout",
     "output_type": "stream",
     "text": [
      "-10\n"
     ]
    }
   ],
   "source": [
    "a= 10\n",
    "b = 20\n",
    "c = a - b\n",
    "\n",
    "print(c)"
   ]
  },
  {
   "cell_type": "code",
   "execution_count": 31,
   "id": "38c0a592-2b78-49b2-aead-44875f1c38e8",
   "metadata": {},
   "outputs": [
    {
     "name": "stdout",
     "output_type": "stream",
     "text": [
      "0\n"
     ]
    }
   ],
   "source": [
    "d = 1\n",
    "result = 1- d\n",
    "print(result)"
   ]
  },
  {
   "cell_type": "code",
   "execution_count": 38,
   "id": "6e6ad76d-4ad0-4f9d-8683-ce4de96e9538",
   "metadata": {},
   "outputs": [
    {
     "name": "stdout",
     "output_type": "stream",
     "text": [
      "0\n"
     ]
    }
   ],
   "source": [
    "d = 1- d\n",
    "print(d)\n",
    "\n",
    "## 해당 명령어들을 실행시키면 0과 1이 반복하며 나오는 것을 확인 할 수 있음\n",
    "## 이를 스위치 알고리즘이라고 함."
   ]
  }
 ],
 "metadata": {
  "kernelspec": {
   "display_name": "Python 3 (ipykernel)",
   "language": "python",
   "name": "python3"
  },
  "language_info": {
   "codemirror_mode": {
    "name": "ipython",
    "version": 3
   },
   "file_extension": ".py",
   "mimetype": "text/x-python",
   "name": "python",
   "nbconvert_exporter": "python",
   "pygments_lexer": "ipython3",
   "version": "3.12.4"
  }
 },
 "nbformat": 4,
 "nbformat_minor": 5
}
