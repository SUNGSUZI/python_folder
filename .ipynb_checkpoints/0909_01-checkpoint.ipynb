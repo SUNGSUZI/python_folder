{
 "cells": [
  {
   "cell_type": "code",
   "execution_count": 51,
   "id": "77029225-0cec-49e4-844d-411b4b182327",
   "metadata": {},
   "outputs": [],
   "source": [
    "def print_fn(a) :\n",
    "    return a\n",
    "    "
   ]
  },
  {
   "cell_type": "code",
   "execution_count": 53,
   "id": "924e0a3a-e680-41e4-9eda-bcff9fb200dd",
   "metadata": {},
   "outputs": [
    {
     "data": {
      "text/plain": [
       "[1, 2, 3, 4]"
      ]
     },
     "execution_count": 53,
     "metadata": {},
     "output_type": "execute_result"
    }
   ],
   "source": [
    "ls_list = [1,2,3,4]\n",
    "list(map(print_fn, ls_list))\n"
   ]
  },
  {
   "cell_type": "code",
   "execution_count": 54,
   "id": "e8560813-b37d-4176-ba0b-49c4a8c9ac0d",
   "metadata": {},
   "outputs": [],
   "source": [
    "def tes (el) :\n",
    "    return el\n",
    "    "
   ]
  },
  {
   "cell_type": "code",
   "execution_count": null,
   "id": "03d826cb-77e6-4c00-8cc2-bf9665ab98b5",
   "metadata": {},
   "outputs": [],
   "source": []
  }
 ],
 "metadata": {
  "kernelspec": {
   "display_name": "Python 3 (ipykernel)",
   "language": "python",
   "name": "python3"
  },
  "language_info": {
   "codemirror_mode": {
    "name": "ipython",
    "version": 3
   },
   "file_extension": ".py",
   "mimetype": "text/x-python",
   "name": "python",
   "nbconvert_exporter": "python",
   "pygments_lexer": "ipython3",
   "version": "3.12.4"
  }
 },
 "nbformat": 4,
 "nbformat_minor": 5
}
