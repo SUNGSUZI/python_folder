{
 "cells": [
  {
   "cell_type": "code",
   "execution_count": 1,
   "id": "dc5f8003-a700-45e7-9a4d-874fbb58ae40",
   "metadata": {},
   "outputs": [
    {
     "name": "stdout",
     "output_type": "stream",
     "text": [
      "42\n"
     ]
    }
   ],
   "source": [
    "num_byte_1 = -128\n",
    "num_byte_1 = 42\n",
    "print (num_byte_1)"
   ]
  },
  {
   "cell_type": "code",
   "execution_count": 12,
   "id": "163f1c12-cb02-42a3-b910-cd08c7160294",
   "metadata": {},
   "outputs": [],
   "source": [
    "ls_lsit_1 = [\"홍길동\", 16,\"서울\", True]"
   ]
  },
  {
   "cell_type": "code",
   "execution_count": 14,
   "id": "de41dcb2-43c1-45d2-a2b4-a1f32c21260c",
   "metadata": {},
   "outputs": [
    {
     "name": "stdout",
     "output_type": "stream",
     "text": [
      "['홍길동', 16, '서울', True]\n"
     ]
    }
   ],
   "source": [
    "print(ls_lsit_1)"
   ]
  },
  {
   "cell_type": "code",
   "execution_count": 6,
   "id": "8189070b-fee8-44cd-922f-39a349b72d88",
   "metadata": {},
   "outputs": [],
   "source": [
    "# 인덱스는 0부터 부여된다."
   ]
  },
  {
   "cell_type": "code",
   "execution_count": 43,
   "id": "052584be-5e41-43a7-91cb-b17e29f1dc5c",
   "metadata": {},
   "outputs": [
    {
     "data": {
      "text/plain": [
       "'홍길동'"
      ]
     },
     "execution_count": 43,
     "metadata": {},
     "output_type": "execute_result"
    }
   ],
   "source": [
    "ls_lsit_1[0]\n",
    "name = ls_lsit_1[0]\n",
    "name"
   ]
  },
  {
   "cell_type": "code",
   "execution_count": 17,
   "id": "2e3004f4-d5a7-4deb-b564-e77e2ab5b0f9",
   "metadata": {},
   "outputs": [],
   "source": [
    "#indexing: 인덱싱... 리스트나 튜플 또는 딕셔너리, 셋에 들어 있는 요소값 하나를 가져오는 것"
   ]
  },
  {
   "cell_type": "code",
   "execution_count": 44,
   "id": "393e959e-56cd-41c9-bbb9-6f698b5248f6",
   "metadata": {},
   "outputs": [
    {
     "data": {
      "text/plain": [
       "16"
      ]
     },
     "execution_count": 44,
     "metadata": {},
     "output_type": "execute_result"
    }
   ],
   "source": [
    "age = ls_lsit_1[1]\n",
    "age"
   ]
  },
  {
   "cell_type": "code",
   "execution_count": null,
   "id": "08864988-5bfe-4156-a914-be43d4847c45",
   "metadata": {},
   "outputs": [],
   "source": []
  },
  {
   "cell_type": "code",
   "execution_count": 23,
   "id": "d4840d81-e485-465a-a5d3-238886f8557c",
   "metadata": {},
   "outputs": [],
   "source": [
    "#인덱스를 뒤에서부터 부여할 수도 있다.\n",
    "# 이때는 -1부터 부여한다."
   ]
  },
  {
   "cell_type": "code",
   "execution_count": 24,
   "id": "fea655e6-4c24-42af-a23f-0b8a9e958747",
   "metadata": {},
   "outputs": [
    {
     "data": {
      "text/plain": [
       "True"
      ]
     },
     "execution_count": 24,
     "metadata": {},
     "output_type": "execute_result"
    }
   ],
   "source": [
    "ls_lsit_1[-1]"
   ]
  },
  {
   "cell_type": "code",
   "execution_count": 26,
   "id": "db369b9d-f4ec-43f8-bd66-7daf634070bc",
   "metadata": {},
   "outputs": [],
   "source": [
    "# tuple에 대한 인덱싱"
   ]
  },
  {
   "cell_type": "code",
   "execution_count": 28,
   "id": "0bf9deef-f51a-4b78-b754-6e0fecda99db",
   "metadata": {},
   "outputs": [],
   "source": [
    "t_tuple_1 = (10, 20, 30, 40)"
   ]
  },
  {
   "cell_type": "code",
   "execution_count": 32,
   "id": "254df477-e71a-40d1-b686-2ef05052cf63",
   "metadata": {},
   "outputs": [
    {
     "data": {
      "text/plain": [
       "40"
      ]
     },
     "execution_count": 32,
     "metadata": {},
     "output_type": "execute_result"
    }
   ],
   "source": [
    "t_tuple_1[-1]"
   ]
  },
  {
   "cell_type": "code",
   "execution_count": 33,
   "id": "41bdf207-8625-4181-877b-219b9041a6e6",
   "metadata": {},
   "outputs": [],
   "source": [
    "# dictionary 에서 val(value의 약자로 많이 사용함)"
   ]
  },
  {
   "cell_type": "code",
   "execution_count": 35,
   "id": "f2bd9bcb-c855-4dc0-8463-00fea269e118",
   "metadata": {},
   "outputs": [],
   "source": [
    "dict_dictionary_1 = {\"id\":\"m001\",\"name\":\"홍길동\",\"age\":16,\"addr\":\"서울\"}"
   ]
  },
  {
   "cell_type": "code",
   "execution_count": 41,
   "id": "7fb82671-9c07-43bb-9745-2db0f6edb5b2",
   "metadata": {},
   "outputs": [
    {
     "data": {
      "text/plain": [
       "'m001'"
      ]
     },
     "execution_count": 41,
     "metadata": {},
     "output_type": "execute_result"
    }
   ],
   "source": [
    "dict_dictionary_1[\"id\"]"
   ]
  },
  {
   "cell_type": "code",
   "execution_count": 42,
   "id": "7dad5c8b-7865-4438-98dd-3637bf174212",
   "metadata": {},
   "outputs": [
    {
     "data": {
      "text/plain": [
       "16"
      ]
     },
     "execution_count": 42,
     "metadata": {},
     "output_type": "execute_result"
    }
   ],
   "source": [
    "dict_dictionary_1[\"age\"]\n"
   ]
  },
  {
   "cell_type": "code",
   "execution_count": 52,
   "id": "1c1d135e-809c-4ae7-91b4-8d8b9be2bc58",
   "metadata": {},
   "outputs": [
    {
     "data": {
      "text/plain": [
       "'서울'"
      ]
     },
     "execution_count": 52,
     "metadata": {},
     "output_type": "execute_result"
    }
   ],
   "source": [
    "address = dict_dictionary_1[\"addr\"]\n",
    "address"
   ]
  },
  {
   "cell_type": "code",
   "execution_count": 54,
   "id": "1fd24d5e-71ce-4cd2-8c2c-d918a7a04911",
   "metadata": {},
   "outputs": [],
   "source": [
    "# set의 요소값 가져오기"
   ]
  },
  {
   "cell_type": "code",
   "execution_count": 56,
   "id": "a0632140-267a-45ca-92c5-f7be74d7ad9c",
   "metadata": {},
   "outputs": [],
   "source": [
    "s_set_1 = {1,10,100,1000,10000}"
   ]
  },
  {
   "cell_type": "code",
   "execution_count": 59,
   "id": "b4a6c336-3a7a-49c8-bdcb-9ff29f33c3fd",
   "metadata": {},
   "outputs": [],
   "source": [
    "ls_list_2 = list(s_set_1)"
   ]
  },
  {
   "cell_type": "code",
   "execution_count": 61,
   "id": "5af3262d-3a7c-4857-9845-2050c79a19b6",
   "metadata": {},
   "outputs": [
    {
     "data": {
      "text/plain": [
       "[10000, 1, 100, 1000, 10]"
      ]
     },
     "execution_count": 61,
     "metadata": {},
     "output_type": "execute_result"
    }
   ],
   "source": [
    "ls_list_2"
   ]
  },
  {
   "cell_type": "code",
   "execution_count": 62,
   "id": "0c3dbeb2-b4f5-4f20-8470-b558e3ef5393",
   "metadata": {},
   "outputs": [],
   "source": [
    "# 슬라이싱 : 여러개의 요소 가져오기"
   ]
  },
  {
   "cell_type": "code",
   "execution_count": 63,
   "id": "a5e6bba5-b3c6-4f4c-a60e-4e7954ee2bf9",
   "metadata": {},
   "outputs": [],
   "source": [
    "ls_list_3 = [1, 21, 31, 41, 51, 61]"
   ]
  },
  {
   "cell_type": "code",
   "execution_count": 65,
   "id": "8fd9de83-fa9d-45eb-a9b0-0e1c7ecfb921",
   "metadata": {},
   "outputs": [
    {
     "data": {
      "text/plain": [
       "1"
      ]
     },
     "execution_count": 65,
     "metadata": {},
     "output_type": "execute_result"
    }
   ],
   "source": [
    "ls_list_3[0]"
   ]
  },
  {
   "cell_type": "code",
   "execution_count": 75,
   "id": "a5603bb5-4d60-42f5-bfec-abeb55d68ca0",
   "metadata": {},
   "outputs": [
    {
     "data": {
      "text/plain": [
       "[1, 21, 31]"
      ]
     },
     "execution_count": 75,
     "metadata": {},
     "output_type": "execute_result"
    }
   ],
   "source": [
    "ls_list_3[0:3]"
   ]
  },
  {
   "cell_type": "code",
   "execution_count": null,
   "id": "efaef489-2358-4892-a0bc-c4a0fde528c6",
   "metadata": {},
   "outputs": [],
   "source": [
    "# ls_list_3[0:3:1] 와 같은 ... 인덱스가 0이상 3미만인 요소값을 가져올때 인덱스를 1씩 증가시키면서 가져오기"
   ]
  },
  {
   "cell_type": "code",
   "execution_count": 69,
   "id": "486cfaad-cd2a-4ad5-856e-e061df084e45",
   "metadata": {},
   "outputs": [],
   "source": [
    "# 인덱스가 0~5까지인 요소를 인덱스가 1씩 증가하는게 아니라 2씩 증가되게 하여 요소값을 가져오기\n",
    "# 0, 1, 2, 3, 4\n",
    "# 0, 2, 4"
   ]
  },
  {
   "cell_type": "code",
   "execution_count": 76,
   "id": "5340f4df-94d5-4078-941e-5d6e5c6008e4",
   "metadata": {},
   "outputs": [
    {
     "data": {
      "text/plain": [
       "[1, 31, 51]"
      ]
     },
     "execution_count": 76,
     "metadata": {},
     "output_type": "execute_result"
    }
   ],
   "source": [
    "ls_list_3[0::2]"
   ]
  },
  {
   "cell_type": "code",
   "execution_count": 79,
   "id": "abcbab16-acf7-4ce1-a29a-2b47399b9085",
   "metadata": {},
   "outputs": [
    {
     "data": {
      "text/plain": [
       "[1, 21, 31, 41, 51, 61]"
      ]
     },
     "execution_count": 79,
     "metadata": {},
     "output_type": "execute_result"
    }
   ],
   "source": [
    "# 모든 요소 가져오기\n",
    "# 변수명[시작인덱스:]\n",
    "ls_list_3[0:6]"
   ]
  },
  {
   "cell_type": "code",
   "execution_count": 84,
   "id": "54484db0-b37d-4d36-9546-9e0abe4d9b55",
   "metadata": {},
   "outputs": [],
   "source": [
    "ls_list_4 =[1, 21, 31, 41, 51, 61, 1, 4]"
   ]
  },
  {
   "cell_type": "code",
   "execution_count": 83,
   "id": "e048e62b-7a48-4e10-8182-47d29c083b7d",
   "metadata": {},
   "outputs": [
    {
     "data": {
      "text/plain": [
       "[1, 21, 31, 41, 51, 61, 1, 4, 1565, 1, 134, 11, 444]"
      ]
     },
     "execution_count": 83,
     "metadata": {},
     "output_type": "execute_result"
    }
   ],
   "source": [
    "ls_list_4[0:]"
   ]
  },
  {
   "cell_type": "code",
   "execution_count": 85,
   "id": "d23fe86d-b5a6-44ad-bd11-6eb741402a7d",
   "metadata": {},
   "outputs": [
    {
     "data": {
      "text/plain": [
       "[1, 21, 31, 41, 51]"
      ]
     },
     "execution_count": 85,
     "metadata": {},
     "output_type": "execute_result"
    }
   ],
   "source": [
    "# 슬라이싱할때, 시작 인덱스가 0일때는 0을 안 적어도 됩니다.\n",
    "ls_list_4[0:5]"
   ]
  },
  {
   "cell_type": "code",
   "execution_count": 86,
   "id": "774992a1-0c9c-42d3-96a4-1588be6221eb",
   "metadata": {},
   "outputs": [
    {
     "data": {
      "text/plain": [
       "21.0"
      ]
     },
     "execution_count": 86,
     "metadata": {},
     "output_type": "execute_result"
    }
   ],
   "source": [
    "21."
   ]
  },
  {
   "cell_type": "code",
   "execution_count": 87,
   "id": "6270bd6e-86c1-465d-915d-c7edf8a968f1",
   "metadata": {},
   "outputs": [
    {
     "ename": "SyntaxError",
     "evalue": "invalid syntax (3159986549.py, line 1)",
     "output_type": "error",
     "traceback": [
      "\u001b[1;36m  Cell \u001b[1;32mIn[87], line 1\u001b[1;36m\u001b[0m\n\u001b[1;33m    t_tuple_21의 요소중 \"5\"만 출력하시오\u001b[0m\n\u001b[1;37m                ^\u001b[0m\n\u001b[1;31mSyntaxError\u001b[0m\u001b[1;31m:\u001b[0m invalid syntax\n"
     ]
    }
   ],
   "source": [
    "#t_tuple_21의 요소중 \"5\"만 출력하시오"
   ]
  },
  {
   "cell_type": "code",
   "execution_count": 90,
   "id": "4c9b6c9d-6159-4000-b5df-bf3eca3879e9",
   "metadata": {},
   "outputs": [
    {
     "data": {
      "text/plain": [
       "'5'"
      ]
     },
     "execution_count": 90,
     "metadata": {},
     "output_type": "execute_result"
    }
   ],
   "source": [
    "t_tuple_21 = (\"오조\",\"입니다\",\"5\",\"five\",\"girls\")\n",
    "t_tuple_21[2]"
   ]
  },
  {
   "cell_type": "code",
   "execution_count": 99,
   "id": "af56b95a-5c58-490c-82e6-9da1cb555d90",
   "metadata": {},
   "outputs": [],
   "source": [
    "\n",
    "t_tuple_23 = (\"가\",\"나\",\"다\",\"라\",\"마\")"
   ]
  },
  {
   "cell_type": "code",
   "execution_count": 101,
   "id": "e57195a3-6afd-4dda-a30a-710c22b54cb1",
   "metadata": {},
   "outputs": [
    {
     "data": {
      "text/plain": [
       "'가'"
      ]
     },
     "execution_count": 101,
     "metadata": {},
     "output_type": "execute_result"
    }
   ],
   "source": [
    "t_tuple_23[0]"
   ]
  },
  {
   "cell_type": "code",
   "execution_count": 133,
   "id": "e0d85a5f-e135-487a-9e5c-4ed56edbd0ec",
   "metadata": {},
   "outputs": [],
   "source": [
    "t_tuple_25 = (\"왕이 넘어지면?\",\"킹콩\",\"자동차가울면?\",\"잉카\",\"커용\")"
   ]
  },
  {
   "cell_type": "code",
   "execution_count": 136,
   "id": "32eedebe-3c85-4e89-886f-75d7637d4018",
   "metadata": {},
   "outputs": [],
   "source": [
    "t_tuple_3 = (\"AB\",\"BC\",\"CD\",\"DE\",\"EF\",\"FG\")"
   ]
  },
  {
   "cell_type": "code",
   "execution_count": 138,
   "id": "77e718dc-63f4-4f57-81a2-4984f6cf592b",
   "metadata": {},
   "outputs": [
    {
     "data": {
      "text/plain": [
       "'FG'"
      ]
     },
     "execution_count": 138,
     "metadata": {},
     "output_type": "execute_result"
    }
   ],
   "source": [
    "t_tuple_3[5]"
   ]
  },
  {
   "cell_type": "code",
   "execution_count": 139,
   "id": "24558dd7-2d13-4f06-af52-c1a178880100",
   "metadata": {},
   "outputs": [],
   "source": [
    "t_tuple_list_5 =(1,10,100,[11,5,55],1000)"
   ]
  },
  {
   "cell_type": "code",
   "execution_count": 140,
   "id": "33dc226a-b5f5-43e6-9937-75345989ae14",
   "metadata": {},
   "outputs": [
    {
     "data": {
      "text/plain": [
       "55"
      ]
     },
     "execution_count": 140,
     "metadata": {},
     "output_type": "execute_result"
    }
   ],
   "source": [
    "ls_list = t_tuple_list_5[3]\n",
    "ls_list[2]"
   ]
  },
  {
   "cell_type": "code",
   "execution_count": 172,
   "id": "e268d265-2ad5-435f-ba39-3b99bec60262",
   "metadata": {},
   "outputs": [
    {
     "data": {
      "text/plain": [
       "('가', '스')"
      ]
     },
     "execution_count": 172,
     "metadata": {},
     "output_type": "execute_result"
    }
   ],
   "source": [
    "t_tuple_30 = (\"피\",\"죤\",\"또\",\"가\",\"스\")\n",
    "t_tuple_30[-2:]\n"
   ]
  },
  {
   "cell_type": "code",
   "execution_count": 175,
   "id": "d8797794-f9fc-4594-a752-c6e1e6396ab6",
   "metadata": {},
   "outputs": [
    {
     "data": {
      "text/plain": [
       "('가', '스')"
      ]
     },
     "execution_count": 175,
     "metadata": {},
     "output_type": "execute_result"
    }
   ],
   "source": [
    "t_tuple_30[-2::1]"
   ]
  },
  {
   "cell_type": "code",
   "execution_count": 182,
   "id": "4a87885c-8834-470b-9cc9-765d4f984ea3",
   "metadata": {},
   "outputs": [
    {
     "data": {
      "text/plain": [
       "(555, 444, 333, 222, 11)"
      ]
     },
     "execution_count": 182,
     "metadata": {},
     "output_type": "execute_result"
    }
   ],
   "source": [
    "t_tuple_11 =(11,222,333,444,555)\n",
    "t_tuple_11[::-1]"
   ]
  },
  {
   "cell_type": "code",
   "execution_count": 184,
   "id": "340a7034-e326-4701-a1e5-29f7da90097b",
   "metadata": {},
   "outputs": [],
   "source": [
    "# 문자열"
   ]
  },
  {
   "cell_type": "code",
   "execution_count": 188,
   "id": "ccc730ed-4fac-4315-b394-ee0cd05b792f",
   "metadata": {},
   "outputs": [],
   "source": [
    "str_String_1 = \"I am a lecture\"\n",
    "#0 1 2 3  4  5  6  7  8  9  10  11  12  13\n",
    "#I   a m     a     l  e  c  t    u   r   e\n",
    "# i am a의 마지막 a를 출력하려면\n",
    "str_String_1[5]\n",
    "\n",
    "# i am a까지 출력\n",
    "str_String_1[:6]"
   ]
  },
  {
   "cell_type": "code",
   "execution_count": 194,
   "id": "f99fb807-0c59-42d0-a67c-b83cdc258e69",
   "metadata": {},
   "outputs": [
    {
     "data": {
      "text/plain": [
       "14"
      ]
     },
     "execution_count": 194,
     "metadata": {},
     "output_type": "execute_result"
    }
   ],
   "source": [
    "len(str_String_1 )"
   ]
  },
  {
   "cell_type": "code",
   "execution_count": 196,
   "id": "91ce7dd7-7454-4329-89d8-efc9f8c3a396",
   "metadata": {},
   "outputs": [],
   "source": [
    "def haha (x) :\n",
    "    print (x)"
   ]
  },
  {
   "cell_type": "code",
   "execution_count": 203,
   "id": "03974bc9-79c7-4d68-abdd-735e44e69abc",
   "metadata": {},
   "outputs": [
    {
     "name": "stdout",
     "output_type": "stream",
     "text": [
      "333\n"
     ]
    }
   ],
   "source": [
    "haha(333)"
   ]
  },
  {
   "cell_type": "code",
   "execution_count": 207,
   "id": "8577bbdc-f689-4c5e-a03f-7f00d647b012",
   "metadata": {},
   "outputs": [],
   "source": [
    "def momo(x):\n",
    "    return len(x)"
   ]
  },
  {
   "cell_type": "code",
   "execution_count": 1,
   "id": "a9de5eb2-205f-4672-9d1b-21551ba7a9d6",
   "metadata": {},
   "outputs": [
    {
     "ename": "NameError",
     "evalue": "name 'momo' is not defined",
     "output_type": "error",
     "traceback": [
      "\u001b[1;31m---------------------------------------------------------------------------\u001b[0m",
      "\u001b[1;31mNameError\u001b[0m                                 Traceback (most recent call last)",
      "Cell \u001b[1;32mIn[1], line 1\u001b[0m\n\u001b[1;32m----> 1\u001b[0m z\u001b[38;5;241m=\u001b[39m momo(\u001b[38;5;124m\"\u001b[39m\u001b[38;5;124mhi\u001b[39m\u001b[38;5;124m\"\u001b[39m)\n\u001b[0;32m      2\u001b[0m \u001b[38;5;28mprint\u001b[39m(z)\n",
      "\u001b[1;31mNameError\u001b[0m: name 'momo' is not defined"
     ]
    }
   ],
   "source": [
    "z= momo(\"hi\")\n",
    "print(z)"
   ]
  },
  {
   "cell_type": "code",
   "execution_count": 6,
   "id": "edfce778-ea78-412f-84bd-af30f428cf9b",
   "metadata": {},
   "outputs": [],
   "source": [
    "dict_dictionary = {1:\"a\", 2:\"b\",3:\"c\",5:[10,20,30]}"
   ]
  },
  {
   "cell_type": "code",
   "execution_count": 8,
   "id": "45a61159-506d-4e12-abda-a09e333d180d",
   "metadata": {},
   "outputs": [
    {
     "data": {
      "text/plain": [
       "[10, 20, 30]"
      ]
     },
     "execution_count": 8,
     "metadata": {},
     "output_type": "execute_result"
    }
   ],
   "source": [
    "num = dict_dictionary[5]\n",
    "num"
   ]
  },
  {
   "cell_type": "code",
   "execution_count": 9,
   "id": "b0b64ac8-b25a-4f33-a586-f494362de5d7",
   "metadata": {},
   "outputs": [
    {
     "data": {
      "text/plain": [
       "11"
      ]
     },
     "execution_count": 9,
     "metadata": {},
     "output_type": "execute_result"
    }
   ],
   "source": [
    "str_String_1= \"hello World\"\n",
    "len(str_String_1)"
   ]
  },
  {
   "cell_type": "code",
   "execution_count": 14,
   "id": "617360fa-32be-4c0b-99a4-ac5806a56985",
   "metadata": {},
   "outputs": [
    {
     "data": {
      "text/plain": [
       "'dlroW olleh'"
      ]
     },
     "execution_count": 14,
     "metadata": {},
     "output_type": "execute_result"
    }
   ],
   "source": [
    "str_String_1[::-1]"
   ]
  },
  {
   "cell_type": "code",
   "execution_count": null,
   "id": "ff770e63-b445-4f81-9881-5b27ffac92a6",
   "metadata": {},
   "outputs": [],
   "source": []
  },
  {
   "cell_type": "code",
   "execution_count": null,
   "id": "2f199a9c-7329-42d2-ad9a-a4a930ae78e0",
   "metadata": {},
   "outputs": [],
   "source": []
  }
 ],
 "metadata": {
  "kernelspec": {
   "display_name": "Python 3 (ipykernel)",
   "language": "python",
   "name": "python3"
  },
  "language_info": {
   "codemirror_mode": {
    "name": "ipython",
    "version": 3
   },
   "file_extension": ".py",
   "mimetype": "text/x-python",
   "name": "python",
   "nbconvert_exporter": "python",
   "pygments_lexer": "ipython3",
   "version": "3.12.4"
  }
 },
 "nbformat": 4,
 "nbformat_minor": 5
}
