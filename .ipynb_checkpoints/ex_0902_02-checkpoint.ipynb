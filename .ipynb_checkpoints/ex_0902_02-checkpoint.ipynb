{
 "cells": [
  {
   "cell_type": "code",
   "execution_count": 1,
   "id": "5d6bc345-9b7a-47cb-b483-539988360172",
   "metadata": {},
   "outputs": [],
   "source": [
    "#### 요소값 수정"
   ]
  },
  {
   "cell_type": "code",
   "execution_count": 7,
   "id": "bc12cd2c-b7a7-4054-bbee-52bb5b7c9505",
   "metadata": {},
   "outputs": [],
   "source": [
    "ls_list_1 = [1, 3, 5, 7] "
   ]
  },
  {
   "cell_type": "code",
   "execution_count": 9,
   "id": "8faffc6c-7b23-40b3-a26d-b947b0e7f5bc",
   "metadata": {},
   "outputs": [
    {
     "data": {
      "text/plain": [
       "5"
      ]
     },
     "execution_count": 9,
     "metadata": {},
     "output_type": "execute_result"
    }
   ],
   "source": [
    "ls_list_1[2]"
   ]
  },
  {
   "cell_type": "code",
   "execution_count": 11,
   "id": "057a63e8-9241-4158-92eb-b8ba0292b838",
   "metadata": {},
   "outputs": [],
   "source": [
    "ls_list_1[2] =500"
   ]
  },
  {
   "cell_type": "code",
   "execution_count": 12,
   "id": "f4f27fda-32ce-4f3c-815b-b2d31167baa4",
   "metadata": {},
   "outputs": [
    {
     "data": {
      "text/plain": [
       "[1, 3, 500, 7]"
      ]
     },
     "execution_count": 12,
     "metadata": {},
     "output_type": "execute_result"
    }
   ],
   "source": [
    "ls_list_1"
   ]
  },
  {
   "cell_type": "code",
   "execution_count": 36,
   "id": "c6fd7b9b-71ef-445b-924e-816e359cab27",
   "metadata": {},
   "outputs": [],
   "source": [
    "dict_dictionary_1 ={ \"한국\": \"서울\", \"북한\": \"평양\", \"미국\": \"워싱턴주\"}"
   ]
  },
  {
   "cell_type": "code",
   "execution_count": 38,
   "id": "e30c1a96-e7ee-40b3-8c46-e4b382cf3d4c",
   "metadata": {},
   "outputs": [],
   "source": [
    "dict_dictionary_1[\"미국\"] = \"워싱턴DC\"\n"
   ]
  },
  {
   "cell_type": "code",
   "execution_count": 39,
   "id": "12a59f0b-0c20-4e47-a41a-607faf0a3470",
   "metadata": {},
   "outputs": [
    {
     "data": {
      "text/plain": [
       "{'한국': '서울', '북한': '평양', '미국': '워싱턴DC'}"
      ]
     },
     "execution_count": 39,
     "metadata": {},
     "output_type": "execute_result"
    }
   ],
   "source": [
    "dict_dictionary_1"
   ]
  },
  {
   "cell_type": "code",
   "execution_count": 25,
   "id": "4efa79dc-cff4-4ff3-80cb-53039fa8c6a1",
   "metadata": {},
   "outputs": [],
   "source": [
    "t_tuple_1 = ('a', 'b', 'c')"
   ]
  },
  {
   "cell_type": "code",
   "execution_count": 29,
   "id": "3ee8354b-25b8-4255-a243-0d7ff29182e3",
   "metadata": {
    "scrolled": true
   },
   "outputs": [
    {
     "ename": "TypeError",
     "evalue": "'tuple' object does not support item assignment",
     "output_type": "error",
     "traceback": [
      "\u001b[1;31m---------------------------------------------------------------------------\u001b[0m",
      "\u001b[1;31mTypeError\u001b[0m                                 Traceback (most recent call last)",
      "Cell \u001b[1;32mIn[29], line 2\u001b[0m\n\u001b[0;32m      1\u001b[0m \u001b[38;5;66;03m# 튜플은 요소값을 변경할 수 없음.\u001b[39;00m\n\u001b[1;32m----> 2\u001b[0m t_tuple_1[\u001b[38;5;241m-\u001b[39m\u001b[38;5;241m1\u001b[39m] \u001b[38;5;241m=\u001b[39m \u001b[38;5;124m'\u001b[39m\u001b[38;5;124mC\u001b[39m\u001b[38;5;124m'\u001b[39m\n",
      "\u001b[1;31mTypeError\u001b[0m: 'tuple' object does not support item assignment"
     ]
    }
   ],
   "source": [
    "# 튜플은 요소값을 변경할 수 없음.\n",
    "# t_tuple_1[-1] = 'C'"
   ]
  },
  {
   "cell_type": "code",
   "execution_count": 30,
   "id": "abf45431-c871-4c0f-8b36-42dbea3937a8",
   "metadata": {},
   "outputs": [],
   "source": [
    "t_tuple_2 = (1,2,[3,4,5])"
   ]
  },
  {
   "cell_type": "code",
   "execution_count": 31,
   "id": "057d8af6-4afa-420b-8808-81169130b125",
   "metadata": {},
   "outputs": [
    {
     "name": "stdout",
     "output_type": "stream",
     "text": [
      "(1, 2, [3, 4, 5])\n"
     ]
    }
   ],
   "source": [
    "print(t_tuple_2)\n"
   ]
  },
  {
   "cell_type": "code",
   "execution_count": 35,
   "id": "321d49c9-77bc-4c46-8800-96389a7d1ba8",
   "metadata": {},
   "outputs": [
    {
     "data": {
      "text/plain": [
       "(1, 2, [3, 400, 5])"
      ]
     },
     "execution_count": 35,
     "metadata": {},
     "output_type": "execute_result"
    }
   ],
   "source": [
    "ls_list2 = t_tuple_2[2]\n",
    "ls_list2[1] = 400\n",
    "\n",
    "t_tuple_2\n",
    "# 튜플은 수정이 되지 않는다 새로 값을 바꾸는 방법밖에..\n"
   ]
  },
  {
   "cell_type": "code",
   "execution_count": 41,
   "id": "d225cf5c-de31-43bb-a593-b878cb7f8656",
   "metadata": {},
   "outputs": [
    {
     "ename": "TypeError",
     "evalue": "'tuple' object does not support item assignment",
     "output_type": "error",
     "traceback": [
      "\u001b[1;31m---------------------------------------------------------------------------\u001b[0m",
      "\u001b[1;31mTypeError\u001b[0m                                 Traceback (most recent call last)",
      "Cell \u001b[1;32mIn[41], line 1\u001b[0m\n\u001b[1;32m----> 1\u001b[0m t_tuple_2[\u001b[38;5;241m0\u001b[39m]\u001b[38;5;241m=\u001b[39m\u001b[38;5;241m90\u001b[39m\n",
      "\u001b[1;31mTypeError\u001b[0m: 'tuple' object does not support item assignment"
     ]
    }
   ],
   "source": [
    "t_tuple_2[0]=90\n"
   ]
  },
  {
   "cell_type": "code",
   "execution_count": 44,
   "id": "bdd5bd08-9d0d-4bf6-bc6d-19f90ab597e0",
   "metadata": {},
   "outputs": [
    {
     "ename": "TypeError",
     "evalue": "'str' object does not support item assignment",
     "output_type": "error",
     "traceback": [
      "\u001b[1;31m---------------------------------------------------------------------------\u001b[0m",
      "\u001b[1;31mTypeError\u001b[0m                                 Traceback (most recent call last)",
      "Cell \u001b[1;32mIn[44], line 2\u001b[0m\n\u001b[0;32m      1\u001b[0m str_String_1 \u001b[38;5;241m=\u001b[39m \u001b[38;5;124m\"\u001b[39m\u001b[38;5;124mabcd\u001b[39m\u001b[38;5;124m\"\u001b[39m\n\u001b[1;32m----> 2\u001b[0m str_String_1[\u001b[38;5;241m0\u001b[39m] \u001b[38;5;241m=\u001b[39m \u001b[38;5;124m\"\u001b[39m\u001b[38;5;124mA\u001b[39m\u001b[38;5;124m\"\u001b[39m\n",
      "\u001b[1;31mTypeError\u001b[0m: 'str' object does not support item assignment"
     ]
    }
   ],
   "source": [
    "str_String_1 = \"abcd\"\n",
    "str_String_1[0] = \"A\""
   ]
  },
  {
   "cell_type": "code",
   "execution_count": 46,
   "id": "6e1520be-2fb0-4464-9e93-0f19dc6aba7f",
   "metadata": {},
   "outputs": [
    {
     "data": {
      "text/plain": [
       "'Abcd'"
      ]
     },
     "execution_count": 46,
     "metadata": {},
     "output_type": "execute_result"
    }
   ],
   "source": [
    "str_String_1 = \"Abcd\"\n",
    "str_String_1\n",
    "# 수정이 아니라 새로운 값을 넣은것이다."
   ]
  },
  {
   "cell_type": "code",
   "execution_count": 47,
   "id": "48b27977-2870-4f2e-925d-fb462eaa3c1a",
   "metadata": {},
   "outputs": [],
   "source": [
    "### 조건문\n",
    "# 단순 if문\n",
    "# if ~ else문\n",
    "# 다중 if문"
   ]
  },
  {
   "cell_type": "code",
   "execution_count": 66,
   "id": "e948a053-ca30-4186-9e06-78850d3bf657",
   "metadata": {},
   "outputs": [],
   "source": [
    "# eng_score가 90이상이면 1000만원 줄게, 그렇지 않으면 맴매 10대\n",
    "# eng_score가 90이상이면 10000만원 줄게, 그렇지 않고 80이상이면 500만원 줅\n",
    "# 그렇지 않고 70이상이면 맴매 5대\n",
    "# 그렇지 않으면 맴매 10대\n",
    "\n",
    "\n",
    "eng_score =80"
   ]
  },
  {
   "cell_type": "code",
   "execution_count": null,
   "id": "0d51b210-72dc-4d32-931e-f9a3aaed0a73",
   "metadata": {},
   "outputs": [],
   "source": [
    "if eng_score >=90 :\n",
    "    print(\"1000만원 줄게\")"
   ]
  },
  {
   "cell_type": "code",
   "execution_count": 64,
   "id": "931926aa-8c5a-40a5-8e47-817bb80ec393",
   "metadata": {},
   "outputs": [
    {
     "name": "stdout",
     "output_type": "stream",
     "text": [
      "1000만원 줄게\n"
     ]
    }
   ],
   "source": [
    "# 파이썬은 '{}'대신에 띄어쓰기로 구분 \n",
    "if eng_score >=90 :\n",
    "    print(\"1000만원 줄게\")\n",
    "else :\n",
    "    print(\"맴매 10대\")"
   ]
  },
  {
   "cell_type": "code",
   "execution_count": 109,
   "id": "9f911e87-c9c1-4c5f-8cac-7dff60b1bd2f",
   "metadata": {},
   "outputs": [],
   "source": [
    "no_response = 7\n",
    "\n",
    "if no_response % 7 == 0 :\n",
    "    pass\n",
    "# 조건문에 아무것도 안하려면 pass를 적으면 된다."
   ]
  },
  {
   "cell_type": "code",
   "execution_count": 110,
   "id": "6b01c184-cd98-462d-b46a-6c905fa21574",
   "metadata": {},
   "outputs": [
    {
     "name": "stdout",
     "output_type": "stream",
     "text": [
      "합격\n"
     ]
    }
   ],
   "source": [
    "# if ~ else\n",
    "# 조건식이 참일때와 거짓일때, 실행할 코드가 별도로 있을 때\n",
    "eng_score =90\n",
    "if eng_score >=90 :\n",
    "    print(\"합격\")\n",
    "else :\n",
    "    print(\"불합격\")"
   ]
  },
  {
   "cell_type": "code",
   "execution_count": 112,
   "id": "97621c25-0714-45de-9545-3ed9290d368c",
   "metadata": {},
   "outputs": [
    {
     "name": "stdout",
     "output_type": "stream",
     "text": [
      "데이터가 없습니다\n"
     ]
    }
   ],
   "source": [
    "ls_list_5 =[]\n",
    "if not ls_list_5 : \n",
    "    print(\"데이터가 없습니다\")\n",
    "else :\n",
    "    print(\"데이터가 있음\")"
   ]
  },
  {
   "cell_type": "code",
   "execution_count": 116,
   "id": "16f8f740-9055-4d52-9758-f15d34ecb1bf",
   "metadata": {},
   "outputs": [
    {
     "data": {
      "text/plain": [
       "False"
      ]
     },
     "execution_count": 116,
     "metadata": {},
     "output_type": "execute_result"
    }
   ],
   "source": [
    "bool(ls_list_5)"
   ]
  },
  {
   "cell_type": "code",
   "execution_count": 209,
   "id": "0962abfe-24c6-4dd7-8006-40caeee88eba",
   "metadata": {},
   "outputs": [
    {
     "name": "stdin",
     "output_type": "stream",
     "text": [
      "점수를 입력하세요 3\n"
     ]
    }
   ],
   "source": [
    "score = input(\"점수를 입력하세요\")\n",
    "score = int(score)"
   ]
  },
  {
   "cell_type": "code",
   "execution_count": 214,
   "id": "029396b4-db65-431c-88d5-ab001d30e9c2",
   "metadata": {},
   "outputs": [
    {
     "name": "stdout",
     "output_type": "stream",
     "text": [
      "3\n"
     ]
    }
   ],
   "source": [
    "print(score)"
   ]
  },
  {
   "cell_type": "code",
   "execution_count": 213,
   "id": "117ebeff-824b-4e94-a4eb-6616ae2f9053",
   "metadata": {},
   "outputs": [
    {
     "data": {
      "text/plain": [
       "int"
      ]
     },
     "execution_count": 213,
     "metadata": {},
     "output_type": "execute_result"
    }
   ],
   "source": [
    "type(score)\n",
    "# 문자열은 뭐든 받을 수 있기에 input으로 받은 값은 문자열이다"
   ]
  },
  {
   "cell_type": "code",
   "execution_count": 215,
   "id": "da354e88-4278-4a4b-8d55-3fa575c155fe",
   "metadata": {},
   "outputs": [
    {
     "name": "stdout",
     "output_type": "stream",
     "text": [
      "F\n"
     ]
    }
   ],
   "source": [
    "if score >= 90 :\n",
    "    print(\"A\")\n",
    "elif score >= 80 :\n",
    "    print(\"B\")\n",
    "elif score >= 70 :\n",
    "    print(\"C\")\n",
    "else :\n",
    "    print(\"F\")"
   ]
  },
  {
   "cell_type": "code",
   "execution_count": null,
   "id": "0715095c-e9d8-4469-8967-e79d4fb24a07",
   "metadata": {},
   "outputs": [],
   "source": []
  },
  {
   "cell_type": "code",
   "execution_count": null,
   "id": "c81181f7-1836-4824-b617-e900a7368f20",
   "metadata": {},
   "outputs": [],
   "source": []
  },
  {
   "cell_type": "code",
   "execution_count": 250,
   "id": "a1d242d3-7e32-469c-b1f6-15de31e95292",
   "metadata": {},
   "outputs": [
    {
     "name": "stdout",
     "output_type": "stream",
     "text": [
      "대봉 추천\n"
     ]
    },
    {
     "data": {
      "text/plain": [
       "12"
      ]
     },
     "execution_count": 250,
     "metadata": {},
     "output_type": "execute_result"
    }
   ],
   "source": [
    "## 1.\n",
    "month  = 12\n",
    "\n",
    "if  month == 1 or month == 2 :\n",
    "    print(\"체리, 자몽 추천\")\n",
    "elif (month == 3 or  month ==4) :\n",
    "    print(\"망고 추천\")\n",
    "elif month == 5 or month == 6:\n",
    "    print(\"자두 추천\")\n",
    "elif month == 7 or month == 8 :\n",
    "    print(\"거봉 추천\")\n",
    "elif month == 9 or month == 10 :\n",
    "    print(\"단감 추천\")\n",
    "elif  month == 11 or month == 12 :\n",
    "    print(\"대봉 추천\")\n",
    "else :\n",
    "    print(\"월을 제대로 입력해주세요\")\n",
    "type(month)\n",
    "month"
   ]
  },
  {
   "cell_type": "code",
   "execution_count": 238,
   "id": "195dc031-ae92-4862-a0ac-fd831faefd8a",
   "metadata": {},
   "outputs": [],
   "source": [
    "ls_list = [\"a\",\"b\",\"c\"]"
   ]
  },
  {
   "cell_type": "code",
   "execution_count": 243,
   "id": "d24cffc1-f385-4129-b11c-fa6c0d2e0037",
   "metadata": {},
   "outputs": [
    {
     "name": "stdout",
     "output_type": "stream",
     "text": [
      "어린이입니다.\n"
     ]
    }
   ],
   "source": [
    "age = 8\n",
    "if age <= 8 :\n",
    "    print(\"어린이입니다.\")\n",
    "elif age < 20 :\n",
    "    print(\"청소년입니다.\")\n",
    "else : \n",
    "    print(\"성인입니다.\")"
   ]
  },
  {
   "cell_type": "code",
   "execution_count": 251,
   "id": "6e5d745e-ce06-4f2f-b48b-bc27f07a47a2",
   "metadata": {},
   "outputs": [],
   "source": [
    " # while ~하는 동안...\n",
    " # 반복문 중 하나\n",
    " # 반복문 : 조건식이 참일 때까지 반복하는 문\n",
    " # while문\n",
    " # for문(for~ in문)\n"
   ]
  },
  {
   "cell_type": "code",
   "execution_count": null,
   "id": "c858a293-3a54-45d7-a07c-d535455d701c",
   "metadata": {},
   "outputs": [],
   "source": [
    "i = 10\n",
    "\n",
    "while i < 20 : \n",
    "    print(i)\n",
    "    i+=1\n",
    "    \n",
    "print(\"end\")"
   ]
  },
  {
   "cell_type": "code",
   "execution_count": null,
   "id": "73c87aa8-d95e-4bd0-a264-c9d6279083a7",
   "metadata": {},
   "outputs": [],
   "source": []
  },
  {
   "cell_type": "code",
   "execution_count": null,
   "id": "44af9755-3b47-45ca-8b89-f58581e57044",
   "metadata": {},
   "outputs": [],
   "source": []
  },
  {
   "cell_type": "code",
   "execution_count": null,
   "id": "8a7f3e23-c79a-4ee2-b446-c82f2629d58d",
   "metadata": {},
   "outputs": [],
   "source": []
  }
 ],
 "metadata": {
  "kernelspec": {
   "display_name": "Python 3 (ipykernel)",
   "language": "python",
   "name": "python3"
  },
  "language_info": {
   "codemirror_mode": {
    "name": "ipython",
    "version": 3
   },
   "file_extension": ".py",
   "mimetype": "text/x-python",
   "name": "python",
   "nbconvert_exporter": "python",
   "pygments_lexer": "ipython3",
   "version": "3.12.4"
  }
 },
 "nbformat": 4,
 "nbformat_minor": 5
}
