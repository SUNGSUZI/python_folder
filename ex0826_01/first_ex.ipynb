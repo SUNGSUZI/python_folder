{
 "cells": [
  {
   "cell_type": "markdown",
   "id": "ffe38642-9617-4d94-8316-0ffb52f3afc1",
   "metadata": {},
   "source": [
    "# 안녕하세요"
   ]
  },
  {
   "cell_type": "code",
   "execution_count": 10,
   "id": "22fd1310-49e8-4df2-8027-a337a52a39d2",
   "metadata": {},
   "outputs": [
    {
     "name": "stdout",
     "output_type": "stream",
     "text": [
      "0\n",
      "1\n",
      "2\n",
      "3\n"
     ]
    }
   ],
   "source": [
    "for  i in range(4) :\n",
    " print(i)"
   ]
  },
  {
   "cell_type": "raw",
   "id": "b810d57a-c223-4927-a295-e8b2bcbe3b6a",
   "metadata": {},
   "source": [
    "hello"
   ]
  },
  {
   "cell_type": "markdown",
   "id": "ff82ef0f-5146-4e85-936b-1a8ec374429a",
   "metadata": {},
   "source": [
    "hello"
   ]
  },
  {
   "cell_type": "code",
   "execution_count": null,
   "id": "b4040361-acc5-464d-83a7-4256b662a384",
   "metadata": {},
   "outputs": [],
   "source": []
  },
  {
   "cell_type": "code",
   "execution_count": 11,
   "id": "4a95000d-71e2-473f-a404-5252b0bb8a1e",
   "metadata": {},
   "outputs": [
    {
     "name": "stdout",
     "output_type": "stream",
     "text": [
      "10\n"
     ]
    }
   ],
   "source": [
    "ten =10\n",
    "print(ten)"
   ]
  },
  {
   "cell_type": "code",
   "execution_count": 12,
   "id": "aa4889ee-2074-495b-86d0-750051952bde",
   "metadata": {},
   "outputs": [
    {
     "name": "stdout",
     "output_type": "stream",
     "text": [
      "10\n"
     ]
    }
   ],
   "source": [
    "print (ten)"
   ]
  },
  {
   "cell_type": "markdown",
   "id": "ca44b4b8-372f-416c-9c1b-7c66096de024",
   "metadata": {},
   "source": [
    "## 아아"
   ]
  },
  {
   "cell_type": "markdown",
   "id": "46b1eb79-741a-47ed-b1cb-5653ca761960",
   "metadata": {},
   "source": [
    "### 아아"
   ]
  },
  {
   "cell_type": "code",
   "execution_count": null,
   "id": "86348d9a-6fd8-4ccf-9aa8-96d41c280699",
   "metadata": {},
   "outputs": [],
   "source": []
  }
 ],
 "metadata": {
  "kernelspec": {
   "display_name": "Python 3 (ipykernel)",
   "language": "python",
   "name": "python3"
  },
  "language_info": {
   "codemirror_mode": {
    "name": "ipython",
    "version": 3
   },
   "file_extension": ".py",
   "mimetype": "text/x-python",
   "name": "python",
   "nbconvert_exporter": "python",
   "pygments_lexer": "ipython3",
   "version": "3.12.4"
  }
 },
 "nbformat": 4,
 "nbformat_minor": 5
}
