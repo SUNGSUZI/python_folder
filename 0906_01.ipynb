{
 "cells": [
  {
   "cell_type": "code",
   "execution_count": 5,
   "id": "168b9b3a-fc26-4dea-88fc-37a1edcd4467",
   "metadata": {},
   "outputs": [
    {
     "ename": "SyntaxError",
     "evalue": "invalid syntax (1867988562.py, line 9)",
     "output_type": "error",
     "traceback": [
      "\u001b[1;36m  Cell \u001b[1;32mIn[5], line 9\u001b[1;36m\u001b[0m\n\u001b[1;33m    var_list[2] 해석\u001b[0m\n\u001b[1;37m                ^\u001b[0m\n\u001b[1;31mSyntaxError\u001b[0m\u001b[1;31m:\u001b[0m invalid syntax\n"
     ]
    }
   ],
   "source": [
    "ab =10 \n",
    "# 변수 ab를 선언하고 그 변수에 10을 대입하고 있는 코드.\n",
    "\n",
    "var_lsit = [1,2,3]\n",
    "\n",
    "# 호출\n",
    "# 함수에서만 호출이란 단어를 씀.\n",
    "\n",
    "var_list[2] \n",
    "# 해석\n",
    "# 변수 var_list의 인덱스가 2인 요소값 추출.\n",
    "# 인덱스가 2인 변수 var_list의  인덱싱."
   ]
  },
  {
   "cell_type": "code",
   "execution_count": 7,
   "id": "8e6439b9-31ec-4396-92a1-0e20df644775",
   "metadata": {},
   "outputs": [],
   "source": [
    "#### 함수의 매개변수에 딕션너리 넣어주기"
   ]
  },
  {
   "cell_type": "code",
   "execution_count": 10,
   "id": "76141530-2f15-4d16-9aa1-5b914eba16f6",
   "metadata": {},
   "outputs": [],
   "source": [
    "dict_dictionary_1 ={\"k1\":\"탱크\", \"k2\" :\"소총\"}"
   ]
  },
  {
   "cell_type": "code",
   "execution_count": 13,
   "id": "58992cf9-b9f6-4476-897d-04209d7676c6",
   "metadata": {},
   "outputs": [
    {
     "name": "stdout",
     "output_type": "stream",
     "text": [
      "k1\n",
      "k2\n"
     ]
    }
   ],
   "source": [
    "# 딕션너리를 넣으면 key을 추출한다.\n",
    "def test_1(a) :\n",
    "    for el in a :\n",
    "        print(el)\n",
    "\n",
    "test_1(dict_dictionary_1)"
   ]
  },
  {
   "cell_type": "code",
   "execution_count": 14,
   "id": "44ff73b7-8d87-4282-83f5-3dee9c1e8320",
   "metadata": {},
   "outputs": [
    {
     "name": "stdout",
     "output_type": "stream",
     "text": [
      "k1\n",
      "k2\n"
     ]
    }
   ],
   "source": [
    "test_1({\"k1\":\"탱크\", \"k2\" :\"소총\"})"
   ]
  },
  {
   "cell_type": "code",
   "execution_count": 16,
   "id": "d065edf0-69b2-49a6-9087-b2bad9fb9872",
   "metadata": {},
   "outputs": [],
   "source": [
    "def make_dict(id=\"m001\", name=\"hong\", age =16) :\n",
    "    print(id)\n",
    "    print(name)\n",
    "    print(age)"
   ]
  },
  {
   "cell_type": "code",
   "execution_count": 18,
   "id": "ed801864-ae11-4665-a7fb-885b5012b570",
   "metadata": {},
   "outputs": [
    {
     "name": "stdout",
     "output_type": "stream",
     "text": [
      "m001\n",
      "hong\n",
      "16\n"
     ]
    }
   ],
   "source": [
    "make_dict()"
   ]
  },
  {
   "cell_type": "code",
   "execution_count": 20,
   "id": "d6816171-9188-422d-9993-4547053242c9",
   "metadata": {},
   "outputs": [
    {
     "name": "stdout",
     "output_type": "stream",
     "text": [
      "m002\n",
      "hong\n",
      "16\n"
     ]
    }
   ],
   "source": [
    "make_dict(id=\"m002\")"
   ]
  },
  {
   "cell_type": "code",
   "execution_count": 34,
   "id": "00a0177b-b518-4868-9398-dbb342aed5f5",
   "metadata": {},
   "outputs": [],
   "source": [
    "def make_dict(**kwargs) :\n",
    "    for el in kwargs :\n",
    "        print(el, \":\", kwargs[el])"
   ]
  },
  {
   "cell_type": "code",
   "execution_count": 35,
   "id": "5b913213-1814-44f1-a139-2e966450f9ec",
   "metadata": {},
   "outputs": [
    {
     "name": "stdout",
     "output_type": "stream",
     "text": [
      "id : m001\n",
      "name : hong\n",
      "age : 16\n"
     ]
    }
   ],
   "source": [
    "make_dict(id=\"m001\", name=\"hong\", age=16)"
   ]
  },
  {
   "cell_type": "code",
   "execution_count": 36,
   "id": "4f9242c9-4afe-407c-a29d-e633c1699057",
   "metadata": {},
   "outputs": [],
   "source": [
    "def one_return():\n",
    "    print(\"반환값은 몇개일까요\")\n",
    "    return 1,2,3,4 # 4개의 데이터를 반환하는 것처럼 보이지만, 튜플 하나를 반환하고 있음."
   ]
  },
  {
   "cell_type": "code",
   "execution_count": 27,
   "id": "a6fd1d49-e8cd-4fce-a295-9ff474008188",
   "metadata": {},
   "outputs": [
    {
     "name": "stdout",
     "output_type": "stream",
     "text": [
      "반환값은 몇개일까요\n",
      "(1, 2, 3, 4)\n"
     ]
    }
   ],
   "source": [
    "val = one_return()\n",
    "print(val)"
   ]
  },
  {
   "cell_type": "code",
   "execution_count": 29,
   "id": "71ca45c7-db97-4218-8a2e-5ffa804421ee",
   "metadata": {},
   "outputs": [],
   "source": [
    "def test1(*a) : \n",
    "    return a\n",
    "    "
   ]
  },
  {
   "cell_type": "code",
   "execution_count": 48,
   "id": "3b1576bd-dcc0-4ae9-97ed-ff0072b0b66e",
   "metadata": {},
   "outputs": [
    {
     "name": "stdout",
     "output_type": "stream",
     "text": [
      "{'a': [1, 2, 33], 'b': 'B'}\n"
     ]
    },
    {
     "data": {
      "text/plain": [
       "{'dic1': {'a': [1, 2, 33], 'b': 'B'}, 't': [1, 2, 3], 'int_param': 1}"
      ]
     },
     "execution_count": 48,
     "metadata": {},
     "output_type": "execute_result"
    }
   ],
   "source": [
    "def test2(**a) : # 딕셔너리로 만들어서 반환\n",
    "    return a\n",
    "\n",
    "dic = {\"a\":[1,2,33], \"b\":\"B\"}\n",
    "t_1 = [1,2,3]\n",
    "int_param = 1\n",
    "print(dic)\n",
    "test2(dic1= dic, t = t_1, int_param = int_param)"
   ]
  },
  {
   "cell_type": "code",
   "execution_count": 49,
   "id": "0e306080-d91a-4d5f-9fc1-315182cb3873",
   "metadata": {},
   "outputs": [],
   "source": [
    "### 변수의 종류 : 변수가 선언되는 위치에따른 분류\n",
    "# 사용가능한 범위를 scope라고 함.\n",
    "# 글로벌 변수(변수)\n",
    "# 매개변수 : 함수의 ()에 선언되는 변수\n",
    "# 에서의 스코프는? 함수 안(시작) -> 함수안에서만 사용할 수 있음. 함수 밖은 사용할 수 없음.\n",
    "\n",
    "# 로컬변수 (지역변수) : 파이썬{}를 사용하지 않고 :과 들여쓰기를 이용해서 범위를 표현함 \n",
    "# 에서의 스코프는? 함수 안의 변수 선언이후부터 해당 구문까지 -> 함수안에서만 사용할 수 있음. 함수 밖은 사용할 수 없음.\n",
    "# 들여쓰기 안에서 선언된 변수를 로컬변수\n"
   ]
  },
  {
   "cell_type": "code",
   "execution_count": 55,
   "id": "95a0ca0e-a370-4ee3-93e6-1d1318b91aa5",
   "metadata": {},
   "outputs": [
    {
     "name": "stdout",
     "output_type": "stream",
     "text": [
      "10\n"
     ]
    },
    {
     "ename": "NameError",
     "evalue": "name 'var_local_1' is not defined",
     "output_type": "error",
     "traceback": [
      "\u001b[1;31m---------------------------------------------------------------------------\u001b[0m",
      "\u001b[1;31mNameError\u001b[0m                                 Traceback (most recent call last)",
      "Cell \u001b[1;32mIn[55], line 11\u001b[0m\n\u001b[0;32m      6\u001b[0m     \u001b[38;5;28mprint\u001b[39m(var_global_1)\n\u001b[0;32m     10\u001b[0m tt(\u001b[38;5;124m\"\u001b[39m\u001b[38;5;124mhello\u001b[39m\u001b[38;5;124m\"\u001b[39m)\n\u001b[1;32m---> 11\u001b[0m \u001b[38;5;28mprint\u001b[39m(var_local_1)\n",
      "\u001b[1;31mNameError\u001b[0m: name 'var_local_1' is not defined"
     ]
    }
   ],
   "source": [
    "# 왜 에러가 나는가? \n",
    "\n",
    "var_global_1 = 10\n",
    "\n",
    "def tt(var_args_1) :\n",
    "    \n",
    "    var_local_1 = \"good\"\n",
    "    print(var_global_1) \n",
    "\n",
    "\n",
    "\n",
    "tt(\"hello\")\n",
    "print(var_local_1)  # var_local은 함수 안에서만 사용 가능하기 때문\n",
    "                    # 함수를 벗어난 이곳에선 사용 할 수 없음.\n"
   ]
  },
  {
   "cell_type": "code",
   "execution_count": 58,
   "id": "f0ad9c32-93c7-42b0-afdc-120ca9c99f39",
   "metadata": {},
   "outputs": [
    {
     "name": "stdout",
     "output_type": "stream",
     "text": [
      "10\n",
      "10\n"
     ]
    }
   ],
   "source": [
    "if True :\n",
    "    var_if_a = 10\n",
    "    print(var_if_a)\n",
    "    \n",
    "print(var_if_a)"
   ]
  },
  {
   "cell_type": "code",
   "execution_count": 60,
   "id": "b1bae68f-6594-4d00-a700-76ebe26a3d63",
   "metadata": {},
   "outputs": [
    {
     "name": "stdout",
     "output_type": "stream",
     "text": [
      "== 2\n",
      "== 4\n",
      "== 6\n",
      "== 8\n",
      "== 10\n",
      "== 12\n",
      "== 14\n",
      "== 16\n",
      "== 18\n",
      "18\n"
     ]
    }
   ],
   "source": [
    "for i in range(1,10) :\n",
    "    num = i *2\n",
    "    print(\"==\",num)\n",
    "print(num)"
   ]
  },
  {
   "cell_type": "code",
   "execution_count": 63,
   "id": "771ba6bb-519d-4c68-b90b-39f59271e20a",
   "metadata": {},
   "outputs": [
    {
     "ename": "NameError",
     "evalue": "name 'hh' is not defined",
     "output_type": "error",
     "traceback": [
      "\u001b[1;31m---------------------------------------------------------------------------\u001b[0m",
      "\u001b[1;31mNameError\u001b[0m                                 Traceback (most recent call last)",
      "Cell \u001b[1;32mIn[63], line 4\u001b[0m\n\u001b[0;32m      2\u001b[0m     hh \u001b[38;5;241m=\u001b[39m\u001b[38;5;241m100\u001b[39m\n\u001b[0;32m      3\u001b[0m test_2()\n\u001b[1;32m----> 4\u001b[0m \u001b[38;5;28mprint\u001b[39m(hh)\n",
      "\u001b[1;31mNameError\u001b[0m: name 'hh' is not defined"
     ]
    }
   ],
   "source": [
    "def test_2() :\n",
    "    hh =100\n",
    "test_2()\n",
    "print(hh)"
   ]
  },
  {
   "cell_type": "code",
   "execution_count": 75,
   "id": "558f9835-737b-4776-aa8f-d26dd10fc2ed",
   "metadata": {},
   "outputs": [
    {
     "name": "stdout",
     "output_type": "stream",
     "text": [
      "3\n"
     ]
    }
   ],
   "source": [
    "var_gloabal_4 =  3\n",
    "def test_4() :\n",
    "    var_gloabal_5 = 0\n",
    "    var_gloabal_5 +=var_gloabal_4\n",
    "    print(var_gloabal_4)\n",
    "\n",
    "test_4()"
   ]
  },
  {
   "cell_type": "code",
   "execution_count": 74,
   "id": "ad8f027a-ee6d-434a-a4ff-d7f9e6aee752",
   "metadata": {},
   "outputs": [
    {
     "name": "stdout",
     "output_type": "stream",
     "text": [
      "3\n"
     ]
    }
   ],
   "source": [
    "var_global_4 =  3\n",
    "def test_5() :\n",
    "    global var_global_4\n",
    "    var_gloabal_5 = 0\n",
    "    var_gloabal_5 += var_gloabal_4\n",
    "    print(var_gloabal_5)\n",
    "\n",
    "test_5()"
   ]
  },
  {
   "cell_type": "code",
   "execution_count": 79,
   "id": "341acb7d-1e47-4364-90db-c2376672f55e",
   "metadata": {},
   "outputs": [
    {
     "name": "stdout",
     "output_type": "stream",
     "text": [
      "4\n",
      "5\n",
      "6\n",
      ">>>> 3\n"
     ]
    }
   ],
   "source": [
    "for i in range(1, 4, 1):\n",
    "    t_5 = i +3\n",
    "    print(t_5)\n",
    "int_a =i\n",
    "print(\">>>>\",int_a)"
   ]
  },
  {
   "cell_type": "code",
   "execution_count": 107,
   "id": "d9846dab-96ac-40d5-a3c3-fe35ede08d33",
   "metadata": {},
   "outputs": [
    {
     "name": "stdout",
     "output_type": "stream",
     "text": [
      "hello\n"
     ]
    }
   ],
   "source": [
    "fn_lambda_4 = lambda a : print(a)\n",
    "fn_lambda_4(\"hello\")"
   ]
  },
  {
   "cell_type": "code",
   "execution_count": 108,
   "id": "046d6b2e-0f9b-481b-9424-bc9e766bb14e",
   "metadata": {},
   "outputs": [],
   "source": [
    "# 변수는 왜 사용하는가?\n",
    "# [[값이 같은곳]]에서 대해 유지보수를 용이하게 하려고\n",
    "# 유지보수를 용이하게 하려고\n",
    "\n",
    "# 함수는 왜 사용하는가?\n",
    "# [[중복되는코드블록 or 패턴이 있는 코드 블록]] 유지보수를 용이하게 하려고 함.\n",
    "\n",
    "# 클래스(클라스)는 왜 사용하는가?\n",
    "# 공통된 자원을 유지보수를 용이하게 하려고"
   ]
  },
  {
   "cell_type": "code",
   "execution_count": 112,
   "id": "319cb827-3dde-440e-9819-280beba305eb",
   "metadata": {},
   "outputs": [
    {
     "name": "stdout",
     "output_type": "stream",
     "text": [
      "2 단출력;;;;;;;;;;;\n",
      "2 x 1 = 2\n",
      "2 x 2 = 2\n",
      "2 x 3 = 2\n",
      "2 x 4 = 2\n",
      "2 x 5 = 2\n",
      "2 x 6 = 2\n",
      "2 x 7 = 2\n",
      "2 x 8 = 2\n",
      "2 x 9 = 2\n",
      "::::::::::::::::::::\n",
      "3 단출력;;;;;;;;;;;\n",
      "3 x 1 = 3\n",
      "3 x 2 = 3\n",
      "3 x 3 = 3\n",
      "3 x 4 = 3\n",
      "3 x 5 = 3\n",
      "3 x 6 = 3\n",
      "3 x 7 = 3\n",
      "3 x 8 = 3\n",
      "3 x 9 = 3\n",
      "::::::::::::::::::::\n",
      "4 단출력;;;;;;;;;;;\n",
      "4 x 1 = 4\n",
      "4 x 2 = 4\n",
      "4 x 3 = 4\n",
      "4 x 4 = 4\n",
      "4 x 5 = 4\n",
      "4 x 6 = 4\n",
      "4 x 7 = 4\n",
      "4 x 8 = 4\n",
      "4 x 9 = 4\n",
      "::::::::::::::::::::\n",
      "5 단출력;;;;;;;;;;;\n",
      "5 x 1 = 5\n",
      "5 x 2 = 5\n",
      "5 x 3 = 5\n",
      "5 x 4 = 5\n",
      "5 x 5 = 5\n",
      "5 x 6 = 5\n",
      "5 x 7 = 5\n",
      "5 x 8 = 5\n",
      "5 x 9 = 5\n",
      "::::::::::::::::::::\n",
      "6 단출력;;;;;;;;;;;\n",
      "6 x 1 = 6\n",
      "6 x 2 = 6\n",
      "6 x 3 = 6\n",
      "6 x 4 = 6\n",
      "6 x 5 = 6\n",
      "6 x 6 = 6\n",
      "6 x 7 = 6\n",
      "6 x 8 = 6\n",
      "6 x 9 = 6\n",
      "::::::::::::::::::::\n",
      "7 단출력;;;;;;;;;;;\n",
      "7 x 1 = 7\n",
      "7 x 2 = 7\n",
      "7 x 3 = 7\n",
      "7 x 4 = 7\n",
      "7 x 5 = 7\n",
      "7 x 6 = 7\n",
      "7 x 7 = 7\n",
      "7 x 8 = 7\n",
      "7 x 9 = 7\n",
      "::::::::::::::::::::\n",
      "8 단출력;;;;;;;;;;;\n",
      "8 x 1 = 8\n",
      "8 x 2 = 8\n",
      "8 x 3 = 8\n",
      "8 x 4 = 8\n",
      "8 x 5 = 8\n",
      "8 x 6 = 8\n",
      "8 x 7 = 8\n",
      "8 x 8 = 8\n",
      "8 x 9 = 8\n",
      "::::::::::::::::::::\n",
      "9 단출력;;;;;;;;;;;\n",
      "9 x 1 = 9\n",
      "9 x 2 = 9\n",
      "9 x 3 = 9\n",
      "9 x 4 = 9\n",
      "9 x 5 = 9\n",
      "9 x 6 = 9\n",
      "9 x 7 = 9\n",
      "9 x 8 = 9\n",
      "9 x 9 = 9\n",
      "::::::::::::::::::::\n"
     ]
    }
   ],
   "source": [
    "#선언\n",
    "def print_dan(dan) : \n",
    "    print(dan, \"단출력;;;;;;;;;;;\")\n",
    "    for i in range(1,10) :\n",
    "        print(dan, \"x\", i,\"=\", dan*1)\n",
    "    print(\":\"*20)\n",
    "\n",
    "# 호출\n",
    "for dan in range(2,10) : \n",
    "    print_dan(dan)"
   ]
  },
  {
   "cell_type": "code",
   "execution_count": 126,
   "id": "08e3ba9e-2d42-420e-a747-cabe32fe0bfd",
   "metadata": {},
   "outputs": [],
   "source": [
    "# 리스트 함수들\n",
    "ls_list_1 =[70,45,50,40,30]\n"
   ]
  },
  {
   "cell_type": "code",
   "execution_count": 115,
   "id": "62c980ab-d7bc-4eae-a2ef-5ac99e6c9384",
   "metadata": {},
   "outputs": [
    {
     "name": "stdout",
     "output_type": "stream",
     "text": [
      "[10, 20, 30, 40, 50, 60, 60]\n"
     ]
    }
   ],
   "source": [
    "ls_list_1.append(60) ## 추가 \n",
    "print(ls_list_1)"
   ]
  },
  {
   "cell_type": "code",
   "execution_count": 141,
   "id": "493fb1b4-d458-4b7e-a4c8-86a922fb4217",
   "metadata": {},
   "outputs": [
    {
     "name": "stdout",
     "output_type": "stream",
     "text": [
      "[30, 40, 45, 50, 70]\n"
     ]
    }
   ],
   "source": [
    "ls_list_1.sort()# 오름차순\n",
    "print(ls_list_1)"
   ]
  },
  {
   "cell_type": "code",
   "execution_count": 142,
   "id": "d0e84ad9-0ade-4d6d-b086-6138e3ca2be8",
   "metadata": {},
   "outputs": [
    {
     "name": "stdout",
     "output_type": "stream",
     "text": [
      "[70, 50, 45, 40, 30]\n"
     ]
    }
   ],
   "source": [
    "ls_list_1.reverse() # 원래 있는 리스트를 반대로 출력할뿐 오름차순, 내림차순은 아님.\n",
    "print(ls_list_1)"
   ]
  },
  {
   "cell_type": "code",
   "execution_count": 131,
   "id": "b98f34b8-c7ee-4d80-99ff-8ee1b48fe61c",
   "metadata": {},
   "outputs": [],
   "source": [
    "\n",
    "\n",
    "# 아래와 같은 결과가 나오게 list의 함수를 이용하여 구현하세요.\n",
    "# 두개의 함수를 활용\n",
    "# [70, 60, 50, 40, 20]\n",
    "ls_list_4.sort()\n",
    "ls_list_4.reverse()\n",
    "print(ls_list_4)"
   ]
  },
  {
   "cell_type": "code",
   "execution_count": 182,
   "id": "3569e77e-b6a4-4856-a380-ddbe840fc941",
   "metadata": {},
   "outputs": [
    {
     "name": "stdout",
     "output_type": "stream",
     "text": [
      "2\n"
     ]
    }
   ],
   "source": [
    "ls_list_5 = [70,20,60,40,50]\n",
    "idx = ls_list_5.index(60) # 60이라는 값의 인덱스를 반환\n",
    "print(idx)"
   ]
  },
  {
   "cell_type": "code",
   "execution_count": 163,
   "id": "1dc6711e-e636-491b-aa3d-44a5e7b00930",
   "metadata": {},
   "outputs": [
    {
     "name": "stdout",
     "output_type": "stream",
     "text": [
      "x: ['Tick', 'Tock', 'Song', ['Ping', 'Pong']]\n"
     ]
    }
   ],
   "source": [
    "x = ['Tick', 'Tock', 'Song']\n",
    "y = ['Ping', 'Pong']\n",
    "x.append(y)\n",
    "print('x:', x)\n"
   ]
  },
  {
   "cell_type": "code",
   "execution_count": 165,
   "id": "e6bdf443-0883-4cc6-9e1d-f9667114e4f8",
   "metadata": {},
   "outputs": [
    {
     "name": "stdout",
     "output_type": "stream",
     "text": [
      "x: ['Tick', 'Tock', 'Song', 'Ping', 'Pong']\n"
     ]
    }
   ],
   "source": [
    "\n",
    "x = ['Tick', 'Tock', 'Song']\n",
    "y = ['Ping', 'Pong']\n",
    "x.extend(y)\n",
    "print('x:', x)"
   ]
  },
  {
   "cell_type": "code",
   "execution_count": 180,
   "id": "4e3ee478-e3bd-46f6-8b3c-9289ec135ebe",
   "metadata": {},
   "outputs": [],
   "source": [
    "nums = [1, 2, 3]\n",
    "nums.insert(0, {10, 20})  # 0번째(맨앞에) 추가\n"
   ]
  },
  {
   "cell_type": "code",
   "execution_count": 181,
   "id": "2319f9a4-4abb-472e-bae5-5bc73ce50665",
   "metadata": {},
   "outputs": [
    {
     "name": "stdout",
     "output_type": "stream",
     "text": [
      "[{10, 20}, 1, 2, 3]\n"
     ]
    }
   ],
   "source": [
    "print(nums)"
   ]
  },
  {
   "cell_type": "code",
   "execution_count": 178,
   "id": "7dc9b330-462a-40fc-997f-925ce74960ca",
   "metadata": {},
   "outputs": [],
   "source": [
    "nums.extend([\"end2\",\"start2\"])"
   ]
  },
  {
   "cell_type": "code",
   "execution_count": 184,
   "id": "6dd04afa-8363-4739-a6d2-b2b78fbc1f0f",
   "metadata": {},
   "outputs": [],
   "source": [
    "ls_list_1 =[70,45,50,40,30]"
   ]
  },
  {
   "cell_type": "code",
   "execution_count": 188,
   "id": "2644f841-5a54-4c59-b59a-5db3e1960c16",
   "metadata": {},
   "outputs": [
    {
     "data": {
      "text/plain": [
       "[70, 50, 45, 40, 30]"
      ]
     },
     "execution_count": 188,
     "metadata": {},
     "output_type": "execute_result"
    }
   ],
   "source": [
    "ls_list_1.sort(reverse=True)\n",
    "ls_list_1"
   ]
  },
  {
   "cell_type": "code",
   "execution_count": 189,
   "id": "569788a5-0c73-4232-aa05-c032f4b277db",
   "metadata": {},
   "outputs": [
    {
     "name": "stdout",
     "output_type": "stream",
     "text": [
      "[]\n"
     ]
    }
   ],
   "source": [
    "ls_list_1.clear()\n",
    "print(ls_list_1)"
   ]
  },
  {
   "cell_type": "code",
   "execution_count": 314,
   "id": "22e7bc64-42b1-4661-9c7e-64c497adc67f",
   "metadata": {},
   "outputs": [
    {
     "name": "stdout",
     "output_type": "stream",
     "text": [
      "[70, 20, 60, 40, 50]\n"
     ]
    }
   ],
   "source": [
    "ls_list_7 = [70,20,60,40,50]\n"
   ]
  },
  {
   "cell_type": "code",
   "execution_count": 318,
   "id": "c03785f6-480a-49e6-9c40-3aba035b6c14",
   "metadata": {},
   "outputs": [
    {
     "name": "stdout",
     "output_type": "stream",
     "text": [
      "[70, 20, 60, 40]\n"
     ]
    }
   ],
   "source": [
    "print(ls_list_7)"
   ]
  },
  {
   "cell_type": "code",
   "execution_count": 317,
   "id": "7904e36b-bf80-43d9-a5d2-e9185704db3a",
   "metadata": {},
   "outputs": [],
   "source": [
    "ls_list_7.remove(50)"
   ]
  },
  {
   "cell_type": "code",
   "execution_count": 319,
   "id": "f50da63b-192a-4ff5-8878-537aca133ea4",
   "metadata": {},
   "outputs": [
    {
     "data": {
      "text/plain": [
       "3040412347264"
      ]
     },
     "execution_count": 319,
     "metadata": {},
     "output_type": "execute_result"
    }
   ],
   "source": [
    "id(ls_list_7)"
   ]
  },
  {
   "cell_type": "code",
   "execution_count": 195,
   "id": "6c01b743-21d0-4cad-b504-21f1805e0aaa",
   "metadata": {},
   "outputs": [],
   "source": [
    "ls_list_8 = ls_list_7.copy()"
   ]
  },
  {
   "cell_type": "code",
   "execution_count": 322,
   "id": "80be6796-ca6a-46f6-943c-c65f8f0d252f",
   "metadata": {},
   "outputs": [
    {
     "name": "stdout",
     "output_type": "stream",
     "text": [
      "[70, 20, 40, 50]\n"
     ]
    }
   ],
   "source": [
    "print(ls_list_8)"
   ]
  },
  {
   "cell_type": "code",
   "execution_count": 320,
   "id": "d1706d8c-1c63-4f23-a9d1-d63b90744de5",
   "metadata": {},
   "outputs": [
    {
     "data": {
      "text/plain": [
       "3040389516736"
      ]
     },
     "execution_count": 320,
     "metadata": {},
     "output_type": "execute_result"
    }
   ],
   "source": [
    "id(ls_list_8)"
   ]
  },
  {
   "cell_type": "code",
   "execution_count": 323,
   "id": "389d2c8f-f9d9-4df1-8b0c-8ae550998767",
   "metadata": {},
   "outputs": [],
   "source": [
    "ls_list_9 = ls_list_7"
   ]
  },
  {
   "cell_type": "code",
   "execution_count": 324,
   "id": "914bd5f8-d598-4767-a7f2-28f8b07d00ba",
   "metadata": {},
   "outputs": [
    {
     "data": {
      "text/plain": [
       "3040412347264"
      ]
     },
     "execution_count": 324,
     "metadata": {},
     "output_type": "execute_result"
    }
   ],
   "source": [
    "id(ls_list_9)"
   ]
  },
  {
   "cell_type": "code",
   "execution_count": 199,
   "id": "4f7c0bdc-c435-4549-87ab-929d1aa120d7",
   "metadata": {},
   "outputs": [
    {
     "name": "stdout",
     "output_type": "stream",
     "text": [
      "[70, 20, 40, 50]\n"
     ]
    }
   ],
   "source": [
    "print(ls_list_8)"
   ]
  },
  {
   "cell_type": "code",
   "execution_count": 209,
   "id": "a3d0cffc-0a54-41b8-b4f0-f7a9340729fb",
   "metadata": {},
   "outputs": [
    {
     "data": {
      "text/plain": [
       "'ko'"
      ]
     },
     "execution_count": 209,
     "metadata": {},
     "output_type": "execute_result"
    }
   ],
   "source": [
    "dict_dictionary_1 = {1:\"ko\"}\n",
    "dict_dictionary_1[1]"
   ]
  },
  {
   "cell_type": "code",
   "execution_count": 211,
   "id": "14adfb22-0c4a-4af9-bd67-b79ba8049992",
   "metadata": {},
   "outputs": [
    {
     "data": {
      "text/plain": [
       "'korea'"
      ]
     },
     "execution_count": 211,
     "metadata": {},
     "output_type": "execute_result"
    }
   ],
   "source": [
    "dict_dictionary_1.get(1) # 인덱스로도 조회가 가능하지만 get함수를 이용해서 인덱싱 할 수도 있다."
   ]
  },
  {
   "cell_type": "code",
   "execution_count": 212,
   "id": "8ccf2a36-4b59-4c7c-b6a4-7b98f9078485",
   "metadata": {},
   "outputs": [
    {
     "data": {
      "text/plain": [
       "{1: 'korea'}"
      ]
     },
     "execution_count": 212,
     "metadata": {},
     "output_type": "execute_result"
    }
   ],
   "source": [
    "dict_dictionary_1[1] = \"korea\"\n",
    "dict_dictionary_1"
   ]
  },
  {
   "cell_type": "code",
   "execution_count": 214,
   "id": "4ff2ed48-34fe-45b6-8cb4-099f1b7b290c",
   "metadata": {},
   "outputs": [
    {
     "data": {
      "text/plain": [
       "{1: 'ko'}"
      ]
     },
     "execution_count": 214,
     "metadata": {},
     "output_type": "execute_result"
    }
   ],
   "source": [
    "dict_dictionary_1.update({1:'ko'})\n",
    "dict_dictionary_1"
   ]
  },
  {
   "cell_type": "code",
   "execution_count": 216,
   "id": "c4d5e25a-02f9-49c3-ba95-73d707d8b3db",
   "metadata": {},
   "outputs": [
    {
     "data": {
      "text/plain": [
       "{1: 'ko', 2: 'usa'}"
      ]
     },
     "execution_count": 216,
     "metadata": {},
     "output_type": "execute_result"
    }
   ],
   "source": [
    "dict_dictionary_1[2] = 'usa'\n",
    "dict_dictionary_1"
   ]
  },
  {
   "cell_type": "code",
   "execution_count": 217,
   "id": "bc8b7a73-5627-4d11-99c1-6b43758fcae7",
   "metadata": {},
   "outputs": [],
   "source": [
    "## 내장 함수"
   ]
  },
  {
   "cell_type": "code",
   "execution_count": 218,
   "id": "4fbdc904-0ae3-42ec-81e9-e8414a27bed3",
   "metadata": {},
   "outputs": [],
   "source": [
    "def filter_test(ls) :\n",
    "    result = []\n",
    "    for el in ls :\n",
    "        if el > 10 : \n",
    "            result.append(el)\n",
    "    return result"
   ]
  },
  {
   "cell_type": "code",
   "execution_count": 226,
   "id": "190a8fb4-5dd3-4d36-ae7c-3b9680724db8",
   "metadata": {},
   "outputs": [
    {
     "name": "stdout",
     "output_type": "stream",
     "text": [
      "[11, 21, 31]\n"
     ]
    }
   ],
   "source": [
    "ls = [1,11,21,31]\n",
    "result=filter_test(ls)\n",
    "print(result)"
   ]
  },
  {
   "cell_type": "code",
   "execution_count": 220,
   "id": "08f0a8b7-2cc7-4cd3-a006-01f10124e3e1",
   "metadata": {},
   "outputs": [],
   "source": [
    "# 위와 같은 기능을 하는 내장 함수가 있다.\n"
   ]
  },
  {
   "cell_type": "code",
   "execution_count": 238,
   "id": "7d8bb048-9578-4919-9b87-2de9601741d8",
   "metadata": {},
   "outputs": [
    {
     "name": "stdout",
     "output_type": "stream",
     "text": [
      "[1, 11, 21, 31]\n"
     ]
    },
    {
     "data": {
      "text/plain": [
       "<filter at 0x2c3e52801f0>"
      ]
     },
     "execution_count": 238,
     "metadata": {},
     "output_type": "execute_result"
    }
   ],
   "source": [
    "# filter(function, ls)\n",
    "filter(print(ls), ls)"
   ]
  },
  {
   "cell_type": "code",
   "execution_count": 230,
   "id": "720735a0-67b7-496e-bc80-c65e02751590",
   "metadata": {},
   "outputs": [
    {
     "data": {
      "text/plain": [
       "True"
      ]
     },
     "execution_count": 230,
     "metadata": {},
     "output_type": "execute_result"
    }
   ],
   "source": [
    "def filter_test2(el) : \n",
    "    return el > 10\n",
    "    # bool자료형이 반환 된다."
   ]
  },
  {
   "cell_type": "code",
   "execution_count": 239,
   "id": "5bca87b1-8ea1-4173-b48d-d2c2cf861da5",
   "metadata": {},
   "outputs": [
    {
     "data": {
      "text/plain": [
       "[11, 21, 31]"
      ]
     },
     "execution_count": 239,
     "metadata": {},
     "output_type": "execute_result"
    }
   ],
   "source": [
    "list(filter(filter_test2,ls)) # 함수명만 입력을 한다. 반복적인 데이터에서 내가 원하는 결과만 추출하는 것이 filter 함수이다."
   ]
  },
  {
   "cell_type": "code",
   "execution_count": 241,
   "id": "01c86c24-9b54-40b1-ba2b-227c14dafad2",
   "metadata": {},
   "outputs": [],
   "source": [
    "ls = [i for i in range(0,100)]"
   ]
  },
  {
   "cell_type": "code",
   "execution_count": 247,
   "id": "9bba93ca-f628-47a3-96e4-e33cd0e1f7e4",
   "metadata": {},
   "outputs": [
    {
     "name": "stdout",
     "output_type": "stream",
     "text": [
      "[3, 6, 9, 12, 15, 18, 21, 24, 27, 30, 33, 36, 39, 42, 45, 48, 51, 54, 57, 60, 63, 66, 69, 72, 75, 78, 81, 84, 87, 90, 93, 96, 99]\n"
     ]
    }
   ],
   "source": [
    "result_ls_3 = list(filter(lambda el : el %3 == 0 and el != 0, ls))\n",
    "print(result_ls_3)"
   ]
  },
  {
   "cell_type": "code",
   "execution_count": 252,
   "id": "1c2d1271-5aff-42eb-bfe4-6dd9b881a4d5",
   "metadata": {},
   "outputs": [],
   "source": [
    "msg = \"가나다라마바사아자차카타파하가나다라마바사아자차카타파하가나다라마바사아자차카타파하\"\n",
    "#filter()함수를 이용해서 '가'가 아닌 문자만 추출해서 리스트 변수 ls_not_ga에 저장."
   ]
  },
  {
   "cell_type": "code",
   "execution_count": 250,
   "id": "aaa1011e-dabf-472f-9490-e31759308d63",
   "metadata": {},
   "outputs": [
    {
     "name": "stdout",
     "output_type": "stream",
     "text": [
      "['나', '다', '라', '마', '바', '사', '아', '자', '차', '카', '타', '파', '하', '나', '다', '라', '마', '바', '사', '아', '자', '차', '카', '타', '파', '하', '나', '다', '라', '마', '바', '사', '아', '자', '차', '카', '타', '파', '하']\n"
     ]
    }
   ],
   "source": [
    "ls_not_ga = list(filter(lambda word : word != '가', msg))\n",
    "print(ls_not_ga)"
   ]
  },
  {
   "cell_type": "code",
   "execution_count": 259,
   "id": "578f7249-a7e7-48ef-95a7-d156b169d542",
   "metadata": {},
   "outputs": [
    {
     "name": "stdout",
     "output_type": "stream",
     "text": [
      "['H', 'E', 'L', 'L', 'O']\n"
     ]
    }
   ],
   "source": [
    "## map(f, collection)\n",
    "\n",
    "msg = \"hello\"\n",
    "map_list= list(map(lambda c: c.upper(),msg)) # msg에서 가져온 요소를 c로 가져와서 대문자로 치환하여 리스트로 반환\n",
    "print(map_list)"
   ]
  },
  {
   "cell_type": "code",
   "execution_count": 276,
   "id": "e22d57f1-646a-4449-bb9d-e050c7b265f3",
   "metadata": {},
   "outputs": [],
   "source": [
    "def upper_fn(msg) :\n",
    "    result = []\n",
    "    for c in msg :\n",
    "        change_c = c.upper()\n",
    "        result.append(change_c)\n",
    "\n",
    "    return result"
   ]
  },
  {
   "cell_type": "code",
   "execution_count": 277,
   "id": "7d8f7faf-dc3c-4dbd-8de2-1c348fd64c0a",
   "metadata": {},
   "outputs": [
    {
     "name": "stdout",
     "output_type": "stream",
     "text": [
      "['H', 'E', 'L', 'L', 'O']\n"
     ]
    }
   ],
   "source": [
    "list_msg = upper_fn(\"hello\")\n",
    "print(list_msg)"
   ]
  },
  {
   "cell_type": "code",
   "execution_count": 280,
   "id": "c914bf7a-534c-4d69-b45f-0d10a4a20a2d",
   "metadata": {},
   "outputs": [],
   "source": [
    "t_tuple_3 = (10,3,5,7)\n",
    "# 위 데이터의 요소값을 7로 나누어서 나온 나머지를 반환하여 그 값들로 ls_remain_7 list를 생성\n",
    "\n"
   ]
  },
  {
   "cell_type": "code",
   "execution_count": 287,
   "id": "2a3cf7ed-e9be-4335-a117-da8850ddaa3d",
   "metadata": {},
   "outputs": [
    {
     "name": "stdout",
     "output_type": "stream",
     "text": [
      "[3, 3, 5, 0]\n"
     ]
    }
   ],
   "source": [
    "ls_remain_7 = list(map(lambda el : el % 7, t_tuple_3))\n",
    "print(ls_remain_7)"
   ]
  },
  {
   "cell_type": "code",
   "execution_count": 312,
   "id": "e8af02e8-b62d-4d56-9766-cb9a715391b6",
   "metadata": {},
   "outputs": [
    {
     "name": "stdout",
     "output_type": "stream",
     "text": [
      "['c', 'e', 'g']\n"
     ]
    },
    {
     "data": {
      "text/plain": [
       "0"
      ]
     },
     "execution_count": 312,
     "metadata": {},
     "output_type": "execute_result"
    }
   ],
   "source": [
    "ls_list = [\"a\",\"b\",\"c\",\"d\",\"e\",\"f\",\"g\"]\n",
    "filter_list_1 = list(filter(lambda c : ls_list.index(c) %2 == 0 and ls_list.index(c) != 0 ,ls_list))\n",
    "print(filter_list_1)\n",
    "ls_list.index(\"a\")\n",
    "\n"
   ]
  },
  {
   "cell_type": "code",
   "execution_count": 313,
   "id": "ebdfd2a2-c51f-4118-9a2d-811796112635",
   "metadata": {},
   "outputs": [
    {
     "name": "stdout",
     "output_type": "stream",
     "text": [
      "['로', '이', '스', '포', '츠', '센', '터', '9']\n"
     ]
    }
   ],
   "source": [
    "str_param = \"로이 스포츠센터 9\"\n",
    "filter_list_1 = list(filter(lambda c : c!=' ',str_param))\n",
    "print(filter_list_1)"
   ]
  },
  {
   "cell_type": "code",
   "execution_count": 325,
   "id": "fdd45baf-dc4c-4a8e-900e-8c648ccf15d0",
   "metadata": {},
   "outputs": [
    {
     "ename": "SyntaxError",
     "evalue": "cannot assign to function call here. Maybe you meant '==' instead of '='? (3573557892.py, line 7)",
     "output_type": "error",
     "traceback": [
      "\u001b[1;36m  Cell \u001b[1;32mIn[325], line 7\u001b[1;36m\u001b[0m\n\u001b[1;33m    id(ls3) = id(ls1) # 일때 False\u001b[0m\n\u001b[1;37m    ^\u001b[0m\n\u001b[1;31mSyntaxError\u001b[0m\u001b[1;31m:\u001b[0m cannot assign to function call here. Maybe you meant '==' instead of '='?\n"
     ]
    }
   ],
   "source": [
    "# 변수를 stack에 저장하고 heep에 list를 저장 되어있다.\n",
    "# 리스트형 변수는 heap의 주소값을 가지고 있음.\n",
    "\n",
    "ls2= ls1 # 은 ls2는 ls1의주소값을 넘겨 받는것이다.\n",
    "# copy를 이용할때는 새로운 주소 값에 리스트값들을 저장하는것이다.\n",
    "ls3 = ls1.copy() # 는 주소값이 같지 않으므로\n",
    "id(ls3) = id(ls1) # 일때 False\n",
    "id(ls1) = id(ls2) # 일때 True\n"
   ]
  },
  {
   "cell_type": "code",
   "execution_count": 347,
   "id": "7149e023-71c8-45b0-b8f4-569112c1cf52",
   "metadata": {},
   "outputs": [
    {
     "name": "stdout",
     "output_type": "stream",
     "text": [
      "[1.0, 2.0, 3.0]\n"
     ]
    }
   ],
   "source": [
    "ls_list = [\"sacred\",\"sacrifice\",\"sail\",\"aaaa\"]\n",
    "def check(c) :\n",
    "    print(c)\n",
    "    str(c)\n",
    "    if (c[0] == \"s\") : \n",
    "        c\n",
    "    else :\n",
    "        pass\n",
    "\n",
    "ls_list = list(map(check, ls_list))\n",
    "print(ls_list)"
   ]
  },
  {
   "cell_type": "code",
   "execution_count": null,
   "id": "caa43971-a749-4373-b653-fbba154aef4d",
   "metadata": {},
   "outputs": [],
   "source": []
  },
  {
   "cell_type": "code",
   "execution_count": null,
   "id": "74f143d2-3d15-4fa6-8b67-095ee68fb20b",
   "metadata": {},
   "outputs": [],
   "source": []
  }
 ],
 "metadata": {
  "kernelspec": {
   "display_name": "Python 3 (ipykernel)",
   "language": "python",
   "name": "python3"
  },
  "language_info": {
   "codemirror_mode": {
    "name": "ipython",
    "version": 3
   },
   "file_extension": ".py",
   "mimetype": "text/x-python",
   "name": "python",
   "nbconvert_exporter": "python",
   "pygments_lexer": "ipython3",
   "version": "3.12.4"
  }
 },
 "nbformat": 4,
 "nbformat_minor": 5
}
