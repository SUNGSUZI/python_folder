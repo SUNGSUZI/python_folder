{
 "cells": [
  {
   "cell_type": "code",
   "execution_count": 1,
   "id": "56b688ec-3da6-45a7-bb1d-58498ffeafd2",
   "metadata": {},
   "outputs": [
    {
     "name": "stdout",
     "output_type": "stream",
     "text": [
      "Test2, ok\n"
     ]
    }
   ],
   "source": [
    "\n",
    "\n",
    "if __name__ == \"__main__\" :\n",
    "    print(\"Test2, ok\") ##__name__이라는 변수는 이미 내장되어 있는 변수이다.\n",
    "                       ## 해당코드를 실행시키는 파일이 이곳이면 __name__의 값으로는 __main__이 뜰것이고\n",
    "                       ## 해당 파일을 모듈로 사용하면 print 코드는 실행되지 않을것이다."
   ]
  }
 ],
 "metadata": {
  "kernelspec": {
   "display_name": "Python 3 (ipykernel)",
   "language": "python",
   "name": "python3"
  },
  "language_info": {
   "codemirror_mode": {
    "name": "ipython",
    "version": 3
   },
   "file_extension": ".py",
   "mimetype": "text/x-python",
   "name": "python",
   "nbconvert_exporter": "python",
   "pygments_lexer": "ipython3",
   "version": "3.12.4"
  }
 },
 "nbformat": 4,
 "nbformat_minor": 5
}
