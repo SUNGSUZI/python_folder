{
 "cells": [
  {
   "cell_type": "code",
   "execution_count": 11,
   "id": "d2f9511a-2a29-44f2-985b-39c9e8158df3",
   "metadata": {},
   "outputs": [],
   "source": [
    "def plus(*args) :\n",
    "    sum = 0\n",
    "    for el in args :\n",
    "        sum += el\n",
    "    return sum\n",
    "    "
   ]
  },
  {
   "cell_type": "code",
   "execution_count": 17,
   "id": "adf1ba1c-c5ad-4037-9096-870449cee7bc",
   "metadata": {},
   "outputs": [],
   "source": [
    "def mul(*args) :\n",
    "    result = 1\n",
    "    for el in args :\n",
    "        result *= el\n",
    "    return result\n"
   ]
  },
  {
   "cell_type": "code",
   "execution_count": 18,
   "id": "3275f5ca-7437-4ac5-9403-c9939e837f35",
   "metadata": {},
   "outputs": [
    {
     "name": "stdout",
     "output_type": "stream",
     "text": [
      "10\n"
     ]
    }
   ],
   "source": [
    "# print(mul(1,2,3,4))\n",
    "\n",
    "if __name__ == \"__main__\" :\n",
    "    plus(1,2,3,4)\n",
    "    mul(1,2,3,4)\n",
    "    # if 안의 코드 삭제 후 pass로도 대체 가능\n",
    "    # 확인한 코드는 주석처리"
   ]
  }
 ],
 "metadata": {
  "kernelspec": {
   "display_name": "Python 3 (ipykernel)",
   "language": "python",
   "name": "python3"
  },
  "language_info": {
   "codemirror_mode": {
    "name": "ipython",
    "version": 3
   },
   "file_extension": ".py",
   "mimetype": "text/x-python",
   "name": "python",
   "nbconvert_exporter": "python",
   "pygments_lexer": "ipython3",
   "version": "3.12.4"
  }
 },
 "nbformat": 4,
 "nbformat_minor": 5
}
