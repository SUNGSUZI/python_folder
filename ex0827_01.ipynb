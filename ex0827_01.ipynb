{
 "cells": [
  {
   "cell_type": "markdown",
   "id": "6dd65405-ed8c-40ac-95ae-b43f36eb9717",
   "metadata": {},
   "source": [
    "## 변수 학습"
   ]
  },
  {
   "cell_type": "markdown",
   "id": "d4b58089-c52c-4c0a-935b-79877db990cb",
   "metadata": {},
   "source": [
    "#### 변수는 동일한 값을 사용할 때, 유지보수 관리를 용이하게 "
   ]
  },
  {
   "cell_type": "code",
   "execution_count": 9,
   "id": "4cf2c059-ac61-449d-801e-472f57f2ccdd",
   "metadata": {},
   "outputs": [
    {
     "name": "stdout",
     "output_type": "stream",
     "text": [
      "-220000000\n",
      "-220000000\n",
      "-220000000\n",
      "-220000000\n",
      "-220000000\n",
      "-220000000\n",
      "-220000000\n",
      "-220000000\n",
      "-220000000\n",
      "-220000000\n"
     ]
    }
   ],
   "source": [
    "num_int=-220000000 \n",
    "\n",
    "print(num_int)\n",
    "print(num_int)\n",
    "print(num_int)\n"
   ]
  },
  {
   "cell_type": "markdown",
   "id": "37d58e4f-a86c-4a84-9ecc-c0abf559fe86",
   "metadata": {},
   "source": [
    "#### 변수에 대입하는 값은 자료형마다 그 형태가 다르다."
   ]
  },
  {
   "cell_type": "code",
   "execution_count": 11,
   "id": "362c0237-330a-4899-8a66-d5e20c6c5a9a",
   "metadata": {},
   "outputs": [
    {
     "name": "stdout",
     "output_type": "stream",
     "text": [
      "2200000000\n"
     ]
    }
   ],
   "source": [
    "num_long =2200000000\n",
    "print (num_long)"
   ]
  },
  {
   "cell_type": "code",
   "execution_count": 31,
   "id": "526b2b31-d0a4-4234-9d0b-d5e9ea4efe4e",
   "metadata": {},
   "outputs": [],
   "source": [
    "str_String  = \"good morning\""
   ]
  },
  {
   "cell_type": "code",
   "execution_count": 22,
   "id": "da4e3d94-feb7-461c-9ad8-02ffe92323a5",
   "metadata": {},
   "outputs": [],
   "source": [
    "bool_boolean = True"
   ]
  },
  {
   "cell_type": "markdown",
   "id": "7d4b3038-4ba4-4faa-9ae1-b880fc5d94ef",
   "metadata": {},
   "source": [
    "## 변수명 = 자료형에 맞는 값"
   ]
  },
  {
   "cell_type": "markdown",
   "id": "a360a239-0432-4c1c-98cc-a4a5b5f15cc2",
   "metadata": {},
   "source": [
    "### 문자열에 맞는 값 표현하기"
   ]
  },
  {
   "cell_type": "code",
   "execution_count": 26,
   "id": "c6351947-68d8-480a-99cb-749cd431ed7a",
   "metadata": {},
   "outputs": [
    {
     "ename": "SyntaxError",
     "evalue": "unterminated string literal (detected at line 1) (1735932565.py, line 1)",
     "output_type": "error",
     "traceback": [
      "\u001b[1;36m  Cell \u001b[1;32mIn[26], line 1\u001b[1;36m\u001b[0m\n\u001b[1;33m    str_String_1 = \"안녕 hi\u001b[0m\n\u001b[1;37m                   ^\u001b[0m\n\u001b[1;31mSyntaxError\u001b[0m\u001b[1;31m:\u001b[0m unterminated string literal (detected at line 1)\n"
     ]
    }
   ],
   "source": [
    "str_String_1 = \"안녕 hi\n",
    "\"\n",
    "\n",
    "print(str_String_1)"
   ]
  },
  {
   "cell_type": "code",
   "execution_count": 27,
   "id": "b225e157-61cd-4f3b-adf7-31e74e6321b9",
   "metadata": {},
   "outputs": [
    {
     "name": "stdout",
     "output_type": "stream",
     "text": [
      "하세요 hello\n"
     ]
    }
   ],
   "source": [
    "str_String_2 = '하세요 '\n",
    "print(str_String_2)"
   ]
  },
  {
   "cell_type": "code",
   "execution_count": 28,
   "id": "6ae3a833-d601-486b-9692-44038d3165f3",
   "metadata": {},
   "outputs": [
    {
     "name": "stdout",
     "output_type": "stream",
     "text": [
      "안녕\n",
      "하세요\n"
     ]
    }
   ],
   "source": [
    "str_String_3 =\"\"\"안녕\n",
    "하세요\"\"\"\n",
    "print(str_String_3)\n"
   ]
  },
  {
   "cell_type": "code",
   "execution_count": 32,
   "id": "b5c08cb7-f124-4c86-954f-771011b4f0e2",
   "metadata": {
    "scrolled": true
   },
   "outputs": [
    {
     "name": "stdout",
     "output_type": "stream",
     "text": [
      "안녕\n",
      "하세요\n"
     ]
    }
   ],
   "source": [
    "str_String_4 ='''안녕\n",
    "하세요'''\n",
    "print(str_String_4)"
   ]
  },
  {
   "cell_type": "markdown",
   "id": "a464758b-b8c7-4307-88fc-10ff17f228b3",
   "metadata": {},
   "source": [
    "다음은 변수 선언 코드입니다. 변수에 a 에 들어간 값은 정수인가요?\n",
    "- a= \"123\""
   ]
  },
  {
   "cell_type": "markdown",
   "id": "0eb73ce2-6e31-4492-bb8f-4918e2ce2d8e",
   "metadata": {},
   "source": [
    "#### 큰 따음표와 작은 따옴표를 구분해서 문자열 표현해야 하는 상황"
   ]
  },
  {
   "cell_type": "code",
   "execution_count": 37,
   "id": "22388492-d1df-4b5f-8c20-8b9ef543ea7d",
   "metadata": {},
   "outputs": [
    {
     "name": "stdout",
     "output_type": "stream",
     "text": [
      "그가 말했다. \"안녕하세요?\"\n"
     ]
    }
   ],
   "source": [
    "str_String_5 ='그가 말했다. \"안녕하세요?\"'\n",
    "print(str_String_5)\n"
   ]
  },
  {
   "cell_type": "code",
   "execution_count": 38,
   "id": "b29d975a-6f4a-4476-b8b2-4a1d4e6566be",
   "metadata": {},
   "outputs": [
    {
     "name": "stdout",
     "output_type": "stream",
     "text": [
      "그는 생각했다. '저 사람은 어디서 왔지?'\n"
     ]
    }
   ],
   "source": [
    "str_String_6 = \"그는 생각했다. '저 사람은 어디서 왔지?'\"\n",
    "print(str_String_6)"
   ]
  },
  {
   "cell_type": "code",
   "execution_count": 45,
   "id": "8a08c5df-214c-4844-a923-84bf44a5c666",
   "metadata": {},
   "outputs": [
    {
     "name": "stdout",
     "output_type": "stream",
     "text": [
      " 그는 생각했다. \"저 사람은 어디서 왔지\" \n"
     ]
    }
   ],
   "source": [
    "str_String_7 = \"\"\" 그는 생각했다. \"저 사람은 어디서 왔지\" \"\"\"\n",
    "print(str_String_7)"
   ]
  },
  {
   "cell_type": "code",
   "execution_count": 47,
   "id": "1c3727b8-8f25-4dcd-a7f6-c68713b6684b",
   "metadata": {},
   "outputs": [
    {
     "name": "stdout",
     "output_type": "stream",
     "text": [
      " 그는 생각했다. \"저 사람은 어디서 왔지\" \n"
     ]
    }
   ],
   "source": [
    "str_String_8 = ''' 그는 생각했다. \"저 사람은 어디서 왔지\" '''\n",
    "print(str_String_7)"
   ]
  },
  {
   "cell_type": "code",
   "execution_count": 49,
   "id": "2ef169e4-49ed-453f-ae06-e278b00aeecd",
   "metadata": {},
   "outputs": [
    {
     "name": "stdout",
     "output_type": "stream",
     "text": [
      "(3, 1, 5, 7)\n"
     ]
    }
   ],
   "source": [
    "t_tuple = 3,1,5,7\n",
    "print(t_tuple)"
   ]
  },
  {
   "cell_type": "code",
   "execution_count": 51,
   "id": "38cbf08b-758d-4e34-9e8f-c75d2926b18b",
   "metadata": {},
   "outputs": [
    {
     "name": "stdout",
     "output_type": "stream",
     "text": [
      "['안녕', '하세', '요', '?']\n"
     ]
    }
   ],
   "source": [
    "ls_list =[\"안녕\",\"하세\",\"요\",\"?\"]\n",
    "print(ls_list)"
   ]
  },
  {
   "cell_type": "code",
   "execution_count": 53,
   "id": "e8dfda32-ee48-493c-ba35-f703db510a4e",
   "metadata": {},
   "outputs": [
    {
     "name": "stdout",
     "output_type": "stream",
     "text": [
      "{'일본': '도쿄', '중국': '베이징'}\n"
     ]
    }
   ],
   "source": [
    "dict_dictionary = {\"일본\":\"도쿄\",\"중국\":\"베이징\"}\n",
    "print(dict_dictionary)"
   ]
  },
  {
   "cell_type": "code",
   "execution_count": null,
   "id": "44d65042-77b7-4a4f-9d3b-b5278ad306c2",
   "metadata": {},
   "outputs": [],
   "source": []
  },
  {
   "cell_type": "markdown",
   "id": "d0bedef9-42ae-4295-84dd-35e9b994573e",
   "metadata": {},
   "source": [
    "### 2진수, 8진수, 16진수 변수 선언하기 : 정수\n",
    "- 2진수 : 0b1010\n",
    "- 8진수 : 0o17\n",
    "- 16진수 : 0xff\n",
    "  "
   ]
  },
  {
   "cell_type": "code",
   "execution_count": 54,
   "id": "78f52dde-2b11-491b-b2eb-3b09bf87e039",
   "metadata": {},
   "outputs": [
    {
     "name": "stdout",
     "output_type": "stream",
     "text": [
      "8\n"
     ]
    }
   ],
   "source": [
    "num_int_10 = 8\n",
    "print(num_int_10)"
   ]
  },
  {
   "cell_type": "code",
   "execution_count": 58,
   "id": "66f44fdd-5e5d-4600-8dbf-ff4923040fec",
   "metadata": {},
   "outputs": [
    {
     "name": "stdout",
     "output_type": "stream",
     "text": [
      "10\n"
     ]
    }
   ],
   "source": [
    "num_int_bin = 0b1010\n",
    "print(num_int_bin)"
   ]
  },
  {
   "cell_type": "code",
   "execution_count": 63,
   "id": "814f3498-598e-4c7c-a71c-94e7fdf3f799",
   "metadata": {},
   "outputs": [
    {
     "name": "stdout",
     "output_type": "stream",
     "text": [
      "15\n"
     ]
    }
   ],
   "source": [
    "num_int_oct = 0o17\n",
    "print(num_int_oct)"
   ]
  },
  {
   "cell_type": "code",
   "execution_count": 64,
   "id": "40b1c919-4b77-44ea-a7a0-31a82d7f1374",
   "metadata": {},
   "outputs": [
    {
     "name": "stdout",
     "output_type": "stream",
     "text": [
      "1044480\n"
     ]
    }
   ],
   "source": [
    "num_int_hex = 0xff000\n",
    "print(num_int_hex)"
   ]
  },
  {
   "cell_type": "code",
   "execution_count": 81,
   "id": "daa46644-be76-4332-b519-b0a5c6176455",
   "metadata": {},
   "outputs": [
    {
     "name": "stdout",
     "output_type": "stream",
     "text": [
      "[10, 40, 30, 10]\n"
     ]
    }
   ],
   "source": [
    "ls_list_num_1 = [10,40,30,10]\n",
    "print(ls_list_num_1)"
   ]
  },
  {
   "cell_type": "code",
   "execution_count": 85,
   "id": "0fd1036d-26af-4ed4-8406-9344d6eb71f3",
   "metadata": {},
   "outputs": [
    {
     "name": "stdout",
     "output_type": "stream",
     "text": [
      "[[1, 2, 3], [10, 20], 1000]\n"
     ]
    }
   ],
   "source": [
    "ls_list_num_2 = [[1,2,3],[10,20],1000]\n",
    "print(ls_list_num_2)"
   ]
  },
  {
   "cell_type": "code",
   "execution_count": 89,
   "id": "33495192-8999-41a5-8c05-72d3b78b0415",
   "metadata": {},
   "outputs": [
    {
     "name": "stdout",
     "output_type": "stream",
     "text": [
      "[]\n",
      "[]\n"
     ]
    }
   ],
   "source": [
    "ls_list_none =[]\n",
    "ls_list_none1 = list()\n",
    "\n",
    "print(ls_list_none)\n",
    "print(ls_list_none1)"
   ]
  },
  {
   "cell_type": "markdown",
   "id": "cf50e747-da74-4a86-949a-f7d5b46dd339",
   "metadata": {},
   "source": [
    "#### Tuple :리스트나 딕셔너리등은 그 안에 있는 요소값을 수정할 수있음. 그러나 튜플은 요솟값 수정이 불가능함."
   ]
  },
  {
   "cell_type": "code",
   "execution_count": 105,
   "id": "c933b47f-a954-4840-9486-0e343d66efab",
   "metadata": {},
   "outputs": [],
   "source": [
    "t_tuple_list_1 =(1,2,[1,2,4])"
   ]
  },
  {
   "cell_type": "code",
   "execution_count": 106,
   "id": "f7a0bbd6-1165-48eb-a2dd-a92cead4770a",
   "metadata": {},
   "outputs": [
    {
     "name": "stdout",
     "output_type": "stream",
     "text": [
      "1\n"
     ]
    }
   ],
   "source": [
    "print(t_tuple_list_1[2][0])"
   ]
  },
  {
   "cell_type": "code",
   "execution_count": 107,
   "id": "c85f437e-d54e-4432-a589-ccd3df2dac55",
   "metadata": {},
   "outputs": [],
   "source": [
    "t_tuple_list_1[2][0] =100"
   ]
  },
  {
   "cell_type": "code",
   "execution_count": 113,
   "id": "ede26f39-162b-49ee-8153-6f416b1ef034",
   "metadata": {},
   "outputs": [
    {
     "name": "stdout",
     "output_type": "stream",
     "text": [
      "100\n"
     ]
    }
   ],
   "source": [
    "print(t_tuple_list_1[2][0])\n",
    "# t_tuple_list_1의 2번째 요소는 리스트이기에 변경이 가능하다.\n"
   ]
  },
  {
   "cell_type": "code",
   "execution_count": 111,
   "id": "fa251fb7-9e47-4520-9133-6ee19bd113fb",
   "metadata": {},
   "outputs": [
    {
     "name": "stdout",
     "output_type": "stream",
     "text": [
      "2\n"
     ]
    }
   ],
   "source": [
    "print(t_tuple_list_1[1])"
   ]
  },
  {
   "cell_type": "code",
   "execution_count": 115,
   "id": "bc660f62-c123-42c7-89c7-27c3990fe678",
   "metadata": {},
   "outputs": [
    {
     "ename": "TypeError",
     "evalue": "'tuple' object does not support item assignment",
     "output_type": "error",
     "traceback": [
      "\u001b[1;31m---------------------------------------------------------------------------\u001b[0m",
      "\u001b[1;31mTypeError\u001b[0m                                 Traceback (most recent call last)",
      "Cell \u001b[1;32mIn[115], line 1\u001b[0m\n\u001b[1;32m----> 1\u001b[0m t_tuple_list_1[\u001b[38;5;241m1\u001b[39m] \u001b[38;5;241m=\u001b[39m\u001b[38;5;241m100\u001b[39m\n",
      "\u001b[1;31mTypeError\u001b[0m: 'tuple' object does not support item assignment"
     ]
    }
   ],
   "source": [
    "t_tuple_list_1[1] =100"
   ]
  },
  {
   "cell_type": "code",
   "execution_count": 118,
   "id": "6dba569d-b3a5-4e33-a901-46864426415a",
   "metadata": {},
   "outputs": [],
   "source": [
    "t_tuple_none = ()\n",
    "t_tuple_none = tuple()"
   ]
  },
  {
   "cell_type": "code",
   "execution_count": 119,
   "id": "e06e9ba2-8a6d-4f18-afea-c3f37dd293ef",
   "metadata": {},
   "outputs": [],
   "source": [
    "t_tuple_none = (1,2,4,6)"
   ]
  },
  {
   "cell_type": "code",
   "execution_count": 120,
   "id": "e558bf20-f3e6-4cb9-b717-8bccc6de21e9",
   "metadata": {},
   "outputs": [
    {
     "name": "stdout",
     "output_type": "stream",
     "text": [
      "(1, 2, 4, 6)\n"
     ]
    }
   ],
   "source": [
    "print(t_tuple_none)"
   ]
  },
  {
   "cell_type": "markdown",
   "id": "ff3aece6-f10d-4b84-9992-722d970dd40c",
   "metadata": {},
   "source": [
    "## DICTIONARY"
   ]
  },
  {
   "cell_type": "code",
   "execution_count": 125,
   "id": "05fb261f-99ae-4456-8444-595ae9ff78f5",
   "metadata": {
    "scrolled": true
   },
   "outputs": [
    {
     "name": "stdout",
     "output_type": "stream",
     "text": [
      "{}\n"
     ]
    }
   ],
   "source": [
    "dict_dictionay_none ={}\n",
    "dict_dictionay_none =dict()\n",
    "\n",
    "# 동일\n",
    "\n",
    "print(dict_dictionay_none)\n"
   ]
  },
  {
   "cell_type": "code",
   "execution_count": 124,
   "id": "ff60ad92-6ad3-4182-a50a-cd63604579dc",
   "metadata": {},
   "outputs": [
    {
     "name": "stdout",
     "output_type": "stream",
     "text": [
      "{'pi': 3.14, 'e': 2.74, 'g': 9.8}\n",
      "{'서울': '한국', '평양': '북한', '일본': '도쿄', '미국': '워싱턴DC'}\n"
     ]
    }
   ],
   "source": [
    "dict_dictionay_num_1 = {\"pi\" : 3.14, \"e\":2.74, \"g\":9.8}\n",
    "dict_dictionay_String_1 = {\"서울\" : \"한국\", \"평양\": \"북한\", \"일본\":\"도쿄\",\"미국\":\"워싱턴DC\"}\n",
    "print(dict_dictionay_num_1)\n",
    "print(dict_dictionay_String_1)"
   ]
  },
  {
   "cell_type": "code",
   "execution_count": 128,
   "id": "01f22059-084d-43da-8cf9-ef89669b1280",
   "metadata": {},
   "outputs": [
    {
     "name": "stdout",
     "output_type": "stream",
     "text": [
      "{'a': [1, 2], 'b': ['A', 'B']}\n"
     ]
    }
   ],
   "source": [
    "dict_dictionary_list_1={\"a\":[1,2],\"b\":[\"A\",\"B\"]}\n",
    "print(dict_dictionary_list_1)"
   ]
  },
  {
   "cell_type": "code",
   "execution_count": 130,
   "id": "52b27ecd-1b63-4503-828b-b370d9d1195f",
   "metadata": {},
   "outputs": [
    {
     "data": {
      "text/plain": [
       "dict"
      ]
     },
     "execution_count": 130,
     "metadata": {},
     "output_type": "execute_result"
    }
   ],
   "source": [
    "zzz= {}\n",
    "type(zzz)"
   ]
  },
  {
   "cell_type": "code",
   "execution_count": 131,
   "id": "58e9be82-3256-45d3-98fe-5214b6476f46",
   "metadata": {},
   "outputs": [],
   "source": [
    "s_set_none = set()"
   ]
  },
  {
   "cell_type": "code",
   "execution_count": 132,
   "id": "8be7a62e-374d-4ee0-b217-69de8fbd58d0",
   "metadata": {},
   "outputs": [],
   "source": [
    "s_set_int = {3,1,5}"
   ]
  },
  {
   "cell_type": "code",
   "execution_count": 142,
   "id": "c315ef8f-6869-4bd6-a3e4-28bfb33730ea",
   "metadata": {},
   "outputs": [
    {
     "name": "stdout",
     "output_type": "stream",
     "text": [
      "set()\n",
      "{1, 3, 5}\n",
      "<class 'set'>\n"
     ]
    }
   ],
   "source": [
    "print(s_set_none)\n",
    "print(s_set_int)\n",
    "print(type(s_set_none))"
   ]
  },
  {
   "cell_type": "code",
   "execution_count": 135,
   "id": "00921b70-ad49-49bc-a21c-e80667e9b7ec",
   "metadata": {},
   "outputs": [],
   "source": [
    "s_set_long = {220000000,-222000000}"
   ]
  },
  {
   "cell_type": "code",
   "execution_count": 136,
   "id": "58a8208b-d507-4239-99b9-bad6e60678e3",
   "metadata": {},
   "outputs": [],
   "source": [
    "s_set_byte = {-128, 127}"
   ]
  },
  {
   "cell_type": "code",
   "execution_count": 138,
   "id": "22136d8d-006c-4982-9ac8-ee22b514a2fe",
   "metadata": {},
   "outputs": [
    {
     "name": "stdout",
     "output_type": "stream",
     "text": [
      "{220000000, -222000000}\n",
      "<class 'set'>\n"
     ]
    }
   ],
   "source": [
    "print(s_set_long)\n",
    "print(type(s_set_byte))"
   ]
  },
  {
   "cell_type": "code",
   "execution_count": 140,
   "id": "9072e7db-e08c-49fa-966f-2ee24177c049",
   "metadata": {},
   "outputs": [],
   "source": [
    "s_set_float ={3.1,4.1}"
   ]
  },
  {
   "cell_type": "code",
   "execution_count": 143,
   "id": "10b6ed8f-3085-4ba7-be0d-c5dd4e9a7b1f",
   "metadata": {},
   "outputs": [],
   "source": [
    "s_set_double = {3.14, 4.27}\n",
    "# double은 8byte를 할당, float는 4byte를 할당. \n",
    "# double이 더 정밀하게 표현 가능."
   ]
  },
  {
   "cell_type": "code",
   "execution_count": 1,
   "id": "c7fe754d-bad5-4a7b-be83-929486b7a772",
   "metadata": {},
   "outputs": [],
   "source": [
    "s = {-0.2, -0.3}\n",
    "b = {True, True}"
   ]
  },
  {
   "cell_type": "code",
   "execution_count": 12,
   "id": "a6ece124-3ca4-4ab8-a947-546652744df1",
   "metadata": {},
   "outputs": [
    {
     "name": "stdout",
     "output_type": "stream",
     "text": [
      "255\n"
     ]
    }
   ],
   "source": [
    "num_hexadecimal = 0xff\n",
    "print(num_hexadecimal)"
   ]
  }
 ],
 "metadata": {
  "kernelspec": {
   "display_name": "Python 3 (ipykernel)",
   "language": "python",
   "name": "python3"
  },
  "language_info": {
   "codemirror_mode": {
    "name": "ipython",
    "version": 3
   },
   "file_extension": ".py",
   "mimetype": "text/x-python",
   "name": "python",
   "nbconvert_exporter": "python",
   "pygments_lexer": "ipython3",
   "version": "3.12.4"
  }
 },
 "nbformat": 4,
 "nbformat_minor": 5
}
