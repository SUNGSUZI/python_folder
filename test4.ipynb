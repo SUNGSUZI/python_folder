{
 "cells": [
  {
   "cell_type": "code",
   "execution_count": 15,
   "id": "6c95f231-d13b-463b-a70f-660bab14a160",
   "metadata": {},
   "outputs": [],
   "source": [
    "def divide(a, b):\n",
    "    result = 0\n",
    "    result = a / b\n",
    "    return result\n",
    "\n",
    "def minus(*args):\n",
    "    sum = 0\n",
    "    for el in args:\n",
    "        sum -= el\n",
    "    return sum \n",
    "\n",
    "#def share (a , b) :\n",
    "#    result = 0\n",
    "#    result = a // b\n",
    "#    return result\n",
    "\n",
    "def rest(a, b):\n",
    "    result = 0\n",
    "    result = a % b\n",
    "\n",
    "    return result\n"
   ]
  },
  {
   "cell_type": "code",
   "execution_count": 16,
   "id": "6ca26ec3-8b45-4054-82fb-691a94776964",
   "metadata": {},
   "outputs": [
    {
     "name": "stdout",
     "output_type": "stream",
     "text": [
      "-7\n"
     ]
    }
   ],
   "source": [
    "if  __name__ == \"__main__\" :\n",
    "    print( minus(5,2))\n",
    "    "
   ]
  },
  {
   "cell_type": "code",
   "execution_count": 59,
   "id": "5ba7e69f-a0b9-4024-9579-6aa22c4f102e",
   "metadata": {},
   "outputs": [
    {
     "name": "stdout",
     "output_type": "stream",
     "text": [
      "[2.5, 3.0]\n"
     ]
    }
   ],
   "source": [
    "def share (*param) : \n",
    "    if len(param) % 2 == 0 :\n",
    "        result = []\n",
    "        for i in range(0, len(param),2) :\n",
    "            if (i < len(param) -1) :\n",
    "                result.append(param[i] / param[i+1])\n",
    "    else :\n",
    "        result = \"몫을 구할 수 없습니다. 값을 더 입력해주세요\"\n",
    "    return result\n",
    "\n",
    "\n",
    "if  __name__ == \"__main__\" :\n",
    "    print(share(5,2,6,2))\n",
    "    \n"
   ]
  },
  {
   "cell_type": "code",
   "execution_count": null,
   "id": "0da32c1c-4f05-487c-bb38-5a3c4eeaff82",
   "metadata": {},
   "outputs": [],
   "source": []
  }
 ],
 "metadata": {
  "kernelspec": {
   "display_name": "Python 3 (ipykernel)",
   "language": "python",
   "name": "python3"
  },
  "language_info": {
   "codemirror_mode": {
    "name": "ipython",
    "version": 3
   },
   "file_extension": ".py",
   "mimetype": "text/x-python",
   "name": "python",
   "nbconvert_exporter": "python",
   "pygments_lexer": "ipython3",
   "version": "3.12.4"
  }
 },
 "nbformat": 4,
 "nbformat_minor": 5
}
